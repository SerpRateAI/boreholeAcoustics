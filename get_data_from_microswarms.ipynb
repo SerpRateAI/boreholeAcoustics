{
 "cells": [
  {
   "cell_type": "code",
   "execution_count": 1,
   "id": "f1a0ea60-b6d9-4a29-8add-84d226c581db",
   "metadata": {},
   "outputs": [],
   "source": [
    "%matplotlib inline\n",
    "import obspy\n",
    "import io\n",
    "import matplotlib.pyplot as plt"
   ]
  },
  {
   "cell_type": "code",
   "execution_count": null,
   "id": "4954886b-6e0f-4deb-a20c-2479fa84a9c4",
   "metadata": {},
   "outputs": [],
   "source": [
    "def get_stream_subsample_between_dates(path, startdate, enddate):\n",
    "    \"\"\"\n",
    "    Produces a subsample of a large stream mseed file bounded\n",
    "    by start and end dates.\n",
    "    \n",
    "    Parameters:\n",
    "    path (str): path to mseed file\n",
    "    startdate (UTC): startdate of return data\n",
    "    enddate (UTC): enddate of return data\n",
    "    \n",
    "    Returns:\n",
    "    stream: stream of subselected data\n",
    "    \"\"\"\n",
    "    # TODO: implement"
   ]
  },
  {
   "cell_type": "code",
   "execution_count": null,
   "id": "d9b1bde2-3120-497f-ada8-62a88c1bbe92",
   "metadata": {},
   "outputs": [],
   "source": [
    "#https://discourse.obspy.org/t/large-miniseed-files-read-in-chunks/1109\n",
    "\n",
    "path = '/media/sda/data/borehole/queryauth?net=7F&sta=A00&cha=GDH&starttime=2019-01-01&endtime=2021-01-01&format=miniseed&nodata=404'\n",
    "\n",
    "i = 0\n",
    "\n",
    "streams = []\n",
    "\n",
    "reclen = 512\n",
    "# chunksize = 100000 * reclen # Around 50 MB\n",
    "chunksize = 100000 * reclen # Around 50 MB\n",
    "with io.open(path, \"rb\") as fh:\n",
    "    while True:\n",
    "        with io.BytesIO() as buf:\n",
    "            c = fh.read(chunksize)\n",
    "            \n",
    "            if not c:\n",
    "                break\n",
    "            buf.write(c)\n",
    "            buf.seek(0, 0)\n",
    "            \n",
    "            if 'st' not in locals():\n",
    "                st = obspy.read(buf)\n",
    "            else:\n",
    "                st = st + obspy.read(buf)\n",
    "#             st = obspy.read(buf)\n",
    "#             streams.append(st)\n",
    "#             st = obspy.read(buf)\n",
    "#             if 'st' not in locals():\n",
    "#                 st = obspy.read(buf)\n",
    "#             else:\n",
    "#                 st_new = obspy.read(buf)\n",
    "#                 st = st.append(st_new)\n",
    "            \n",
    "#         # Do something useful!\n",
    "#         print(st)\n",
    "        \n",
    "        if i > 5:\n",
    "            break\n",
    "        else:\n",
    "            i += 1"
   ]
  }
 ],
 "metadata": {
  "kernelspec": {
   "display_name": "Python [conda env:borehole] *",
   "language": "python",
   "name": "conda-env-borehole-py"
  },
  "language_info": {
   "codemirror_mode": {
    "name": "ipython",
    "version": 3
   },
   "file_extension": ".py",
   "mimetype": "text/x-python",
   "name": "python",
   "nbconvert_exporter": "python",
   "pygments_lexer": "ipython3",
   "version": "3.8.10"
  }
 },
 "nbformat": 4,
 "nbformat_minor": 5
}
