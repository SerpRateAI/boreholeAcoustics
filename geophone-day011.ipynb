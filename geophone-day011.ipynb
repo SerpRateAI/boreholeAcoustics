{
 "cells": [
  {
   "cell_type": "code",
   "execution_count": 1,
   "id": "b29ffc8d-65ac-42db-a625-5699438a1ec5",
   "metadata": {},
   "outputs": [],
   "source": [
    "%matplotlib inline\n",
    "import pandas as pd\n",
    "import numpy as np\n",
    "import matplotlib.pyplot as plt\n",
    "from hydrophone_data_processing import load, preprocessing\n",
    "import glob\n",
    "import obspy\n",
    "\n",
    "import cartopy\n",
    "import cartopy.crs as ccrs\n",
    "from cartopy.mpl.gridliner import LONGITUDE_FORMATTER, LATITUDE_FORMATTER\n",
    "\n",
    "import matplotlib.pyplot as plt\n",
    "import matplotlib.ticker as mticker\n",
    "import cartopy.io.img_tiles as cimgt\n",
    "\n",
    "import gc\n",
    "\n",
    "inventory = obspy.read_inventory('fdsn-station_2021-06-29T11_00_50.xml', format=\"STATIONXML\")\n",
    "channels = inventory.networks[0].get_contents()['channels']\n",
    "networkdf = pd.DataFrame([inventory.get_coordinates(seed_id=id) for id in channels], index=[id for id in channels])\n",
    "networkdf['station'] = [c.split('.')[1] for c in channels]\n",
    "networkdf['component'] = [c.split('.')[-1] for c in channels]"
   ]
  },
  {
   "cell_type": "code",
   "execution_count": 2,
   "id": "4f35b28a-e49c-4fbb-aa7c-1f6ee9446de1",
   "metadata": {},
   "outputs": [],
   "source": [
    "stations = !ls /media/sda/data/robdata/PASSCAL/Main_deployment/DAYS/"
   ]
  },
  {
   "cell_type": "code",
   "execution_count": 3,
   "id": "67433695-b44f-40b6-ad41-310fec69675e",
   "metadata": {},
   "outputs": [],
   "source": [
    "station_list = ['B19', 'B20', 'B07', 'B03', 'B15', 'A19', 'A18', 'A02', 'A15']\n",
    "dataloc = '/media/sda/data/robdata/PASSCAL/Main_deployment/DAYS/'\n",
    "\n",
    "\n",
    "# paths = np.array([glob.glob(dataloc+station+'/*GHZ*.011') for station in station_list]).flatten()\n",
    "paths = [glob.glob(dataloc+station+'/*GHZ*.011') for station in stations]\n",
    "for i, p in enumerate(paths):\n",
    "    if len(p) == 0:\n",
    "        paths.pop(i)\n",
    "paths = np.array(paths).flatten()"
   ]
  },
  {
   "cell_type": "code",
   "execution_count": 4,
   "id": "6b3b18c1-93ba-4520-8866-d7a95668f508",
   "metadata": {},
   "outputs": [
    {
     "name": "stdout",
     "output_type": "stream",
     "text": [
      "Help on built-in function collect in module gc:\n",
      "\n",
      "collect(generation=2)\n",
      "    Run the garbage collector.\n",
      "    \n",
      "    With no arguments, run a full collection.  The optional argument\n",
      "    may be an integer specifying which generation to collect.  A ValueError\n",
      "    is raised if the generation number is invalid.\n",
      "    \n",
      "    The number of unreachable objects is returned.\n",
      "\n"
     ]
    }
   ],
   "source": [
    "import gc\n",
    "help(gc.collect)"
   ]
  },
  {
   "cell_type": "code",
   "execution_count": 5,
   "id": "cebe1004-92a8-4d24-be57-9ae408e5ede7",
   "metadata": {},
   "outputs": [],
   "source": [
    "stream = load.get_raw_stream(paths)\n",
    "# s = obspy.UTCDateTime('2020-01-11T14:50:00')\n",
    "# e = obspy.UTCDateTime('2020-01-11T15:07:00')\n",
    "# x = stream.plot(starttime=s, endtime=e)"
   ]
  },
  {
   "cell_type": "code",
   "execution_count": 6,
   "id": "ca53772f-53ca-4ae6-a59b-5808acd10742",
   "metadata": {},
   "outputs": [
    {
     "data": {
      "text/plain": [
       "38 Trace(s) in Stream:\n",
       "\n",
       "7F.A12..BHZ | 2020-01-11T00:00:00.000000Z - 2020-01-11T23:59:59.998000Z | 500.0 Hz, 43200000 samples\n",
       "...\n",
       "(36 other traces)\n",
       "...\n",
       "7F.B20..BHZ | 2020-01-11T00:00:00.000000Z - 2020-01-11T23:59:59.998000Z | 500.0 Hz, 43200000 samples\n",
       "\n",
       "[Use \"print(Stream.__str__(extended=True))\" to print all Traces]"
      ]
     },
     "execution_count": 6,
     "metadata": {},
     "output_type": "execute_result"
    }
   ],
   "source": [
    "stream.decimate(factor=2)"
   ]
  },
  {
   "cell_type": "code",
   "execution_count": 7,
   "id": "6b46be34-6ebf-487c-bc07-5f15c5cc6a62",
   "metadata": {},
   "outputs": [
    {
     "data": {
      "text/plain": [
       "38 Trace(s) in Stream:\n",
       "\n",
       "7F.A12..BHZ | 2020-01-11T00:00:00.000000Z - 2020-01-11T23:59:59.998000Z | 500.0 Hz, 43200000 samples\n",
       "...\n",
       "(36 other traces)\n",
       "...\n",
       "7F.B20..BHZ | 2020-01-11T00:00:00.000000Z - 2020-01-11T23:59:59.998000Z | 500.0 Hz, 43200000 samples\n",
       "\n",
       "[Use \"print(Stream.__str__(extended=True))\" to print all Traces]"
      ]
     },
     "execution_count": 7,
     "metadata": {},
     "output_type": "execute_result"
    }
   ],
   "source": [
    "stream.detrend('demean')"
   ]
  },
  {
   "cell_type": "code",
   "execution_count": 8,
   "id": "537baa83-3322-4953-bf3c-2590a72eab72",
   "metadata": {},
   "outputs": [
    {
     "data": {
      "text/plain": [
       "38 Trace(s) in Stream:\n",
       "\n",
       "7F.A12..BHZ | 2020-01-11T00:00:00.000000Z - 2020-01-11T23:59:59.998000Z | 500.0 Hz, 43200000 samples\n",
       "...\n",
       "(36 other traces)\n",
       "...\n",
       "7F.B20..BHZ | 2020-01-11T00:00:00.000000Z - 2020-01-11T23:59:59.998000Z | 500.0 Hz, 43200000 samples\n",
       "\n",
       "[Use \"print(Stream.__str__(extended=True))\" to print all Traces]"
      ]
     },
     "execution_count": 8,
     "metadata": {},
     "output_type": "execute_result"
    }
   ],
   "source": [
    "stream.filter(type='highpass', corners=4, freq=40, zerophase=True)"
   ]
  },
  {
   "cell_type": "code",
   "execution_count": 9,
   "id": "693f6996-b9bc-4e15-8fb4-586a5213b874",
   "metadata": {},
   "outputs": [
    {
     "data": {
      "text/plain": [
       "38 Trace(s) in Stream:\n",
       "\n",
       "7F.A12..BHZ | 2020-01-11T00:00:00.000000Z - 2020-01-11T23:59:59.990000Z | 100.0 Hz, 8640000 samples\n",
       "...\n",
       "(36 other traces)\n",
       "...\n",
       "7F.B20..BHZ | 2020-01-11T00:00:00.000000Z - 2020-01-11T23:59:59.990000Z | 100.0 Hz, 8640000 samples\n",
       "\n",
       "[Use \"print(Stream.__str__(extended=True))\" to print all Traces]"
      ]
     },
     "execution_count": 9,
     "metadata": {},
     "output_type": "execute_result"
    }
   ],
   "source": [
    "# stream.decimate(factor=5)\n",
    "# preprocessing.square_stream(stream)\n",
    "for tr in stream:\n",
    "    tr.data = np.abs(tr.data)\n",
    "stream.decimate(factor=5, no_filter=True)"
   ]
  },
  {
   "cell_type": "code",
   "execution_count": 10,
   "id": "20647064-64dc-4e6b-bb07-075e140054b5",
   "metadata": {},
   "outputs": [
    {
     "data": {
      "text/plain": [
       "38 Trace(s) in Stream:\n",
       "\n",
       "7F.A12..BHZ | 2020-01-11T00:00:00.000000Z - 2020-01-11T23:59:59.990000Z | 100.0 Hz, 8640000 samples\n",
       "...\n",
       "(36 other traces)\n",
       "...\n",
       "7F.B20..BHZ | 2020-01-11T00:00:00.000000Z - 2020-01-11T23:59:59.990000Z | 100.0 Hz, 8640000 samples\n",
       "\n",
       "[Use \"print(Stream.__str__(extended=True))\" to print all Traces]"
      ]
     },
     "execution_count": 10,
     "metadata": {},
     "output_type": "execute_result"
    }
   ],
   "source": [
    "stream"
   ]
  },
  {
   "cell_type": "code",
   "execution_count": 11,
   "id": "e1535e57-178a-41fd-92af-12b1c050f4b1",
   "metadata": {},
   "outputs": [],
   "source": [
    "# s = obspy.UTCDateTime('2020-01-11T14:50:00')\n",
    "# e = obspy.UTCDateTime('2020-01-11T15:07:00')\n",
    "# # x = stream.plot(starttime=s, endtime=e)\n",
    "# x = stream.plot()"
   ]
  },
  {
   "cell_type": "code",
   "execution_count": 12,
   "id": "ae8dc0d0-6eaa-460d-877f-81984bf09958",
   "metadata": {},
   "outputs": [],
   "source": [
    "# w[0].stats"
   ]
  },
  {
   "cell_type": "code",
   "execution_count": 13,
   "id": "2bebf538-340d-42b1-b958-f753ac49a1ea",
   "metadata": {},
   "outputs": [],
   "source": [
    "# stream.traces[0].stats"
   ]
  },
  {
   "cell_type": "code",
   "execution_count": 14,
   "id": "82b2f7bc-8435-43b7-8c35-a6e73a914ea8",
   "metadata": {},
   "outputs": [],
   "source": [
    "windows = stream.slide(window_length=10, step=10)\n",
    "\n",
    "maxamp_df = pd.DataFrame()\n",
    "\n",
    "for window in windows:\n",
    "    stations = [tr.stats.station for tr in window]\n",
    "    ampmax = window.max()\n",
    "    row = dict(zip(stations, ampmax))\n",
    "    wdf = pd.DataFrame(row, index=[pd.to_datetime(str(window[0].stats.starttime))])\n",
    "    maxamp_df = pd.concat([maxamp_df, wdf])"
   ]
  },
  {
   "cell_type": "code",
   "execution_count": 15,
   "id": "57d2f62a-7390-4dd2-b109-91f950f73fdb",
   "metadata": {},
   "outputs": [],
   "source": [
    "# x = [row for row in maxamp_df.iterrows()]"
   ]
  },
  {
   "cell_type": "code",
   "execution_count": 16,
   "id": "601c5461-0414-4b76-8e62-269cfcf57e5b",
   "metadata": {},
   "outputs": [],
   "source": [
    "# x[0]"
   ]
  },
  {
   "cell_type": "code",
   "execution_count": 17,
   "id": "71a07069-acea-43b8-bc1b-97153aa8f47c",
   "metadata": {},
   "outputs": [
    {
     "data": {
      "image/png": "[encoded data removed]",
      "text/html": [
       "<div style=\"vertical-align: middle;\"><strong>cool</strong> </div><div class=\"cmap\"><img alt=\"cool colormap\" title=\"cool\" style=\"border: 1px solid #555;\" src=\"data:image/png;base64,iVBORw0KGgoAAAANSUhEUgAAAgAAAABACAYAAABsv8+/AAAAE3RFWHRUaXRsZQBjb29sIGNvbG9ybWFwN9+MxQAAABl0RVh0RGVzY3JpcHRpb24AY29vbCBjb2xvcm1hcLxtHF0AAAAwdEVYdEF1dGhvcgBNYXRwbG90bGliIHYzLjQuMywgaHR0cHM6Ly9tYXRwbG90bGliLm9yZwld89MAAAAydEVYdFNvZnR3YXJlAE1hdHBsb3RsaWIgdjMuNC4zLCBodHRwczovL21hdHBsb3RsaWIub3JnJ/ts9AAAAWBJREFUeJzt1rEKg0AURcGn///NbhorKwWFwJlplhB2LyTN2WatNTOzrZnyOee5v/X9cZ7z0fsv79/duf07Xvbf+h/sf7v/+nvH5fPD+/b/bP/pO9d7D+/b/3Z/HwAgRwAAQJAAAIAgAQAAQQIAAIIEAAAECQAACBIAABAkAAAgSAAAQJAAAIAgAQAAQQIAAIIEAAAECQAACBIAABAkAAAgSAAAQJAAAIAgAQAAQQIAAIIEAAAECQAACBIAABAkAAAgSAAAQJAAAIAgAQAAQQIAAIIEAAAECQAACBIAABAkAAAgSAAAQJAAAIAgAQAAQQIAAIIEAAAECQAACBIAABAkAAAgSAAAQJAAAIAgAQAAQQIAAIIEAAAECQAACBIAABAkAAAgSAAAQJAAAIAgAQAAQQIAAIIEAAAECQAACBIAABAkAAAgSAAAQJAAAIAgAQAAQQIAAIIEAAAECQAACPoBsqPsfeghrZ0AAAAASUVORK5CYII=\"></div><div style=\"vertical-align: middle; max-width: 514px; display: flex; justify-content: space-between;\"><div style=\"float: left;\"><div title=\"#00ffffff\" style=\"display: inline-block; width: 1em; height: 1em; margin: 0; vertical-align: middle; border: 1px solid #555; background-color: #00ffffff;\"></div> under</div><div style=\"margin: 0 auto; display: inline-block;\">bad <div title=\"#00000000\" style=\"display: inline-block; width: 1em; height: 1em; margin: 0; vertical-align: middle; border: 1px solid #555; background-color: #00000000;\"></div></div><div style=\"float: right;\">over <div title=\"#ff00ffff\" style=\"display: inline-block; width: 1em; height: 1em; margin: 0; vertical-align: middle; border: 1px solid #555; background-color: #ff00ffff;\"></div></div>"
      ],
      "text/plain": [
       "<matplotlib.colors.LinearSegmentedColormap at 0x7efd605dac70>"
      ]
     },
     "execution_count": 17,
     "metadata": {},
     "output_type": "execute_result"
    }
   ],
   "source": [
    "import matplotlib\n",
    "cmap = matplotlib.cm.cool\n",
    "cmap"
   ]
  },
  {
   "cell_type": "code",
   "execution_count": 18,
   "id": "26f7de86-7eac-4da6-88e0-7705256ee206",
   "metadata": {},
   "outputs": [],
   "source": [
    "# # label the markers\n",
    "# for row in networkdf.iterrows():\n",
    "#     row = row[1]\n",
    "#     name = row.name.split('.')[1]\n",
    "#     # print(name)\n",
    "#     lat = row.latitude\n",
    "#     lon = row.longitude\n",
    "#     ax.text(s=name, x=lon, y=lat, fontsize=15)\n",
    "# # ax.text(s='ZZZZZ', x=networkdf.longitude[0]-0.0005, y=networkdf.latitude[0])\n",
    "\n",
    "def make_map(lats, lons, maxamps, timeindex, debug=True, fileloc=''):\n",
    "    fig, ax = plt.subplots(figsize=(20, 20))\n",
    "    ax.axis('off')\n",
    "\n",
    "    proj = ccrs.PlateCarree()\n",
    "    ax = plt.axes(projection=proj)\n",
    "    ax.coastlines(resolution='110m')\n",
    "    gl = ax.gridlines(crs=ccrs.PlateCarree()        \n",
    "                    , draw_labels=True\n",
    "                    , linewidth=2\n",
    "                    , color='gray'\n",
    "                    , alpha=0.5\n",
    "                    , linestyle='--')\n",
    "    gl.xlabel_style = {'size': 15}                                     # change label font sizes\n",
    "    gl.ylabel_style = {'size': 15}\n",
    "    cmaps = cmap(np.log10(maxamps)/np.log10(maxamp_df.max()))\n",
    "    # for c, lon, lat in zip(cmap(maxamps/maxamp_df.max()), lons, lats):\n",
    "    for c, lon, lat in zip(cmaps, lons, lats):\n",
    "        # ax.plot(lon, lat, marker='o', markersize=20, color=cmap(maxamps/maxamp_df.max())[0])\n",
    "        ax.plot(lon, lat, marker='o', markersize=20, color=c)\n",
    "        \n",
    "        \n",
    "    if debug == False:\n",
    "        fig.savefig(fileloc+'{}.png'.format(timeindex), dpi=150, bbox_inches='tight')\n",
    "        plt.clf()\n",
    "        plt.close(fig)\n",
    "        del fig, ax, proj, gl, cmaps, c, lon, lat\n",
    "        gc.collect()\n",
    "\n",
    "# timeindex = 300\n",
    "# row = maxamp_df.iloc[timeindex]\n",
    "# lons = networkdf[networkdf.station.isin(row.index) & (networkdf.component=='GHZ')].longitude\n",
    "# lats = networkdf[networkdf.station.isin(row.index) & (networkdf.component=='GHZ')].latitude\n",
    "# for n in np.arange(0, 100, 1):\n",
    "#     make_map(lats=lats, lons=lons, timeindex=timeindex, maxamps=row, debug=False)\n",
    "# else:\n",
    "#     print('done')"
   ]
  },
  {
   "cell_type": "code",
   "execution_count": 19,
   "id": "b0a36fd5-eec1-48c2-b512-168d04a1acc5",
   "metadata": {},
   "outputs": [],
   "source": [
    "def do(row):\n",
    "    row = row[1]\n",
    "    lons = networkdf[networkdf.station.isin(row.index) & (networkdf.component=='GHZ')].longitude\n",
    "    lats = networkdf[networkdf.station.isin(row.index) & (networkdf.component=='GHZ')].latitude\n",
    "    make_map(lats=lats, lons=lons, timeindex=row[0], maxamps=row, debug=False, fileloc='/media/sda/data/borehole/maps/')\n",
    "    del row, lons, lats"
   ]
  },
  {
   "cell_type": "code",
   "execution_count": null,
   "id": "18b2c0fa-9746-4e81-9597-f3d06e299119",
   "metadata": {},
   "outputs": [],
   "source": [
    "from multiprocessing import Pool\n",
    "\n",
    "rows = [row for row in maxamp_df.iterrows()]\n",
    "\n",
    "pool = Pool(10)\n",
    "pool.map(do, rows)\n",
    "pool.close()\n",
    "print('check your maps motherfucker')"
   ]
  },
  {
   "cell_type": "code",
   "execution_count": null,
   "id": "518e26c5-a574-405f-89fb-388d9151c250",
   "metadata": {},
   "outputs": [],
   "source": [
    "# for i, row in enumerate(maxamp_df.iterrows()):\n",
    "#     row = row[1]\n",
    "#     lons = networkdf[networkdf.station.isin(row.index) & (networkdf.component=='GHZ')].longitude\n",
    "#     lats = networkdf[networkdf.station.isin(row.index) & (networkdf.component=='GHZ')].latitude\n",
    "#     make_map(lats=lats, lons=lons, timeindex=i, maxamps=row, debug=False, fileloc='/media/sda/data/borehole/maps/')"
   ]
  },
  {
   "cell_type": "code",
   "execution_count": null,
   "id": "e49334be-62bb-44e8-a7dc-539974c5611e",
   "metadata": {},
   "outputs": [],
   "source": [
    "# print('check out your maps motherfucker')"
   ]
  },
  {
   "cell_type": "code",
   "execution_count": null,
   "id": "0ff2ed54-ad93-4781-8d79-fe40eacbf448",
   "metadata": {},
   "outputs": [],
   "source": [
    "# for row in maxamp_df.iterrows():\n",
    "#     for i in row.index:\n",
    "#         lat = networkdf[networkdf.station==i].latitude.values[0]\n",
    "#         lon = networkdf[networkdf.station==i].longitude.values[0]\n",
    "#         # maxamp = row.loc[i]\n",
    "#         # del lat, lon, maxamp\n",
    "\n"
   ]
  },
  {
   "cell_type": "code",
   "execution_count": null,
   "id": "de5001ea-f985-4fc8-8a5c-776bdc9a1c04",
   "metadata": {},
   "outputs": [],
   "source": [
    "# a02 = stream[0]\n",
    "# a15 = stream[1]\n",
    "# a18 = stream[2]\n",
    "# a19 = stream[3]\n",
    "# b03 = stream[4]\n",
    "# b07 = stream[5]\n",
    "# b15 = stream[6]\n",
    "# b19 = stream[7]\n",
    "# b20 = stream[8]\n",
    "\n",
    "# ordered = [b20, b07, b03, b15, b19, a19, a18, a02, a15, ]"
   ]
  },
  {
   "cell_type": "code",
   "execution_count": null,
   "id": "df0777b2-76ee-4333-aa4a-4430061e88e3",
   "metadata": {},
   "outputs": [],
   "source": [
    "# networkdf.sort_values(by=['latitude', 'longitude'])"
   ]
  },
  {
   "cell_type": "code",
   "execution_count": null,
   "id": "372abce8-ceeb-4337-92c8-958258a0982c",
   "metadata": {},
   "outputs": [],
   "source": [
    "# len(ordered)"
   ]
  },
  {
   "cell_type": "code",
   "execution_count": null,
   "id": "6d89d815-6304-4e77-b03d-1d3891521d00",
   "metadata": {},
   "outputs": [],
   "source": [
    "# fig, ax = plt.subplots(len(ordered), 1, figsize=(15, 15), sharex=True)\n",
    "\n",
    "# for i, tr in enumerate(ordered):\n",
    "#     ax[i].plot(tr.times(), tr.data)\n",
    "#     ax[i].set_yscale('log')"
   ]
  }
 ],
 "metadata": {
  "kernelspec": {
   "display_name": "Python [conda env:borehole] *",
   "language": "python",
   "name": "conda-env-borehole-py"
  },
  "language_info": {
   "codemirror_mode": {
    "name": "ipython",
    "version": 3
   },
   "file_extension": ".py",
   "mimetype": "text/x-python",
   "name": "python",
   "nbconvert_exporter": "python",
   "pygments_lexer": "ipython3",
   "version": "3.8.12"
  }
 },
 "nbformat": 4,
 "nbformat_minor": 5
}
