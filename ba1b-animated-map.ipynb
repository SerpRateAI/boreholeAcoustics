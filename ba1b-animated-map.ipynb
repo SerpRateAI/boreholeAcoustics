{
 "cells": [
  {
   "cell_type": "code",
   "execution_count": 1,
   "id": "e8595cd7-367c-45bf-bd27-26a3d09b21a5",
   "metadata": {},
   "outputs": [],
   "source": [
    "%matplotlib inline\n",
    "import pandas as pd\n",
    "import numpy as np\n",
    "import matplotlib.pyplot as plt\n",
    "from hydrophone_data_processing import load, preprocessing\n",
    "import glob\n",
    "import obspy\n",
    "\n",
    "inventory = obspy.read_inventory('fdsn-station_2021-06-29T11_00_50.xml', format=\"STATIONXML\")\n",
    "channels = inventory.networks[0].get_contents()['channels']\n",
    "networkdf = pd.DataFrame([inventory.get_coordinates(seed_id=id) for id in channels], index=[id for id in channels])\n",
    "networkdf['station'] = [c.split('.')[1] for c in channels]\n",
    "networkdf['component'] = [c.split('.')[-1] for c in channels]"
   ]
  },
  {
   "cell_type": "code",
   "execution_count": 2,
   "id": "cd026519-4292-493b-8de4-4ba9011e16e0",
   "metadata": {},
   "outputs": [],
   "source": [
    "event = 2 # 2"
   ]
  },
  {
   "cell_type": "code",
   "execution_count": 3,
   "id": "f3aca878-67d0-4a1d-9704-e21bd0aaa701",
   "metadata": {},
   "outputs": [],
   "source": [
    "stations = !ls /media/sda/data/robdata/PASSCAL/Main_deployment/DAYS/"
   ]
  },
  {
   "cell_type": "code",
   "execution_count": 4,
   "id": "89fda74e-7c7f-4439-aff6-0e2a0572c51e",
   "metadata": {},
   "outputs": [],
   "source": [
    "dataloc = '/media/sda/data/robdata/PASSCAL/Main_deployment/DAYS/'\n",
    "\n",
    "\n",
    "paths = [glob.glob(dataloc+station+'/*GHZ*.011') for station in stations]\n",
    "for i, p in enumerate(paths):\n",
    "    if len(p) == 0:\n",
    "        paths.pop(i)\n",
    "paths = np.array(paths).flatten()"
   ]
  },
  {
   "cell_type": "code",
   "execution_count": 5,
   "id": "beb6d57e-eb14-41bb-9ffc-157f409247b7",
   "metadata": {},
   "outputs": [],
   "source": [
    "stream = load.get_raw_stream(paths)\n"
   ]
  },
  {
   "cell_type": "code",
   "execution_count": 6,
   "id": "a35b68bd-4443-4c6b-9b46-b5cf42888e6f",
   "metadata": {},
   "outputs": [],
   "source": [
    "if event == 1:\n",
    "    stream.trim(starttime=obspy.UTCDateTime('2020-01-11T14:30:00')\n",
    "               ,endtime=obspy.UTCDateTime('2020-01-11T15:30:00'))\n",
    "elif event == 2:\n",
    "    stream.trim(starttime=obspy.UTCDateTime('2020-01-11T19:00:00')\n",
    "               ,endtime=obspy.UTCDateTime('2020-01-11T20:00:00'))\n",
    "elif event == 3:\n",
    "    stream.trim(starttime=obspy.UTCDateTime('2020-01-11T19:45:00')\n",
    "           ,endtime=obspy.UTCDateTime('2020-01-11T19:51:00'))\n",
    "else:\n",
    "    stream.trim(starttime=obspy.UTCDateTime('2020-01-11T12:00:00'))\n"
   ]
  },
  {
   "cell_type": "code",
   "execution_count": 7,
   "id": "383cf197-e181-4080-89c3-45cc920a45b8",
   "metadata": {},
   "outputs": [
    {
     "data": {
      "text/plain": [
       "38 Trace(s) in Stream:\n",
       "\n",
       "7F.A12..BHZ | 2020-01-11T19:00:00.000000Z - 2020-01-11T20:00:00.000000Z | 500.0 Hz, 1800001 samples\n",
       "...\n",
       "(36 other traces)\n",
       "...\n",
       "7F.B20..BHZ | 2020-01-11T19:00:00.000000Z - 2020-01-11T20:00:00.000000Z | 500.0 Hz, 1800001 samples\n",
       "\n",
       "[Use \"print(Stream.__str__(extended=True))\" to print all Traces]"
      ]
     },
     "execution_count": 7,
     "metadata": {},
     "output_type": "execute_result"
    }
   ],
   "source": [
    "stream.decimate(factor=2)"
   ]
  },
  {
   "cell_type": "code",
   "execution_count": 8,
   "id": "ca7e0c49-d478-4ede-955a-25f43955db31",
   "metadata": {},
   "outputs": [
    {
     "data": {
      "text/plain": [
       "38 Trace(s) in Stream:\n",
       "\n",
       "7F.A12..BHZ | 2020-01-11T19:00:00.000000Z - 2020-01-11T20:00:00.000000Z | 500.0 Hz, 1800001 samples\n",
       "...\n",
       "(36 other traces)\n",
       "...\n",
       "7F.B20..BHZ | 2020-01-11T19:00:00.000000Z - 2020-01-11T20:00:00.000000Z | 500.0 Hz, 1800001 samples\n",
       "\n",
       "[Use \"print(Stream.__str__(extended=True))\" to print all Traces]"
      ]
     },
     "execution_count": 8,
     "metadata": {},
     "output_type": "execute_result"
    }
   ],
   "source": [
    "stream.detrend('demean')"
   ]
  },
  {
   "cell_type": "code",
   "execution_count": 9,
   "id": "19224570-d649-4f84-9acf-cf91ef51d67d",
   "metadata": {},
   "outputs": [
    {
     "data": {
      "text/plain": [
       "38 Trace(s) in Stream:\n",
       "\n",
       "7F.A12..BHZ | 2020-01-11T19:00:00.000000Z - 2020-01-11T20:00:00.000000Z | 500.0 Hz, 1800001 samples\n",
       "...\n",
       "(36 other traces)\n",
       "...\n",
       "7F.B20..BHZ | 2020-01-11T19:00:00.000000Z - 2020-01-11T20:00:00.000000Z | 500.0 Hz, 1800001 samples\n",
       "\n",
       "[Use \"print(Stream.__str__(extended=True))\" to print all Traces]"
      ]
     },
     "execution_count": 9,
     "metadata": {},
     "output_type": "execute_result"
    }
   ],
   "source": [
    "stream.filter(type='highpass', corners=4, freq=40, zerophase=True)"
   ]
  },
  {
   "cell_type": "code",
   "execution_count": 10,
   "id": "64ebcfad-c7e7-4adf-a206-26d78e888dc4",
   "metadata": {},
   "outputs": [
    {
     "data": {
      "text/plain": [
       "38 Trace(s) in Stream:\n",
       "\n",
       "7F.A12..BHZ | 2020-01-11T19:00:00.000000Z - 2020-01-11T20:00:00.000000Z | 100.0 Hz, 360001 samples\n",
       "...\n",
       "(36 other traces)\n",
       "...\n",
       "7F.B20..BHZ | 2020-01-11T19:00:00.000000Z - 2020-01-11T20:00:00.000000Z | 100.0 Hz, 360001 samples\n",
       "\n",
       "[Use \"print(Stream.__str__(extended=True))\" to print all Traces]"
      ]
     },
     "execution_count": 10,
     "metadata": {},
     "output_type": "execute_result"
    }
   ],
   "source": [
    "for tr in stream:\n",
    "    tr.data = np.abs(tr.data)\n",
    "stream.decimate(factor=5, no_filter=True)"
   ]
  },
  {
   "cell_type": "code",
   "execution_count": 11,
   "id": "72bcaeff-87e1-4cef-8949-8658ec4244ad",
   "metadata": {},
   "outputs": [
    {
     "name": "stdout",
     "output_type": "stream",
     "text": [
      "         network: 7F\n",
      "         station: A12\n",
      "        location: \n",
      "         channel: BHZ\n",
      "       starttime: 2020-01-11T19:00:00.000000Z\n",
      "         endtime: 2020-01-11T20:00:00.000000Z\n",
      "   sampling_rate: 100.0\n",
      "           delta: 0.01\n",
      "            npts: 360001\n",
      "           calib: 1.0\n",
      "         _format: MSEED\n",
      "           mseed: AttribDict({'dataquality': 'D', 'number_of_records': 1344, 'encoding': 'STEIM2', 'byteorder': '>', 'record_length': 4096, 'filesize': 99962880})\n",
      "      processing: ['ObsPy 1.2.2: trim(endtime=UTCDateTime(2020, 1, 11, 20, 0)::fill_value=None::nearest_sample=True::pad=False::starttime=UTCDateTime(2020, 1, 11, 19, 0))', \"ObsPy 1.2.2: filter(options={'freq': 250.0, 'maxorder': 12}::type='lowpass_cheby_2')\", 'ObsPy 1.2.2: decimate(factor=2::no_filter=False::strict_length=False)', \"ObsPy 1.2.2: detrend(options={}::type='demean')\", \"ObsPy 1.2.2: filter(options={'corners': 4, 'freq': 40, 'zerophase': True}::type='highpass')\", 'ObsPy 1.2.2: decimate(factor=5::no_filter=True::strict_length=False)']\n"
     ]
    }
   ],
   "source": [
    "for tr in stream:\n",
    "    print(tr.stats)\n",
    "    break"
   ]
  },
  {
   "cell_type": "code",
   "execution_count": 12,
   "id": "525d8fa0-1d1c-4231-9d9d-0928d26a0b6c",
   "metadata": {},
   "outputs": [
    {
     "data": {
      "text/plain": [
       "38 Trace(s) in Stream:\n",
       "\n",
       "7F.A12..BHZ | 2020-01-11T19:00:00.000000Z - 2020-01-11T20:00:00.000000Z | 100.0 Hz, 360001 samples\n",
       "...\n",
       "(36 other traces)\n",
       "...\n",
       "7F.B20..BHZ | 2020-01-11T19:00:00.000000Z - 2020-01-11T20:00:00.000000Z | 100.0 Hz, 360001 samples\n",
       "\n",
       "[Use \"print(Stream.__str__(extended=True))\" to print all Traces]"
      ]
     },
     "execution_count": 12,
     "metadata": {},
     "output_type": "execute_result"
    }
   ],
   "source": [
    "stream.filter(type='lowpass', corners=4, zerophase=True, freq=0.5)"
   ]
  },
  {
   "cell_type": "code",
   "execution_count": 21,
   "id": "fd7e0e54-6b51-4a83-a728-00a71e7ac038",
   "metadata": {},
   "outputs": [
    {
     "data": {
      "text/plain": [
       "(2800.0, 3200.0)"
      ]
     },
     "execution_count": 21,
     "metadata": {},
     "output_type": "execute_result"
    },
    {
     "data": {
      "image/png": "[encoded data removed]",
      "text/plain": [
       "<Figure size 1080x360 with 1 Axes>"
      ]
     },
     "metadata": {
      "needs_background": "light"
     },
     "output_type": "display_data"
    }
   ],
   "source": [
    "A01 = stream.select(id='7F.A01..BHZ')[0]\n",
    "B01 = stream.select(id='7F.B01..BHZ')[0]\n",
    "\n",
    "fig, ax = plt.subplots(figsize=(15, 5))\n",
    "\n",
    "ax.plot(A01.times(), A01.data, label='A01')\n",
    "ax.plot(B01.times(), B01.data, alpha=1, label='B01')\n",
    "\n",
    "ax.legend(fontsize=15)\n",
    "# ax.set_xlim(2410, 2450)\n",
    "# ax.set_xlim(1800, 2300)\n",
    "ax.set_xlim(2800, 3200)"
   ]
  },
  {
   "cell_type": "code",
   "execution_count": 14,
   "id": "697bf7ff-2423-4a45-b1ed-679e407079c6",
   "metadata": {},
   "outputs": [
    {
     "data": {
      "text/plain": [
       "7F.A01..BHZ | 2020-01-11T19:00:00.000000Z - 2020-01-11T20:00:00.000000Z | 100.0 Hz, 360001 samples"
      ]
     },
     "execution_count": 14,
     "metadata": {},
     "output_type": "execute_result"
    }
   ],
   "source": [
    "A01"
   ]
  },
  {
   "cell_type": "code",
   "execution_count": 11,
   "id": "6720aa87-df18-48d0-ad03-13ce2e3c1863",
   "metadata": {},
   "outputs": [
    {
     "data": {
      "text/plain": [
       "38 Trace(s) in Stream:\n",
       "\n",
       "7F.A12..BHZ | 2020-01-11T19:45:00.000000Z - 2020-01-11T19:51:00.000000Z | 10.0 Hz, 3601 samples\n",
       "...\n",
       "(36 other traces)\n",
       "...\n",
       "7F.B20..BHZ | 2020-01-11T19:45:00.000000Z - 2020-01-11T19:51:00.000000Z | 10.0 Hz, 3601 samples\n",
       "\n",
       "[Use \"print(Stream.__str__(extended=True))\" to print all Traces]"
      ]
     },
     "execution_count": 11,
     "metadata": {},
     "output_type": "execute_result"
    }
   ],
   "source": [
    "stream.decimate(factor=10, no_filter=True)"
   ]
  },
  {
   "cell_type": "code",
   "execution_count": 12,
   "id": "88fd22de-0ebd-4532-ab9f-59b8ae8052ce",
   "metadata": {},
   "outputs": [],
   "source": [
    "# stream.decimate(factor=10, no_filter=True)"
   ]
  },
  {
   "cell_type": "code",
   "execution_count": 13,
   "id": "68059221-bab5-40bb-9fee-69148f760e35",
   "metadata": {},
   "outputs": [],
   "source": [
    "# stream.decimate(factor=10, no_filter=True)"
   ]
  },
  {
   "cell_type": "code",
   "execution_count": 14,
   "id": "fdf13a8e-2d8a-44b3-b7b6-a9ccffaa253b",
   "metadata": {},
   "outputs": [],
   "source": [
    "# # windows = stream.slide(window_length=10, step=10)\n",
    "# windows = stream.slide(window_length=1, step=1)\n",
    "\n",
    "# for w in windows:\n",
    "#     print([tr.data[0] for tr in w])\n",
    "#     break"
   ]
  },
  {
   "cell_type": "code",
   "execution_count": 15,
   "id": "3911fd0d-2682-4997-8e1d-206437743d50",
   "metadata": {},
   "outputs": [],
   "source": [
    "# use decimate instead of max\n",
    "# windows = stream.slide(window_length=10, step=10)\n",
    "# windows = stream.slide(window_length=1, step=1)\n",
    "windows = stream.slide(window_length=0.1, step=0.1)\n",
    "\n",
    "maxamp_df = pd.DataFrame()\n",
    "\n",
    "for w in windows:\n",
    "    stations = [tr.stats.station for tr in w]\n",
    "    amps = np.array([tr.data[0] for tr in w])\n",
    "    row = dict(zip(stations, amps))\n",
    "    wdf = pd.DataFrame(row, index=(pd.to_datetime(str(w[0].stats.starttime)),))\n",
    "    maxamp_df = pd.concat([maxamp_df, wdf])"
   ]
  },
  {
   "cell_type": "code",
   "execution_count": 16,
   "id": "89f17c64-0902-4d1a-9bd4-9d47ea574194",
   "metadata": {},
   "outputs": [],
   "source": [
    "# windows = stream.slide(window_length=10, step=10)\n",
    "# # windows = stream.slide(window_length=60, step=60)\n",
    "\n",
    "# maxamp_df = pd.DataFrame()\n",
    "\n",
    "# for window in windows:\n",
    "#     stations = [tr.stats.station for tr in window]\n",
    "#     ampmax = window.max()\n",
    "#     row = dict(zip(stations, ampmax))\n",
    "#     wdf = pd.DataFrame(row, index=[pd.to_datetime(str(window[0].stats.starttime))])\n",
    "#     maxamp_df = pd.concat([maxamp_df, wdf])"
   ]
  },
  {
   "cell_type": "code",
   "execution_count": 17,
   "id": "e3aa220f-bb74-4451-aa4d-efaad92b88f3",
   "metadata": {},
   "outputs": [
    {
     "data": {
      "text/plain": [
       "''"
      ]
     },
     "execution_count": 17,
     "metadata": {},
     "output_type": "execute_result"
    },
    {
     "data": {
      "image/png": "[encoded data removed]",
      "text/plain": [
       "<Figure size 432x288 with 1 Axes>"
      ]
     },
     "metadata": {
      "needs_background": "light"
     },
     "output_type": "display_data"
    }
   ],
   "source": [
    "plt.hist(maxamp_df.apply(np.log10).values.flatten(), bins=np.linspace(-1, 5, 601//4))\n",
    "''"
   ]
  },
  {
   "cell_type": "code",
   "execution_count": 18,
   "id": "aed18cb1-3bb3-40e6-afa4-97d355688df2",
   "metadata": {},
   "outputs": [
    {
     "data": {
      "image/png": "[encoded data removed]",
      "text/plain": [
       "<Figure size 432x288 with 1 Axes>"
      ]
     },
     "metadata": {
      "needs_background": "light"
     },
     "output_type": "display_data"
    }
   ],
   "source": [
    "plt.hist(maxamp_df.values.flatten(), bins=np.linspace(0, 1000, 1000))\n",
    "plt.yscale('log')"
   ]
  },
  {
   "cell_type": "code",
   "execution_count": 19,
   "id": "25e2af03-6c2e-483d-aff5-2ecf418f4353",
   "metadata": {},
   "outputs": [],
   "source": [
    "# eventdir = 'event1_day011/'\n",
    "# eventdir = 'event2_day011/'\n",
    "\n",
    "if event == 1:\n",
    "    eventdir = 'event1_day011/'\n",
    "elif event == 2:\n",
    "    eventdir = 'event2_day011/'\n",
    "elif event == 3:\n",
    "    eventdir = 'event2_day011_10hz/'\n",
    "else:\n",
    "    raise ValueError('wtf is an event anyways')"
   ]
  },
  {
   "cell_type": "code",
   "execution_count": 20,
   "id": "327ef3cb-0bf0-4940-ad96-ee384e8eaaeb",
   "metadata": {},
   "outputs": [],
   "source": [
    "lons = networkdf[networkdf.component == 'GHZ'].set_index('station').longitude\n",
    "lats = networkdf[networkdf.component == 'GHZ'].set_index('station').latitude\n",
    "\n",
    "def makefig(row):\n",
    "    row = row[1]\n",
    "    fig, ax = plt.subplots(figsize=(10, 10))\n",
    "    time = str(row.name)\n",
    "    row.name = 'maxamp'\n",
    "    stations = row.index\n",
    "    \n",
    "    df = pd.DataFrame([row, lons, lats]).transpose()\n",
    "    df['maxamp'] = df.maxamp.apply(np.log10)\n",
    "    df.plot.scatter(ax=ax, x='longitude', y='latitude', s=np.exp(df.maxamp)*50\n",
    "                    , c='maxamp', cmap='YlGnBu', edgecolor='black'\n",
    "                    # , vmin=3.5, vmax=5, alpha=0.75)\n",
    "                    , vmin=2, vmax=4, alpha=0.75)\n",
    "    \n",
    "    fig.text(s=time, x=0.15, y=0.15, fontsize=15)\n",
    "    fig.savefig('/media/sda/data/borehole/maps/{}-ba1b.png'.format(eventdir+time), dpi=150, bbox_inches='tight')\n",
    "    plt.close(fig)\n"
   ]
  },
  {
   "cell_type": "code",
   "execution_count": 21,
   "id": "b574a882-a689-4183-b857-9e170a2fef7c",
   "metadata": {},
   "outputs": [
    {
     "ename": "FileNotFoundError",
     "evalue": "[Errno 2] No such file or directory: '/media/sda/data/borehole/maps/event2_day011_10hz/2020-01-11 19:45:48+00:00-ba1b.png'",
     "output_type": "error",
     "traceback": [
      "\u001b[0;31m---------------------------------------------------------------------------\u001b[0m",
      "\u001b[0;31mRemoteTraceback\u001b[0m                           Traceback (most recent call last)",
      "\u001b[0;31mRemoteTraceback\u001b[0m: \n\"\"\"\nTraceback (most recent call last):\n  File \"/home/john/anaconda3/envs/borehole/lib/python3.8/multiprocessing/pool.py\", line 125, in worker\n    result = (True, func(*args, **kwds))\n  File \"/home/john/anaconda3/envs/borehole/lib/python3.8/multiprocessing/pool.py\", line 48, in mapstar\n    return list(map(*args))\n  File \"/tmp/ipykernel_24098/2775846647.py\", line 19, in makefig\n    fig.savefig('/media/sda/data/borehole/maps/{}-ba1b.png'.format(eventdir+time), dpi=150, bbox_inches='tight')\n  File \"/home/john/anaconda3/envs/borehole/lib/python3.8/site-packages/matplotlib/figure.py\", line 3015, in savefig\n    self.canvas.print_figure(fname, **kwargs)\n  File \"/home/john/anaconda3/envs/borehole/lib/python3.8/site-packages/matplotlib/backend_bases.py\", line 2255, in print_figure\n    result = print_method(\n  File \"/home/john/anaconda3/envs/borehole/lib/python3.8/site-packages/matplotlib/backend_bases.py\", line 1669, in wrapper\n    return func(*args, **kwargs)\n  File \"/home/john/anaconda3/envs/borehole/lib/python3.8/site-packages/matplotlib/backends/backend_agg.py\", line 509, in print_png\n    mpl.image.imsave(\n  File \"/home/john/anaconda3/envs/borehole/lib/python3.8/site-packages/matplotlib/image.py\", line 1616, in imsave\n    image.save(fname, **pil_kwargs)\n  File \"/home/john/anaconda3/envs/borehole/lib/python3.8/site-packages/PIL/Image.py\", line 2232, in save\n    fp = builtins.open(filename, \"w+b\")\nFileNotFoundError: [Errno 2] No such file or directory: '/media/sda/data/borehole/maps/event2_day011_10hz/2020-01-11 19:45:48+00:00-ba1b.png'\n\"\"\"",
      "\nThe above exception was the direct cause of the following exception:\n",
      "\u001b[0;31mFileNotFoundError\u001b[0m                         Traceback (most recent call last)",
      "\u001b[0;32m/tmp/ipykernel_24098/1475086680.py\u001b[0m in \u001b[0;36m<module>\u001b[0;34m\u001b[0m\n\u001b[1;32m      4\u001b[0m \u001b[0;34m\u001b[0m\u001b[0m\n\u001b[1;32m      5\u001b[0m \u001b[0mpool\u001b[0m \u001b[0;34m=\u001b[0m \u001b[0mPool\u001b[0m\u001b[0;34m(\u001b[0m\u001b[0;36m15\u001b[0m\u001b[0;34m)\u001b[0m\u001b[0;34m\u001b[0m\u001b[0;34m\u001b[0m\u001b[0m\n\u001b[0;32m----> 6\u001b[0;31m \u001b[0mpool\u001b[0m\u001b[0;34m.\u001b[0m\u001b[0mmap\u001b[0m\u001b[0;34m(\u001b[0m\u001b[0mmakefig\u001b[0m\u001b[0;34m,\u001b[0m \u001b[0mrows\u001b[0m\u001b[0;34m)\u001b[0m\u001b[0;34m\u001b[0m\u001b[0;34m\u001b[0m\u001b[0m\n\u001b[0m\u001b[1;32m      7\u001b[0m \u001b[0mpool\u001b[0m\u001b[0;34m.\u001b[0m\u001b[0mclose\u001b[0m\u001b[0;34m(\u001b[0m\u001b[0;34m)\u001b[0m\u001b[0;34m\u001b[0m\u001b[0;34m\u001b[0m\u001b[0m\n",
      "\u001b[0;32m~/anaconda3/envs/borehole/lib/python3.8/multiprocessing/pool.py\u001b[0m in \u001b[0;36mmap\u001b[0;34m(self, func, iterable, chunksize)\u001b[0m\n\u001b[1;32m    362\u001b[0m         \u001b[0;32min\u001b[0m \u001b[0ma\u001b[0m \u001b[0mlist\u001b[0m \u001b[0mthat\u001b[0m \u001b[0;32mis\u001b[0m \u001b[0mreturned\u001b[0m\u001b[0;34m.\u001b[0m\u001b[0;34m\u001b[0m\u001b[0;34m\u001b[0m\u001b[0m\n\u001b[1;32m    363\u001b[0m         '''\n\u001b[0;32m--> 364\u001b[0;31m         \u001b[0;32mreturn\u001b[0m \u001b[0mself\u001b[0m\u001b[0;34m.\u001b[0m\u001b[0m_map_async\u001b[0m\u001b[0;34m(\u001b[0m\u001b[0mfunc\u001b[0m\u001b[0;34m,\u001b[0m \u001b[0miterable\u001b[0m\u001b[0;34m,\u001b[0m \u001b[0mmapstar\u001b[0m\u001b[0;34m,\u001b[0m \u001b[0mchunksize\u001b[0m\u001b[0;34m)\u001b[0m\u001b[0;34m.\u001b[0m\u001b[0mget\u001b[0m\u001b[0;34m(\u001b[0m\u001b[0;34m)\u001b[0m\u001b[0;34m\u001b[0m\u001b[0;34m\u001b[0m\u001b[0m\n\u001b[0m\u001b[1;32m    365\u001b[0m \u001b[0;34m\u001b[0m\u001b[0m\n\u001b[1;32m    366\u001b[0m     \u001b[0;32mdef\u001b[0m \u001b[0mstarmap\u001b[0m\u001b[0;34m(\u001b[0m\u001b[0mself\u001b[0m\u001b[0;34m,\u001b[0m \u001b[0mfunc\u001b[0m\u001b[0;34m,\u001b[0m \u001b[0miterable\u001b[0m\u001b[0;34m,\u001b[0m \u001b[0mchunksize\u001b[0m\u001b[0;34m=\u001b[0m\u001b[0;32mNone\u001b[0m\u001b[0;34m)\u001b[0m\u001b[0;34m:\u001b[0m\u001b[0;34m\u001b[0m\u001b[0;34m\u001b[0m\u001b[0m\n",
      "\u001b[0;32m~/anaconda3/envs/borehole/lib/python3.8/multiprocessing/pool.py\u001b[0m in \u001b[0;36mget\u001b[0;34m(self, timeout)\u001b[0m\n\u001b[1;32m    769\u001b[0m             \u001b[0;32mreturn\u001b[0m \u001b[0mself\u001b[0m\u001b[0;34m.\u001b[0m\u001b[0m_value\u001b[0m\u001b[0;34m\u001b[0m\u001b[0;34m\u001b[0m\u001b[0m\n\u001b[1;32m    770\u001b[0m         \u001b[0;32melse\u001b[0m\u001b[0;34m:\u001b[0m\u001b[0;34m\u001b[0m\u001b[0;34m\u001b[0m\u001b[0m\n\u001b[0;32m--> 771\u001b[0;31m             \u001b[0;32mraise\u001b[0m \u001b[0mself\u001b[0m\u001b[0;34m.\u001b[0m\u001b[0m_value\u001b[0m\u001b[0;34m\u001b[0m\u001b[0;34m\u001b[0m\u001b[0m\n\u001b[0m\u001b[1;32m    772\u001b[0m \u001b[0;34m\u001b[0m\u001b[0m\n\u001b[1;32m    773\u001b[0m     \u001b[0;32mdef\u001b[0m \u001b[0m_set\u001b[0m\u001b[0;34m(\u001b[0m\u001b[0mself\u001b[0m\u001b[0;34m,\u001b[0m \u001b[0mi\u001b[0m\u001b[0;34m,\u001b[0m \u001b[0mobj\u001b[0m\u001b[0;34m)\u001b[0m\u001b[0;34m:\u001b[0m\u001b[0;34m\u001b[0m\u001b[0;34m\u001b[0m\u001b[0m\n",
      "\u001b[0;31mFileNotFoundError\u001b[0m: [Errno 2] No such file or directory: '/media/sda/data/borehole/maps/event2_day011_10hz/2020-01-11 19:45:48+00:00-ba1b.png'"
     ]
    }
   ],
   "source": [
    "rows = [row for row in maxamp_df.iterrows()]\n",
    "\n",
    "from multiprocessing import Pool\n",
    "\n",
    "pool = Pool(15)\n",
    "pool.map(makefig, rows)\n",
    "pool.close()"
   ]
  },
  {
   "cell_type": "code",
   "execution_count": null,
   "id": "72646a81-789e-4f41-90ef-74d34e9c97b5",
   "metadata": {},
   "outputs": [],
   "source": [
    "fig, ax = plt.subplots(figsize=(10, 10))\n",
    "\n",
    "row = maxamp_df.iloc[31]\n",
    "time = str(row.name)\n",
    "row.name = 'maxamp'\n",
    "stations = row.index\n",
    "\n",
    "borehole_locs = networkdf[(networkdf.component=='GDH') & (networkdf.local_depth==35)]\n",
    "\n",
    "A00 = borehole_locs[borehole_locs.station=='A00']\n",
    "B00 = borehole_locs[borehole_locs.station=='B00']\n",
    "\n",
    "ax.plot(A00.longitude, A00.latitude, marker='.', color='black')\n",
    "ax.text(s='A00', x=A00.longitude+0.00002, y=A00.latitude, fontsize=12, zorder=0)\n",
    "\n",
    "ax.plot(B00.longitude, B00.latitude, marker='.', color='black')\n",
    "ax.text(s='B00', x=B00.longitude+0.00002, y=B00.latitude, fontsize=12, zorder=0)\n",
    "\n",
    "lons = networkdf[networkdf.component == 'GHZ'].set_index('station').longitude\n",
    "lats = networkdf[networkdf.component == 'GHZ'].set_index('station').latitude\n",
    "\n",
    "ax.plot()\n",
    "\n",
    "df = pd.DataFrame([row, lons, lats]).transpose()\n",
    "df['maxamp'] = df.maxamp.apply(np.log10)\n",
    "df.plot.scatter(ax=ax, x='longitude', y='latitude', s=np.exp(df.maxamp)*50, c='maxamp', cmap='YlGnBu', edgecolor='None', vmin=3.5, vmax=5, alpha=0.75)\n",
    "\n",
    "fig.text(s=time, x=0.15, y=0.15, fontsize=15)\n",
    "\n",
    "# fig.tight_layout()\n"
   ]
  }
 ],
 "metadata": {
  "kernelspec": {
   "display_name": "Python [conda env:borehole] *",
   "language": "python",
   "name": "conda-env-borehole-py"
  },
  "language_info": {
   "codemirror_mode": {
    "name": "ipython",
    "version": 3
   },
   "file_extension": ".py",
   "mimetype": "text/x-python",
   "name": "python",
   "nbconvert_exporter": "python",
   "pygments_lexer": "ipython3",
   "version": "3.8.12"
  }
 },
 "nbformat": 4,
 "nbformat_minor": 5
}
