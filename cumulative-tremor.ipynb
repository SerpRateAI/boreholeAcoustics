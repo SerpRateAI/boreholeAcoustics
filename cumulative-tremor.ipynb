{
 "cells": [
  {
   "cell_type": "code",
   "execution_count": 1,
   "id": "8e0a2869-22fd-496a-8d16-6b55270f3923",
   "metadata": {},
   "outputs": [],
   "source": [
    "%matplotlib inline\n",
    "import pandas as pd\n",
    "import numpy as np\n",
    "\n",
    "import matplotlib.pyplot as plt\n",
    "\n",
    "\n",
    "import tempmatch as tm\n",
    "import obspy\n",
    "\n",
    "import helpers"
   ]
  },
  {
   "cell_type": "code",
   "execution_count": 2,
   "id": "71a80636-3cd3-4467-9672-f95e4e69f24e",
   "metadata": {},
   "outputs": [],
   "source": [
    "filelocs = !ls /media/sda/data/robdata/tremors/*.mseed"
   ]
  },
  {
   "cell_type": "code",
   "execution_count": 3,
   "id": "eaad5c0b-1cee-4875-84ae-75580f638e7b",
   "metadata": {},
   "outputs": [],
   "source": [
    "stream = obspy.read(filelocs[0])\n",
    "for f in filelocs[1:]:\n",
    "    stream = stream + obspy.read(f)"
   ]
  },
  {
   "cell_type": "code",
   "execution_count": 5,
   "id": "19fc84d9-2803-41d8-8f6c-87607843a594",
   "metadata": {},
   "outputs": [
    {
     "data": {
      "text/plain": [
       "6 Trace(s) in Stream:\n",
       "7F.B00.01.GDH | 2019-05-01T09:12:35.998000Z - 2020-02-03T12:19:21.998000Z | 10.0 Hz, 240304061 samples (masked)\n",
       "7F.B00.02.GDH | 2019-05-01T09:12:35.998000Z - 2020-02-03T12:19:21.998000Z | 10.0 Hz, 240304061 samples (masked)\n",
       "7F.B00.03.GDH | 2019-05-01T09:12:35.998000Z - 2020-02-03T12:19:21.898000Z | 10.0 Hz, 240304060 samples (masked)\n",
       "7F.B00.04.GDH | 2019-05-01T09:12:35.998000Z - 2020-02-03T12:19:21.998000Z | 10.0 Hz, 240304061 samples (masked)\n",
       "7F.B00.05.GDH | 2019-05-01T09:12:35.998000Z - 2020-02-03T12:19:21.998000Z | 10.0 Hz, 240304061 samples (masked)\n",
       "7F.B00.06.GDH | 2019-05-01T09:12:35.998000Z - 2020-02-03T12:19:21.898000Z | 10.0 Hz, 240304060 samples (masked)"
      ]
     },
     "execution_count": 5,
     "metadata": {},
     "output_type": "execute_result"
    }
   ],
   "source": [
    "stream.merge()"
   ]
  },
  {
   "cell_type": "code",
   "execution_count": 7,
   "id": "92fced0f-0957-4bc9-91a7-ed00e8d66324",
   "metadata": {},
   "outputs": [
    {
     "ename": "NotImplementedError",
     "evalue": "Masked array writing is not supported. You can use np.array.filled() to convert the masked array to a normal array.",
     "output_type": "error",
     "traceback": [
      "\u001b[0;31m---------------------------------------------------------------------------\u001b[0m",
      "\u001b[0;31mNotImplementedError\u001b[0m                       Traceback (most recent call last)",
      "\u001b[0;32m/tmp/ipykernel_17537/3368718494.py\u001b[0m in \u001b[0;36m<module>\u001b[0;34m\u001b[0m\n\u001b[0;32m----> 1\u001b[0;31m \u001b[0mstream\u001b[0m\u001b[0;34m.\u001b[0m\u001b[0mwrite\u001b[0m\u001b[0;34m(\u001b[0m\u001b[0;34m'/media/sda/data/robdata/tremors/alldata.mseed'\u001b[0m\u001b[0;34m,\u001b[0m \u001b[0mtype\u001b[0m\u001b[0;34m=\u001b[0m\u001b[0;34m'MSEED'\u001b[0m\u001b[0;34m)\u001b[0m\u001b[0;34m\u001b[0m\u001b[0;34m\u001b[0m\u001b[0m\n\u001b[0m",
      "\u001b[0;32m~/anaconda3/envs/borehole/lib/python3.8/site-packages/obspy/core/stream.py\u001b[0m in \u001b[0;36mwrite\u001b[0;34m(self, filename, format, **kwargs)\u001b[0m\n\u001b[1;32m   1443\u001b[0m                       \u001b[0;34m'np.array.filled() to convert the masked array to a '\u001b[0m \u001b[0;34m+\u001b[0m\u001b[0;31m \u001b[0m\u001b[0;31m\\\u001b[0m\u001b[0;34m\u001b[0m\u001b[0;34m\u001b[0m\u001b[0m\n\u001b[1;32m   1444\u001b[0m                       \u001b[0;34m'normal array.'\u001b[0m\u001b[0;34m\u001b[0m\u001b[0;34m\u001b[0m\u001b[0m\n\u001b[0;32m-> 1445\u001b[0;31m                 \u001b[0;32mraise\u001b[0m \u001b[0mNotImplementedError\u001b[0m\u001b[0;34m(\u001b[0m\u001b[0mmsg\u001b[0m\u001b[0;34m)\u001b[0m\u001b[0;34m\u001b[0m\u001b[0;34m\u001b[0m\u001b[0m\n\u001b[0m\u001b[1;32m   1446\u001b[0m         \u001b[0;32mif\u001b[0m \u001b[0mformat\u001b[0m \u001b[0;32mis\u001b[0m \u001b[0;32mNone\u001b[0m\u001b[0;34m:\u001b[0m\u001b[0;34m\u001b[0m\u001b[0;34m\u001b[0m\u001b[0m\n\u001b[1;32m   1447\u001b[0m             \u001b[0;31m# try to guess format from file extension\u001b[0m\u001b[0;34m\u001b[0m\u001b[0;34m\u001b[0m\u001b[0;34m\u001b[0m\u001b[0m\n",
      "\u001b[0;31mNotImplementedError\u001b[0m: Masked array writing is not supported. You can use np.array.filled() to convert the masked array to a normal array."
     ]
    }
   ],
   "source": [
    "stream.write('/media/sda/data/robdata/tremors/alldata.mseed', type='MSEED')"
   ]
  },
  {
   "cell_type": "code",
   "execution_count": 9,
   "id": "c9360213-bcb9-47a9-915c-96775b04f07d",
   "metadata": {},
   "outputs": [],
   "source": [
    "h1 = stream[0].copy()"
   ]
  },
  {
   "cell_type": "code",
   "execution_count": 12,
   "id": "edf78637-48db-4c71-aae1-c30a84207557",
   "metadata": {},
   "outputs": [
    {
     "data": {
      "image/png": "[encoded data removed]",
      "text/plain": [
       "<Figure size 800x250 with 1 Axes>"
      ]
     },
     "metadata": {
      "needs_background": "light"
     },
     "output_type": "display_data"
    }
   ],
   "source": [
    "x = h1.plot()"
   ]
  },
  {
   "cell_type": "code",
   "execution_count": null,
   "id": "fc0a08e5-f533-4c2a-b820-73e4addf70c5",
   "metadata": {},
   "outputs": [],
   "source": [
    "y = h1.data\n",
    "y = y.cumsum()"
   ]
  },
  {
   "cell_type": "code",
   "execution_count": 16,
   "id": "fb1ea69a-55a2-477a-9395-88aa4e7ff09e",
   "metadata": {},
   "outputs": [],
   "source": [
    "detectfiles = !ls /media/sda/data/borehole/detections/*.csv"
   ]
  },
  {
   "cell_type": "code",
   "execution_count": 18,
   "id": "a44c8e88-0d45-4d29-9df4-b83653eaa945",
   "metadata": {},
   "outputs": [
    {
     "ename": "NameError",
     "evalue": "name 'read_csvs_convert_to_dataframe' is not defined",
     "output_type": "error",
     "traceback": [
      "\u001b[0;31m---------------------------------------------------------------------------\u001b[0m",
      "\u001b[0;31mNameError\u001b[0m                                 Traceback (most recent call last)",
      "\u001b[0;32m/tmp/ipykernel_17537/4105815498.py\u001b[0m in \u001b[0;36m<module>\u001b[0;34m\u001b[0m\n\u001b[1;32m      1\u001b[0m \u001b[0;32mfrom\u001b[0m \u001b[0mmake_stds_b00\u001b[0m \u001b[0;32mimport\u001b[0m \u001b[0;34m*\u001b[0m\u001b[0;34m\u001b[0m\u001b[0;34m\u001b[0m\u001b[0m\n\u001b[1;32m      2\u001b[0m \u001b[0;34m\u001b[0m\u001b[0m\n\u001b[0;32m----> 3\u001b[0;31m \u001b[0mbubble\u001b[0m \u001b[0;34m=\u001b[0m \u001b[0mread_csvs_convert_to_dataframe\u001b[0m\u001b[0;34m(\u001b[0m\u001b[0mdetectfiles\u001b[0m\u001b[0;34m)\u001b[0m\u001b[0;34m\u001b[0m\u001b[0;34m\u001b[0m\u001b[0m\n\u001b[0m\u001b[1;32m      4\u001b[0m \u001b[0mbubble\u001b[0m\u001b[0;34m[\u001b[0m\u001b[0;34m'time'\u001b[0m\u001b[0;34m]\u001b[0m \u001b[0;34m=\u001b[0m \u001b[0mpd\u001b[0m\u001b[0;34m.\u001b[0m\u001b[0mto_datetime\u001b[0m\u001b[0;34m(\u001b[0m\u001b[0mbubble\u001b[0m\u001b[0;34m[\u001b[0m\u001b[0;34m'time'\u001b[0m\u001b[0;34m]\u001b[0m\u001b[0;34m)\u001b[0m\u001b[0;34m\u001b[0m\u001b[0;34m\u001b[0m\u001b[0m\n\u001b[1;32m      5\u001b[0m \u001b[0mbubble\u001b[0m\u001b[0;34m.\u001b[0m\u001b[0msort_values\u001b[0m\u001b[0;34m(\u001b[0m\u001b[0mby\u001b[0m\u001b[0;34m=\u001b[0m\u001b[0;34m'time'\u001b[0m\u001b[0;34m,\u001b[0m \u001b[0minplace\u001b[0m\u001b[0;34m=\u001b[0m\u001b[0;32mTrue\u001b[0m\u001b[0;34m)\u001b[0m\u001b[0;34m\u001b[0m\u001b[0;34m\u001b[0m\u001b[0m\n",
      "\u001b[0;31mNameError\u001b[0m: name 'read_csvs_convert_to_dataframe' is not defined"
     ]
    }
   ],
   "source": [
    "from make_stds_b00 import *\n",
    "\n",
    "bubble = read_csvs_convert_to_dataframe(detectfiles)\n",
    "bubble['time'] = pd.to_datetime(bubble['time'])\n",
    "bubble.sort_values(by='time', inplace=True)\n",
    "bubble['ones'] = 1\n",
    "bubble.set_index('time', inplace=True)"
   ]
  },
  {
   "cell_type": "code",
   "execution_count": 15,
   "id": "e187576c-9285-442e-aa82-c0146e67a327",
   "metadata": {},
   "outputs": [
    {
     "data": {
      "image/png": "[encoded data removed]",
      "text/plain": [
       "<Figure size 432x288 with 1 Axes>"
      ]
     },
     "metadata": {
      "needs_background": "light"
     },
     "output_type": "display_data"
    }
   ],
   "source": [
    "fig, ax = plt.subplots()\n",
    "\n",
    "ax.plot(y)\n",
    "# ax.set_yscale('log')\n",
    "\n",
    "# fig, ax = plt.subplots(figsize=(15, 5))\n",
    "\n",
    "df['cumsum'].plot(ax=ax, color='dodgerblue')\n",
    "ax2 = ax.twinx()\n",
    "bubble.ones.cumsum().plot(ax=ax2, color='red')\n",
    "# ax.set_yscale('log')"
   ]
  },
  {
   "cell_type": "code",
   "execution_count": null,
   "id": "1f9814f1-41f6-4f48-bda4-500245402fad",
   "metadata": {},
   "outputs": [],
   "source": []
  }
 ],
 "metadata": {
  "kernelspec": {
   "display_name": "Python [conda env:borehole] *",
   "language": "python",
   "name": "conda-env-borehole-py"
  },
  "language_info": {
   "codemirror_mode": {
    "name": "ipython",
    "version": 3
   },
   "file_extension": ".py",
   "mimetype": "text/x-python",
   "name": "python",
   "nbconvert_exporter": "python",
   "pygments_lexer": "ipython3",
   "version": "3.8.12"
  }
 },
 "nbformat": 4,
 "nbformat_minor": 5
}
