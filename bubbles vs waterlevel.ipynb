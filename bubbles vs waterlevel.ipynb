{
 "cells": [
  {
   "cell_type": "code",
   "execution_count": 1,
   "id": "d71209c5-650b-4d12-afcb-fee78768bc18",
   "metadata": {},
   "outputs": [],
   "source": [
    "%matplotlib inline\n",
    "from hydrophone_data_processing import load, preprocessing, tempmatch\n",
    "import obspy\n",
    "import pandas as pd\n",
    "import matplotlib.pyplot as plt\n",
    "import numpy as np\n",
    "\n",
    "def minmax(data):\n",
    "    min = data.min()\n",
    "    max = data.max()\n",
    "    return (data - min)/(max - min)"
   ]
  },
  {
   "cell_type": "code",
   "execution_count": 2,
   "id": "0d10e9b9-9ed2-4212-b070-d906176341bd",
   "metadata": {},
   "outputs": [],
   "source": [
    "bubbles = load.import_bubble_detections('/media/sda/data/borehole/detections/*.csv')\n",
    "bubbles.reset_index(inplace=True)"
   ]
  },
  {
   "cell_type": "code",
   "execution_count": 3,
   "id": "bb79ecc9-e970-49f8-a42f-16ecdf99324e",
   "metadata": {},
   "outputs": [
    {
     "data": {
      "text/html": [
       "<div>\n",
       "<style scoped>\n",
       "    .dataframe tbody tr th:only-of-type {\n",
       "        vertical-align: middle;\n",
       "    }\n",
       "\n",
       "    .dataframe tbody tr th {\n",
       "        vertical-align: top;\n",
       "    }\n",
       "\n",
       "    .dataframe thead th {\n",
       "        text-align: right;\n",
       "    }\n",
       "</style>\n",
       "<table border=\"1\" class=\"dataframe\">\n",
       "  <thead>\n",
       "    <tr style=\"text-align: right;\">\n",
       "      <th></th>\n",
       "      <th>time</th>\n",
       "      <th>similarity</th>\n",
       "      <th>template_id</th>\n",
       "      <th>ones</th>\n",
       "    </tr>\n",
       "  </thead>\n",
       "  <tbody>\n",
       "    <tr>\n",
       "      <th>0</th>\n",
       "      <td>2019-05-02 08:34:05.219999+00:00</td>\n",
       "      <td>0.879116</td>\n",
       "      <td>0</td>\n",
       "      <td>1</td>\n",
       "    </tr>\n",
       "    <tr>\n",
       "      <th>1</th>\n",
       "      <td>2019-05-02 08:34:56.173999+00:00</td>\n",
       "      <td>0.850827</td>\n",
       "      <td>0</td>\n",
       "      <td>1</td>\n",
       "    </tr>\n",
       "    <tr>\n",
       "      <th>2</th>\n",
       "      <td>2019-05-02 10:27:54.056999+00:00</td>\n",
       "      <td>0.860519</td>\n",
       "      <td>0</td>\n",
       "      <td>1</td>\n",
       "    </tr>\n",
       "    <tr>\n",
       "      <th>3</th>\n",
       "      <td>2019-05-02 12:08:43.894999+00:00</td>\n",
       "      <td>0.906010</td>\n",
       "      <td>0</td>\n",
       "      <td>1</td>\n",
       "    </tr>\n",
       "    <tr>\n",
       "      <th>4</th>\n",
       "      <td>2019-05-02 12:09:15.602999+00:00</td>\n",
       "      <td>0.814478</td>\n",
       "      <td>0</td>\n",
       "      <td>1</td>\n",
       "    </tr>\n",
       "    <tr>\n",
       "      <th>...</th>\n",
       "      <td>...</td>\n",
       "      <td>...</td>\n",
       "      <td>...</td>\n",
       "      <td>...</td>\n",
       "    </tr>\n",
       "    <tr>\n",
       "      <th>2494</th>\n",
       "      <td>2020-02-02 00:49:47.295000+00:00</td>\n",
       "      <td>0.827654</td>\n",
       "      <td>0</td>\n",
       "      <td>1</td>\n",
       "    </tr>\n",
       "    <tr>\n",
       "      <th>2495</th>\n",
       "      <td>2020-02-02 05:41:40.738000+00:00</td>\n",
       "      <td>0.814375</td>\n",
       "      <td>0</td>\n",
       "      <td>1</td>\n",
       "    </tr>\n",
       "    <tr>\n",
       "      <th>2496</th>\n",
       "      <td>2020-02-02 12:32:29.838000+00:00</td>\n",
       "      <td>0.818918</td>\n",
       "      <td>0</td>\n",
       "      <td>1</td>\n",
       "    </tr>\n",
       "    <tr>\n",
       "      <th>2497</th>\n",
       "      <td>2020-02-02 22:43:12.641000+00:00</td>\n",
       "      <td>0.817783</td>\n",
       "      <td>0</td>\n",
       "      <td>1</td>\n",
       "    </tr>\n",
       "    <tr>\n",
       "      <th>2498</th>\n",
       "      <td>2020-02-03 09:30:09.057000+00:00</td>\n",
       "      <td>0.801085</td>\n",
       "      <td>0</td>\n",
       "      <td>1</td>\n",
       "    </tr>\n",
       "  </tbody>\n",
       "</table>\n",
       "<p>2499 rows × 4 columns</p>\n",
       "</div>"
      ],
      "text/plain": [
       "                                 time  similarity  template_id  ones\n",
       "0    2019-05-02 08:34:05.219999+00:00    0.879116            0     1\n",
       "1    2019-05-02 08:34:56.173999+00:00    0.850827            0     1\n",
       "2    2019-05-02 10:27:54.056999+00:00    0.860519            0     1\n",
       "3    2019-05-02 12:08:43.894999+00:00    0.906010            0     1\n",
       "4    2019-05-02 12:09:15.602999+00:00    0.814478            0     1\n",
       "...                               ...         ...          ...   ...\n",
       "2494 2020-02-02 00:49:47.295000+00:00    0.827654            0     1\n",
       "2495 2020-02-02 05:41:40.738000+00:00    0.814375            0     1\n",
       "2496 2020-02-02 12:32:29.838000+00:00    0.818918            0     1\n",
       "2497 2020-02-02 22:43:12.641000+00:00    0.817783            0     1\n",
       "2498 2020-02-03 09:30:09.057000+00:00    0.801085            0     1\n",
       "\n",
       "[2499 rows x 4 columns]"
      ]
     },
     "execution_count": 3,
     "metadata": {},
     "output_type": "execute_result"
    }
   ],
   "source": [
    "bubbles"
   ]
  },
  {
   "cell_type": "code",
   "execution_count": 7,
   "id": "ddc9c2cb-71d4-4ce4-8bf4-07afd70b361c",
   "metadata": {},
   "outputs": [],
   "source": [
    "ba1d_otherpt = pd.read_excel('proposal/BA1D_p_T_2019_2020_1.xlsx')\n",
    "ba1d_otherpt.columns = [c.strip() for c in ba1d_otherpt.columns]\n",
    "ba1d_otherpt['Date and Time'] = pd.to_datetime(ba1d_otherpt['Date and Time'])"
   ]
  },
  {
   "cell_type": "code",
   "execution_count": 28,
   "id": "a909bc57-ff43-4425-b114-14c96b7b86eb",
   "metadata": {},
   "outputs": [],
   "source": [
    "# fig, ax = plt.subplots(figsize=(15, 5))\n",
    "\n",
    "# ax.plot(bubbles.time, bubbles.ones.cumsum(), color='darkorange', linewidth=3)\n",
    "\n",
    "# ax2 = ax.twinx()\n",
    "\n",
    "# ax2.plot(ba1d_otherpt['Date and Time'])\n",
    "\n",
    "# # ax2 = ax.twinx()\n",
    "# # ba1d_otherpt['Pressure (Bar)'].plot(ax=ax2, color='cyan', linewidth=2)\n",
    "\n",
    "# # xticks = np.arange(0, 2600, 500)\n",
    "# # ax.set_xticks(xticks)"
   ]
  },
  {
   "cell_type": "code",
   "execution_count": 34,
   "id": "9b8aab7a-2905-4bcf-9284-b0c793c00e54",
   "metadata": {},
   "outputs": [
    {
     "data": {
      "image/png": "[encoded data removed]",
      "text/plain": [
       "<Figure size 1080x360 with 2 Axes>"
      ]
     },
     "metadata": {},
     "output_type": "display_data"
    }
   ],
   "source": [
    "fig, ax = plt.subplots(figsize=(15, 5))\n",
    "\n",
    "ba1d_otherpt.plot(x='Date and Time', y='Pressure (Bar)', ax=ax, color='dodgerblue')\n",
    "\n",
    "ax2 = ax.twinx()\n",
    "bubbles.set_index('time').ones.cumsum().plot(ax=ax2, color='darkorange', linewidth=2)\n",
    "\n",
    "yticks = np.arange(1.3, 2.0, 0.1)\n",
    "ax.set_yticks(yticks)\n",
    "ax.set_yticklabels(yticks, color='dodgerblue', fontsize=15)\n",
    "ax.set_ylabel('Pressure (Bar)', fontsize=15, color='dodgerblue')\n",
    "\n",
    "y2ticks = np.arange(0, 2500, 500)\n",
    "ax2.set_yticks(y2ticks)\n",
    "ax2.set_yticklabels(y2ticks, color='darkorange', fontsize=15)\n",
    "ax2.set_ylabel('Bubble Count', fontsize=15, color='darkorange')\n",
    "\n",
    "_lg = ax.get_legend()\n",
    "_lg.remove()"
   ]
  },
  {
   "cell_type": "code",
   "execution_count": null,
   "id": "25cbad9a-e156-4f7b-bd53-e11297f4f08d",
   "metadata": {},
   "outputs": [],
   "source": []
  },
  {
   "cell_type": "code",
   "execution_count": null,
   "id": "1be81ec0-f0ce-4722-8020-0641d1b3e35e",
   "metadata": {},
   "outputs": [],
   "source": []
  }
 ],
 "metadata": {
  "kernelspec": {
   "display_name": "Python [conda env:borehole] *",
   "language": "python",
   "name": "conda-env-borehole-py"
  },
  "language_info": {
   "codemirror_mode": {
    "name": "ipython",
    "version": 3
   },
   "file_extension": ".py",
   "mimetype": "text/x-python",
   "name": "python",
   "nbconvert_exporter": "python",
   "pygments_lexer": "ipython3",
   "version": "3.8.12"
  }
 },
 "nbformat": 4,
 "nbformat_minor": 5
}
