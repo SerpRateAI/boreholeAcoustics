{
 "cells": [
  {
   "cell_type": "code",
   "execution_count": 1,
   "id": "5828cfcc-195b-4ace-acc8-17fb8aca499c",
   "metadata": {},
   "outputs": [],
   "source": [
    "%matplotlib widget\n",
    "import obspy\n",
    "import matplotlib.pyplot as plt\n",
    "import numpy as np\n",
    "import pandas as pd\n",
    "import matplotlib.dates as mdates\n",
    "from hydrophone_data_processing import load, preprocessing, tempmatch\n",
    "import matplotlib.dates as mdates\n",
    "\n",
    "import matplotlib.ticker as ticker\n",
    "\n",
    "class PrecisionDateFormatter(ticker.Formatter):\n",
    "    \"\"\"\n",
    "    Extend the `matplotlib.ticker.Formatter` class to allow for millisecond\n",
    "    precision when formatting a tick (in days since the epoch) with a\n",
    "    `~datetime.datetime.strftime` format string.\n",
    "\n",
    "    \"\"\"\n",
    "\n",
    "    def __init__(self, fmt, precision=3, tz=None):\n",
    "        \"\"\"\n",
    "        Parameters\n",
    "        ----------\n",
    "        fmt : str\n",
    "            `~datetime.datetime.strftime` format string.\n",
    "        \"\"\"\n",
    "        from matplotlib.dates import num2date\n",
    "        if tz is None:\n",
    "            from matplotlib.dates import _get_rc_timezone\n",
    "            tz = _get_rc_timezone()\n",
    "        self.num2date = num2date\n",
    "        self.fmt = fmt\n",
    "        self.tz = tz\n",
    "        self.precision = precision\n",
    "\n",
    "    def __call__(self, x, pos=0):\n",
    "        if x == 0:\n",
    "            raise ValueError(\"DateFormatter found a value of x=0, which is \"\n",
    "                             \"an illegal date; this usually occurs because \"\n",
    "                             \"you have not informed the axis that it is \"\n",
    "                             \"plotting dates, e.g., with ax.xaxis_date()\")\n",
    "\n",
    "        dt = self.num2date(x, self.tz)\n",
    "        ms = dt.strftime(\"%f\")[:self.precision]\n",
    "\n",
    "        return dt.strftime(self.fmt).format(ms=ms)\n",
    "\n",
    "    def set_tzinfo(self, tz):\n",
    "        self.tz = tz"
   ]
  },
  {
   "cell_type": "code",
   "execution_count": 2,
   "id": "d566bd16-8923-4f9a-88bb-21a964196195",
   "metadata": {},
   "outputs": [],
   "source": [
    "# import bubbles\n",
    "bubbles = load.import_bubble_detections('/media/sda/data/borehole/detections/*.csv')\n",
    "bubbles.reset_index(inplace=True)\n",
    "# bubbles.ones.cumsum().plot(figsize=(15, 5))\n",
    "# bubbles[bubbles.similarity>0.6].ones.cumsum().plot(figsize=(15, 5))"
   ]
  },
  {
   "cell_type": "code",
   "execution_count": 3,
   "id": "33e4f846-9cdf-4012-94c8-4f4b3caff6e4",
   "metadata": {},
   "outputs": [],
   "source": [
    "bubbles = bubbles[bubbles.time<'2020-01-05']"
   ]
  },
  {
   "cell_type": "code",
   "execution_count": 4,
   "id": "efcb7532-04ee-44d4-b6eb-7712b0786c54",
   "metadata": {},
   "outputs": [],
   "source": [
    "bubbles['timediff'] = bubbles.time.diff()"
   ]
  },
  {
   "cell_type": "code",
   "execution_count": 5,
   "id": "9032fc76-c1c5-46b0-a595-610e7d9abd2a",
   "metadata": {},
   "outputs": [],
   "source": [
    "def get_seconds(t):\n",
    "    if t == np.nan:\n",
    "        return np.nan\n",
    "    else:\n",
    "        return t.seconds"
   ]
  },
  {
   "cell_type": "code",
   "execution_count": 6,
   "id": "6fadfd8b-14c6-4c23-879b-963e82092335",
   "metadata": {},
   "outputs": [],
   "source": [
    "bubbles['diffseconds'] = bubbles.timediff.apply(get_seconds)"
   ]
  },
  {
   "cell_type": "code",
   "execution_count": 7,
   "id": "f8853465-4dfe-4e32-bb36-5f930f686062",
   "metadata": {},
   "outputs": [
    {
     "data": {
      "text/html": [
       "<div>\n",
       "<style scoped>\n",
       "    .dataframe tbody tr th:only-of-type {\n",
       "        vertical-align: middle;\n",
       "    }\n",
       "\n",
       "    .dataframe tbody tr th {\n",
       "        vertical-align: top;\n",
       "    }\n",
       "\n",
       "    .dataframe thead th {\n",
       "        text-align: right;\n",
       "    }\n",
       "</style>\n",
       "<table border=\"1\" class=\"dataframe\">\n",
       "  <thead>\n",
       "    <tr style=\"text-align: right;\">\n",
       "      <th></th>\n",
       "      <th>time</th>\n",
       "      <th>similarity</th>\n",
       "      <th>template_id</th>\n",
       "      <th>ones</th>\n",
       "      <th>timediff</th>\n",
       "      <th>diffseconds</th>\n",
       "    </tr>\n",
       "  </thead>\n",
       "  <tbody>\n",
       "    <tr>\n",
       "      <th>0</th>\n",
       "      <td>2019-05-02 08:34:05.219999+00:00</td>\n",
       "      <td>0.879116</td>\n",
       "      <td>0</td>\n",
       "      <td>1</td>\n",
       "      <td>NaT</td>\n",
       "      <td>NaN</td>\n",
       "    </tr>\n",
       "    <tr>\n",
       "      <th>1</th>\n",
       "      <td>2019-05-02 08:34:56.173999+00:00</td>\n",
       "      <td>0.850827</td>\n",
       "      <td>0</td>\n",
       "      <td>1</td>\n",
       "      <td>0 days 00:00:50.954000</td>\n",
       "      <td>50.0</td>\n",
       "    </tr>\n",
       "    <tr>\n",
       "      <th>2</th>\n",
       "      <td>2019-05-02 10:27:54.056999+00:00</td>\n",
       "      <td>0.860519</td>\n",
       "      <td>0</td>\n",
       "      <td>1</td>\n",
       "      <td>0 days 01:52:57.883000</td>\n",
       "      <td>6777.0</td>\n",
       "    </tr>\n",
       "    <tr>\n",
       "      <th>3</th>\n",
       "      <td>2019-05-02 12:08:43.894999+00:00</td>\n",
       "      <td>0.906010</td>\n",
       "      <td>0</td>\n",
       "      <td>1</td>\n",
       "      <td>0 days 01:40:49.838000</td>\n",
       "      <td>6049.0</td>\n",
       "    </tr>\n",
       "    <tr>\n",
       "      <th>4</th>\n",
       "      <td>2019-05-02 12:09:15.602999+00:00</td>\n",
       "      <td>0.814478</td>\n",
       "      <td>0</td>\n",
       "      <td>1</td>\n",
       "      <td>0 days 00:00:31.708000</td>\n",
       "      <td>31.0</td>\n",
       "    </tr>\n",
       "  </tbody>\n",
       "</table>\n",
       "</div>"
      ],
      "text/plain": [
       "                              time  similarity  template_id  ones  \\\n",
       "0 2019-05-02 08:34:05.219999+00:00    0.879116            0     1   \n",
       "1 2019-05-02 08:34:56.173999+00:00    0.850827            0     1   \n",
       "2 2019-05-02 10:27:54.056999+00:00    0.860519            0     1   \n",
       "3 2019-05-02 12:08:43.894999+00:00    0.906010            0     1   \n",
       "4 2019-05-02 12:09:15.602999+00:00    0.814478            0     1   \n",
       "\n",
       "                timediff  diffseconds  \n",
       "0                    NaT          NaN  \n",
       "1 0 days 00:00:50.954000         50.0  \n",
       "2 0 days 01:52:57.883000       6777.0  \n",
       "3 0 days 01:40:49.838000       6049.0  \n",
       "4 0 days 00:00:31.708000         31.0  "
      ]
     },
     "execution_count": 7,
     "metadata": {},
     "output_type": "execute_result"
    }
   ],
   "source": [
    "bubbles.head()"
   ]
  },
  {
   "cell_type": "code",
   "execution_count": 8,
   "id": "3599d7ee-bb91-43d4-944b-a47fd5116570",
   "metadata": {},
   "outputs": [],
   "source": [
    "# bubbles.plot.scatter(x='similarity', y='diffseconds')"
   ]
  },
  {
   "cell_type": "code",
   "execution_count": 9,
   "id": "91a5e85d-8ccf-48b4-9df5-6ea16053acdd",
   "metadata": {},
   "outputs": [],
   "source": [
    "# bubbles.diffseconds.hist(bins=np.arange(0, 100, 1), log=True)"
   ]
  },
  {
   "cell_type": "code",
   "execution_count": 10,
   "id": "cf93e338-04b6-42ae-9964-c8a6f24f0286",
   "metadata": {},
   "outputs": [
    {
     "data": {
      "text/plain": [
       "<AxesSubplot:xlabel='time'>"
      ]
     },
     "execution_count": 10,
     "metadata": {},
     "output_type": "execute_result"
    },
    {
     "data": {
      "application/vnd.jupyter.widget-view+json": {
       "model_id": "92d9c09cbf8c4955bd4f295988f4e36b",
       "version_major": 2,
       "version_minor": 0
      },
      "image/png": "[encoded data removed]",
      "text/html": [
       "\n",
       "            <div style=\"display: inline-block;\">\n",
       "                <div class=\"jupyter-widgets widget-label\" style=\"text-align: center;\">\n",
       "                    Figure\n",
       "                </div>\n",
       "                <img src='data:image/png;base64,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' width=1500.0/>\n",
       "            </div>\n",
       "        "
      ],
      "text/plain": [
       "Canvas(toolbar=Toolbar(toolitems=[('Home', 'Reset original view', 'home', 'home'), ('Back', 'Back to previous …"
      ]
     },
     "metadata": {},
     "output_type": "display_data"
    }
   ],
   "source": [
    "bubbles.set_index('time').cumsum().ones.plot(figsize=(15, 5))"
   ]
  },
  {
   "cell_type": "code",
   "execution_count": 11,
   "id": "fc9ebbbd-3b2e-42fd-b08b-2dcab1e4e3de",
   "metadata": {},
   "outputs": [
    {
     "data": {
      "text/plain": [
       "19"
      ]
     },
     "execution_count": 11,
     "metadata": {},
     "output_type": "execute_result"
    }
   ],
   "source": [
    "36-17"
   ]
  },
  {
   "cell_type": "code",
   "execution_count": null,
   "id": "3cf86389-f223-4d25-9392-fc2c4e32d969",
   "metadata": {},
   "outputs": [],
   "source": [
    "paths = ['/media/sda/data/robdata/Hydrophones/DAYS/B00/B00.7F.01.GDH.2019.138'\n",
    "        ,'/media/sda/data/robdata/Hydrophones/DAYS/B00/B00.7F.02.GDH.2019.138'\n",
    "        ,'/media/sda/data/robdata/Hydrophones/DAYS/B00/B00.7F.03.GDH.2019.138'\n",
    "        ,'/media/sda/data/robdata/Hydrophones/DAYS/B00/B00.7F.04.GDH.2019.138'\n",
    "        ,'/media/sda/data/robdata/Hydrophones/DAYS/B00/B00.7F.05.GDH.2019.138'\n",
    "        ,'/media/sda/data/robdata/Hydrophones/DAYS/B00/B00.7F.06.GDH.2019.138']"
   ]
  },
  {
   "cell_type": "code",
   "execution_count": null,
   "id": "8326c8d8-793c-4dba-9c6b-3c83c14c3464",
   "metadata": {},
   "outputs": [],
   "source": [
    "day138 = load.import_corrected_data_for_single_day(paths=paths)"
   ]
  },
  {
   "cell_type": "code",
   "execution_count": 14,
   "id": "e760e910-2dd3-4900-bb11-32c7b9bc8b0c",
   "metadata": {},
   "outputs": [
    {
     "data": {
      "text/plain": [
       "Timedelta('81 days 00:00:00')"
      ]
     },
     "execution_count": 14,
     "metadata": {},
     "output_type": "execute_result"
    }
   ],
   "source": [
    "pd.to_datetime('08-09-2019') - pd.to_datetime('05-20-2019')"
   ]
  },
  {
   "cell_type": "code",
   "execution_count": 15,
   "id": "f9ba3506-e369-40b5-a79c-6a68cb5167d3",
   "metadata": {},
   "outputs": [
    {
     "data": {
      "text/plain": [
       "Timedelta('51 days 00:00:00')"
      ]
     },
     "execution_count": 15,
     "metadata": {},
     "output_type": "execute_result"
    }
   ],
   "source": [
    "pd.to_datetime('09-29-2019') - pd.to_datetime('08-09-2019')"
   ]
  },
  {
   "cell_type": "code",
   "execution_count": 16,
   "id": "ae131754-51a8-4657-98d3-3a78fb3854dc",
   "metadata": {},
   "outputs": [
    {
     "data": {
      "text/plain": [
       "Timedelta('69 days 00:00:00')"
      ]
     },
     "execution_count": 16,
     "metadata": {},
     "output_type": "execute_result"
    }
   ],
   "source": [
    "pd.to_datetime('12-07-2019') - pd.to_datetime('09-29-2019')"
   ]
  },
  {
   "cell_type": "code",
   "execution_count": 17,
   "id": "c905c03d-fc91-414a-b84d-da8afd55aa3e",
   "metadata": {},
   "outputs": [
    {
     "data": {
      "text/plain": [
       "67.0"
      ]
     },
     "execution_count": 17,
     "metadata": {},
     "output_type": "execute_result"
    }
   ],
   "source": [
    "np.mean([81, 51, 69])"
   ]
  }
 ],
 "metadata": {
  "kernelspec": {
   "display_name": "Python [conda env:borehole] *",
   "language": "python",
   "name": "conda-env-borehole-py"
  },
  "language_info": {
   "codemirror_mode": {
    "name": "ipython",
    "version": 3
   },
   "file_extension": ".py",
   "mimetype": "text/x-python",
   "name": "python",
   "nbconvert_exporter": "python",
   "pygments_lexer": "ipython3",
   "version": "3.8.12"
  }
 },
 "nbformat": 4,
 "nbformat_minor": 5
}
