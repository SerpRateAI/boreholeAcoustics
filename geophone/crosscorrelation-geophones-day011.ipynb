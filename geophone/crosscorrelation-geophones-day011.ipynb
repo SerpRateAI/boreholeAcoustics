{
 "cells": [
  {
   "cell_type": "code",
   "execution_count": 1,
   "id": "e8595cd7-367c-45bf-bd27-26a3d09b21a5",
   "metadata": {},
   "outputs": [],
   "source": [
    "%matplotlib inline\n",
    "import pandas as pd\n",
    "import numpy as np\n",
    "import matplotlib.pyplot as plt\n",
    "from hydrophone_data_processing import load, preprocessing\n",
    "import glob\n",
    "import obspy\n",
    "from obspy.signal import cross_correlation\n",
    "\n",
    "from multiprocessing import Pool\n",
    "\n",
    "inventory = obspy.read_inventory('fdsn-station_2021-06-29T11_00_50.xml', format=\"STATIONXML\")\n",
    "channels = inventory.networks[0].get_contents()['channels']\n",
    "networkdf = pd.DataFrame([inventory.get_coordinates(seed_id=id) for id in channels], index=[id for id in channels])\n",
    "networkdf['station'] = [c.split('.')[1] for c in channels]\n",
    "networkdf['component'] = [c.split('.')[-1] for c in channels]"
   ]
  },
  {
   "cell_type": "code",
   "execution_count": 2,
   "id": "cd026519-4292-493b-8de4-4ba9011e16e0",
   "metadata": {},
   "outputs": [],
   "source": [
    "event = 1 # 2"
   ]
  },
  {
   "cell_type": "code",
   "execution_count": 3,
   "id": "f3aca878-67d0-4a1d-9704-e21bd0aaa701",
   "metadata": {},
   "outputs": [],
   "source": [
    "stations = !ls /media/sda/data/robdata/PASSCAL/Main_deployment/DAYS/"
   ]
  },
  {
   "cell_type": "code",
   "execution_count": 4,
   "id": "89fda74e-7c7f-4439-aff6-0e2a0572c51e",
   "metadata": {},
   "outputs": [],
   "source": [
    "dataloc = '/media/sda/data/robdata/PASSCAL/Main_deployment/DAYS/'\n",
    "\n",
    "\n",
    "paths = [glob.glob(dataloc+station+'/*GHZ*.011') for station in stations]\n",
    "for i, p in enumerate(paths):\n",
    "    if len(p) == 0:\n",
    "        paths.pop(i)\n",
    "paths = np.array(paths).flatten()"
   ]
  },
  {
   "cell_type": "code",
   "execution_count": 5,
   "id": "beb6d57e-eb14-41bb-9ffc-157f409247b7",
   "metadata": {},
   "outputs": [],
   "source": [
    "stream = load.get_raw_stream(paths)\n"
   ]
  },
  {
   "cell_type": "code",
   "execution_count": 6,
   "id": "a35b68bd-4443-4c6b-9b46-b5cf42888e6f",
   "metadata": {},
   "outputs": [],
   "source": [
    "# if event == 1:\n",
    "#     stream.trim(starttime=obspy.UTCDateTime('2020-01-11T14:30:00')\n",
    "#                ,endtime=obspy.UTCDateTime('2020-01-11T15:30:00'))\n",
    "# elif event == 2:\n",
    "#     stream.trim(starttime=obspy.UTCDateTime('2020-01-11T19:00:00')\n",
    "#                ,endtime=obspy.UTCDateTime('2020-01-11T20:00:00'))\n",
    "# elif event == 3:\n",
    "#     stream.trim(starttime=obspy.UTCDateTime('2020-01-11T19:45:00')\n",
    "#            ,endtime=obspy.UTCDateTime('2020-01-11T19:51:00'))\n",
    "# else:\n",
    "#     stream.trim(starttime=obspy.UTCDateTime('2020-01-11T12:00:00'))\n"
   ]
  },
  {
   "cell_type": "code",
   "execution_count": 7,
   "id": "383cf197-e181-4080-89c3-45cc920a45b8",
   "metadata": {},
   "outputs": [
    {
     "data": {
      "text/plain": [
       "38 Trace(s) in Stream:\n",
       "\n",
       "7F.A12..BHZ | 2020-01-11T00:00:00.000000Z - 2020-01-11T23:59:59.998000Z | 500.0 Hz, 43200000 samples\n",
       "...\n",
       "(36 other traces)\n",
       "...\n",
       "7F.B20..BHZ | 2020-01-11T00:00:00.000000Z - 2020-01-11T23:59:59.998000Z | 500.0 Hz, 43200000 samples\n",
       "\n",
       "[Use \"print(Stream.__str__(extended=True))\" to print all Traces]"
      ]
     },
     "execution_count": 7,
     "metadata": {},
     "output_type": "execute_result"
    }
   ],
   "source": [
    "stream.decimate(factor=2)"
   ]
  },
  {
   "cell_type": "code",
   "execution_count": 8,
   "id": "ca7e0c49-d478-4ede-955a-25f43955db31",
   "metadata": {},
   "outputs": [
    {
     "data": {
      "text/plain": [
       "38 Trace(s) in Stream:\n",
       "\n",
       "7F.A12..BHZ | 2020-01-11T00:00:00.000000Z - 2020-01-11T23:59:59.998000Z | 500.0 Hz, 43200000 samples\n",
       "...\n",
       "(36 other traces)\n",
       "...\n",
       "7F.B20..BHZ | 2020-01-11T00:00:00.000000Z - 2020-01-11T23:59:59.998000Z | 500.0 Hz, 43200000 samples\n",
       "\n",
       "[Use \"print(Stream.__str__(extended=True))\" to print all Traces]"
      ]
     },
     "execution_count": 8,
     "metadata": {},
     "output_type": "execute_result"
    }
   ],
   "source": [
    "stream.detrend('demean')"
   ]
  },
  {
   "cell_type": "code",
   "execution_count": 9,
   "id": "19224570-d649-4f84-9acf-cf91ef51d67d",
   "metadata": {},
   "outputs": [
    {
     "data": {
      "text/plain": [
       "38 Trace(s) in Stream:\n",
       "\n",
       "7F.A12..BHZ | 2020-01-11T00:00:00.000000Z - 2020-01-11T23:59:59.998000Z | 500.0 Hz, 43200000 samples\n",
       "...\n",
       "(36 other traces)\n",
       "...\n",
       "7F.B20..BHZ | 2020-01-11T00:00:00.000000Z - 2020-01-11T23:59:59.998000Z | 500.0 Hz, 43200000 samples\n",
       "\n",
       "[Use \"print(Stream.__str__(extended=True))\" to print all Traces]"
      ]
     },
     "execution_count": 9,
     "metadata": {},
     "output_type": "execute_result"
    }
   ],
   "source": [
    "stream.filter(type='highpass', corners=4, freq=40, zerophase=True)"
   ]
  },
  {
   "cell_type": "code",
   "execution_count": 10,
   "id": "64ebcfad-c7e7-4adf-a206-26d78e888dc4",
   "metadata": {},
   "outputs": [
    {
     "data": {
      "text/plain": [
       "38 Trace(s) in Stream:\n",
       "\n",
       "7F.A12..BHZ | 2020-01-11T00:00:00.000000Z - 2020-01-11T23:59:59.990000Z | 100.0 Hz, 8640000 samples\n",
       "...\n",
       "(36 other traces)\n",
       "...\n",
       "7F.B20..BHZ | 2020-01-11T00:00:00.000000Z - 2020-01-11T23:59:59.990000Z | 100.0 Hz, 8640000 samples\n",
       "\n",
       "[Use \"print(Stream.__str__(extended=True))\" to print all Traces]"
      ]
     },
     "execution_count": 10,
     "metadata": {},
     "output_type": "execute_result"
    }
   ],
   "source": [
    "for tr in stream:\n",
    "    tr.data = np.abs(tr.data)\n",
    "stream.decimate(factor=5, no_filter=True)"
   ]
  },
  {
   "cell_type": "code",
   "execution_count": 11,
   "id": "72bcaeff-87e1-4cef-8949-8658ec4244ad",
   "metadata": {},
   "outputs": [
    {
     "name": "stdout",
     "output_type": "stream",
     "text": [
      "         network: 7F\n",
      "         station: A12\n",
      "        location: \n",
      "         channel: BHZ\n",
      "       starttime: 2020-01-11T00:00:00.000000Z\n",
      "         endtime: 2020-01-11T23:59:59.990000Z\n",
      "   sampling_rate: 100.0\n",
      "           delta: 0.01\n",
      "            npts: 8640000\n",
      "           calib: 1.0\n",
      "         _format: MSEED\n",
      "           mseed: AttribDict({'dataquality': 'D', 'number_of_records': 1344, 'encoding': 'STEIM2', 'byteorder': '>', 'record_length': 4096, 'filesize': 99962880})\n",
      "      processing: [\"ObsPy 1.2.2: filter(options={'freq': 250.0, 'maxorder': 12}::type='lowpass_cheby_2')\", 'ObsPy 1.2.2: decimate(factor=2::no_filter=False::strict_length=False)', \"ObsPy 1.2.2: detrend(options={}::type='demean')\", \"ObsPy 1.2.2: filter(options={'corners': 4, 'freq': 40, 'zerophase': True}::type='highpass')\", 'ObsPy 1.2.2: decimate(factor=5::no_filter=True::strict_length=False)']\n"
     ]
    }
   ],
   "source": [
    "for tr in stream:\n",
    "    print(tr.stats)\n",
    "    break"
   ]
  },
  {
   "cell_type": "code",
   "execution_count": 12,
   "id": "525d8fa0-1d1c-4231-9d9d-0928d26a0b6c",
   "metadata": {},
   "outputs": [
    {
     "data": {
      "text/plain": [
       "38 Trace(s) in Stream:\n",
       "\n",
       "7F.A12..BHZ | 2020-01-11T00:00:00.000000Z - 2020-01-11T23:59:59.990000Z | 100.0 Hz, 8640000 samples\n",
       "...\n",
       "(36 other traces)\n",
       "...\n",
       "7F.B20..BHZ | 2020-01-11T00:00:00.000000Z - 2020-01-11T23:59:59.990000Z | 100.0 Hz, 8640000 samples\n",
       "\n",
       "[Use \"print(Stream.__str__(extended=True))\" to print all Traces]"
      ]
     },
     "execution_count": 12,
     "metadata": {},
     "output_type": "execute_result"
    }
   ],
   "source": [
    "# stream.filter(type='lowpass', corners=4, zerophase=True, freq=0.5)\n",
    "# stream.filter(type='lowpass', corners=4, zerophase=True, freq=0.2)\n",
    "stream.filter(type='lowpass', corners=4, zerophase=True, freq=0.05)"
   ]
  },
  {
   "cell_type": "code",
   "execution_count": 13,
   "id": "fd7e0e54-6b51-4a83-a728-00a71e7ac038",
   "metadata": {},
   "outputs": [
    {
     "data": {
      "text/plain": [
       "<matplotlib.legend.Legend at 0x7fdc21c3cd30>"
      ]
     },
     "execution_count": 13,
     "metadata": {},
     "output_type": "execute_result"
    },
    {
     "data": {
      "image/png": "[encoded data removed]",
      "text/plain": [
       "<Figure size 1080x360 with 1 Axes>"
      ]
     },
     "metadata": {
      "needs_background": "light"
     },
     "output_type": "display_data"
    }
   ],
   "source": [
    "A01 = stream.select(id='7F.A01..BHZ')[0]\n",
    "B01 = stream.select(id='7F.B01..BHZ')[0]\n",
    "\n",
    "fig, ax = plt.subplots(figsize=(15, 5))\n",
    "\n",
    "ax.plot(A01.times(), A01.data, label='A01')\n",
    "ax.plot(B01.times(), B01.data, alpha=1, label='B01')\n",
    "\n",
    "ax.legend(fontsize=15)\n",
    "# ax.set_xlim(2410, 2450)\n",
    "# ax.set_xlim(1800, 2300)\n",
    "# ax.set_xlim(2800, 3200)"
   ]
  },
  {
   "cell_type": "code",
   "execution_count": 14,
   "id": "77d2989d-c870-4016-b8c6-c86dc6abef2b",
   "metadata": {},
   "outputs": [
    {
     "data": {
      "text/plain": [
       "array(['A01', 'A02', 'A03', 'A04', 'A05', 'A06', 'A07', 'A08', 'A09',\n",
       "       'A10', 'A11', 'A12', 'A13', 'A14', 'A15', 'A16', 'A17', 'A18',\n",
       "       'A19', 'B01', 'B02', 'B03', 'B04', 'B05', 'B06', 'B07', 'B08',\n",
       "       'B09', 'B10', 'B11', 'B12', 'B13', 'B14', 'B15', 'B16', 'B17',\n",
       "       'B18', 'B19', 'B20'], dtype=object)"
      ]
     },
     "execution_count": 14,
     "metadata": {},
     "output_type": "execute_result"
    }
   ],
   "source": [
    "networkdf[networkdf.component=='GHZ'].station.unique()"
   ]
  },
  {
   "cell_type": "code",
   "execution_count": 15,
   "id": "697bf7ff-2423-4a45-b1ed-679e407079c6",
   "metadata": {},
   "outputs": [],
   "source": [
    "import itertools\n",
    "\n",
    "ns = []\n",
    "stations = []\n",
    "for n, tr in enumerate(stream.traces):\n",
    "    # print(n, tr.stats.station)\n",
    "    ns.append(n)\n",
    "    stations.append(tr.stats.station)\n",
    "\n",
    "geophones = networkdf[networkdf.component=='GHZ'].station.unique()\n",
    "gphone_pairs = [h for h in itertools.combinations(stations, 2)]\n",
    "# gphone_idx = dict(zip(geophones, [1, 19, 36, 37, 17, 18]))\n",
    "gphone_idx = dict(zip(stations, ns))\n",
    "# gphone_pairs"
   ]
  },
  {
   "cell_type": "code",
   "execution_count": 16,
   "id": "8178d3dd-515a-4767-bd07-5694c39fda16",
   "metadata": {
    "scrolled": true,
    "tags": []
   },
   "outputs": [],
   "source": [
    "\n",
    "stations = [tr.stats.station for tr in stream.traces]\n",
    "gphone_pairs = [h for h in itertools.combinations(stations, 2)]\n",
    "shift = 100*40\n",
    "window_length = 200\n",
    "\n",
    "def make_row(window):\n",
    "    rows = []\n",
    "    for pair in gphone_pairs:\n",
    "        # print('using pair {pair}'.format(pair=pair),';window:', str(window[0].stats.starttime))\n",
    "        g1, g2 = pair\n",
    "        cc = cross_correlation.correlate(a=window[gphone_idx[g1]]\n",
    "                                         ,b=window[gphone_idx[g2]]\n",
    "                                        ,shift=shift\n",
    "                                        ,demean=True\n",
    "                                        ,normalize=False\n",
    "                                        )\n",
    "        \n",
    "        cc_norm = cross_correlation.correlate(a=window[gphone_idx[g1]]\n",
    "                                        ,b=window[gphone_idx[g2]]\n",
    "                                        ,shift=shift\n",
    "                                        ,demean=True\n",
    "                                        ,normalize=True\n",
    "                                        )\n",
    "\n",
    "        row = {'g1_index':g1 # first hydrophone index used for cross correlation\n",
    "            , 'g2_index':g2 # second hydrophone index used for cross correlation\n",
    "            ,'cross_correlation_max':cc.max()\n",
    "            ,'cross_correlation_index':np.argmax(cc)\n",
    "            ,'sample_rate':window[0].stats.sampling_rate\n",
    "            ,'window_starttime':window[0].stats.starttime\n",
    "            ,'window_endtime':window[0].stats.endtime\n",
    "            ,'lagtime_seconds':(np.argmax(cc)-shift)/100.\n",
    "            # ,'cc_estimator':cc\n",
    "            # ,'cc_estimator_normed':cc_norm\n",
    "            ,'cc_normed_max':cc_norm.max()\n",
    "            ,'cc_normed_idx':np.argmax(cc_norm)\n",
    "            ,'normed_lagtime':(np.argmax(cc_norm)-shift)/100.\n",
    "            }\n",
    "        rows.append(row)\n",
    "        del row, g1, g2, cc, cc_norm\n",
    "    return rows\n",
    "\n",
    "def do(window):\n",
    "    rows = pd.DataFrame(make_row(window))\n",
    "    fileloc = '/media/sda/data/borehole/cc/{}.csv'.format(str(window[0].stats.starttime))\n",
    "    rows.to_csv(fileloc, index=False)\n",
    "    del rows, fileloc\n",
    "    \n",
    "    \n",
    "windows = [w for w in stream.slide(window_length=window_length, step=10)]\n",
    "# make_row(windows[400])"
   ]
  },
  {
   "cell_type": "code",
   "execution_count": 17,
   "id": "99d414dc-c457-447f-9861-7dbd4db85c37",
   "metadata": {
    "scrolled": true,
    "tags": []
   },
   "outputs": [],
   "source": [
    "# gphone_pairs"
   ]
  },
  {
   "cell_type": "code",
   "execution_count": 18,
   "id": "98f7962c-fb24-4d00-af02-c97b7e5a2155",
   "metadata": {},
   "outputs": [],
   "source": [
    "windows = [w for w in stream.slide(window_length=window_length, step=10)]"
   ]
  },
  {
   "cell_type": "code",
   "execution_count": 19,
   "id": "870c82d7-b967-4e4b-b5c7-22c12f97d436",
   "metadata": {},
   "outputs": [
    {
     "data": {
      "text/plain": [
       "38 Trace(s) in Stream:\n",
       "\n",
       "7F.A12..BHZ | 2020-01-11T00:00:00.000000Z - 2020-01-11T00:03:20.000000Z | 100.0 Hz, 20001 samples\n",
       "...\n",
       "(36 other traces)\n",
       "...\n",
       "7F.B20..BHZ | 2020-01-11T00:00:00.000000Z - 2020-01-11T00:03:20.000000Z | 100.0 Hz, 20001 samples\n",
       "\n",
       "[Use \"print(Stream.__str__(extended=True))\" to print all Traces]"
      ]
     },
     "execution_count": 19,
     "metadata": {},
     "output_type": "execute_result"
    }
   ],
   "source": [
    "windows[0]"
   ]
  },
  {
   "cell_type": "code",
   "execution_count": 20,
   "id": "8e1ab0dd-e2cd-4fd9-8169-0b47229e245b",
   "metadata": {},
   "outputs": [],
   "source": [
    "# %timeit make_row(windows[0])"
   ]
  },
  {
   "cell_type": "code",
   "execution_count": null,
   "id": "4770ee28-ce1d-40a3-acb9-48d85486a016",
   "metadata": {},
   "outputs": [],
   "source": [
    "pool = Pool(15)\n",
    "# rows = pool.map(make_row, windows)\n",
    "rows = pool.map(do, windows)\n",
    "pool.close()"
   ]
  },
  {
   "cell_type": "code",
   "execution_count": null,
   "id": "bdadb7f2-2eec-4086-8df3-9fb084df6a69",
   "metadata": {},
   "outputs": [],
   "source": [
    "print('it is finished.')"
   ]
  },
  {
   "cell_type": "code",
   "execution_count": 27,
   "id": "e4983c1c-5679-4c21-9de9-458d926f6699",
   "metadata": {},
   "outputs": [],
   "source": [
    "df = load.import_detections(filedir='/media/sda/data/borehole/cc/*.csv')"
   ]
  },
  {
   "cell_type": "code",
   "execution_count": 28,
   "id": "418fec4f-7ba6-4ffd-8b72-1e3c57d69274",
   "metadata": {},
   "outputs": [
    {
     "data": {
      "text/html": [
       "<div>\n",
       "<style scoped>\n",
       "    .dataframe tbody tr th:only-of-type {\n",
       "        vertical-align: middle;\n",
       "    }\n",
       "\n",
       "    .dataframe tbody tr th {\n",
       "        vertical-align: top;\n",
       "    }\n",
       "\n",
       "    .dataframe thead th {\n",
       "        text-align: right;\n",
       "    }\n",
       "</style>\n",
       "<table border=\"1\" class=\"dataframe\">\n",
       "  <thead>\n",
       "    <tr style=\"text-align: right;\">\n",
       "      <th></th>\n",
       "      <th>g1_index</th>\n",
       "      <th>g2_index</th>\n",
       "      <th>cross_correlation_max</th>\n",
       "      <th>cross_correlation_index</th>\n",
       "      <th>sample_rate</th>\n",
       "      <th>window_starttime</th>\n",
       "      <th>window_endtime</th>\n",
       "      <th>lagtime_seconds</th>\n",
       "      <th>cc_normed_max</th>\n",
       "      <th>cc_normed_idx</th>\n",
       "      <th>normed_lagtime</th>\n",
       "    </tr>\n",
       "  </thead>\n",
       "  <tbody>\n",
       "    <tr>\n",
       "      <th>0</th>\n",
       "      <td>A12</td>\n",
       "      <td>A01</td>\n",
       "      <td>1.899994e+07</td>\n",
       "      <td>4188</td>\n",
       "      <td>100.0</td>\n",
       "      <td>2020-01-11T08:20:40.000000Z</td>\n",
       "      <td>2020-01-11T08:24:00.000000Z</td>\n",
       "      <td>1.88</td>\n",
       "      <td>0.776441</td>\n",
       "      <td>4188</td>\n",
       "      <td>1.88</td>\n",
       "    </tr>\n",
       "    <tr>\n",
       "      <th>1</th>\n",
       "      <td>A12</td>\n",
       "      <td>A02</td>\n",
       "      <td>1.999511e+07</td>\n",
       "      <td>4218</td>\n",
       "      <td>100.0</td>\n",
       "      <td>2020-01-11T08:20:40.000000Z</td>\n",
       "      <td>2020-01-11T08:24:00.000000Z</td>\n",
       "      <td>2.18</td>\n",
       "      <td>0.770579</td>\n",
       "      <td>4218</td>\n",
       "      <td>2.18</td>\n",
       "    </tr>\n",
       "    <tr>\n",
       "      <th>2</th>\n",
       "      <td>A12</td>\n",
       "      <td>A03</td>\n",
       "      <td>1.985674e+07</td>\n",
       "      <td>4210</td>\n",
       "      <td>100.0</td>\n",
       "      <td>2020-01-11T08:20:40.000000Z</td>\n",
       "      <td>2020-01-11T08:24:00.000000Z</td>\n",
       "      <td>2.10</td>\n",
       "      <td>0.788995</td>\n",
       "      <td>4210</td>\n",
       "      <td>2.10</td>\n",
       "    </tr>\n",
       "    <tr>\n",
       "      <th>3</th>\n",
       "      <td>A12</td>\n",
       "      <td>A04</td>\n",
       "      <td>2.082508e+07</td>\n",
       "      <td>4242</td>\n",
       "      <td>100.0</td>\n",
       "      <td>2020-01-11T08:20:40.000000Z</td>\n",
       "      <td>2020-01-11T08:24:00.000000Z</td>\n",
       "      <td>2.42</td>\n",
       "      <td>0.769320</td>\n",
       "      <td>4242</td>\n",
       "      <td>2.42</td>\n",
       "    </tr>\n",
       "    <tr>\n",
       "      <th>4</th>\n",
       "      <td>A12</td>\n",
       "      <td>A05</td>\n",
       "      <td>1.964658e+07</td>\n",
       "      <td>4265</td>\n",
       "      <td>100.0</td>\n",
       "      <td>2020-01-11T08:20:40.000000Z</td>\n",
       "      <td>2020-01-11T08:24:00.000000Z</td>\n",
       "      <td>2.65</td>\n",
       "      <td>0.774268</td>\n",
       "      <td>4265</td>\n",
       "      <td>2.65</td>\n",
       "    </tr>\n",
       "    <tr>\n",
       "      <th>...</th>\n",
       "      <td>...</td>\n",
       "      <td>...</td>\n",
       "      <td>...</td>\n",
       "      <td>...</td>\n",
       "      <td>...</td>\n",
       "      <td>...</td>\n",
       "      <td>...</td>\n",
       "      <td>...</td>\n",
       "      <td>...</td>\n",
       "      <td>...</td>\n",
       "      <td>...</td>\n",
       "    </tr>\n",
       "    <tr>\n",
       "      <th>698</th>\n",
       "      <td>B17</td>\n",
       "      <td>B19</td>\n",
       "      <td>5.784573e+05</td>\n",
       "      <td>4000</td>\n",
       "      <td>100.0</td>\n",
       "      <td>2020-01-11T21:59:30.000000Z</td>\n",
       "      <td>2020-01-11T22:02:50.000000Z</td>\n",
       "      <td>0.00</td>\n",
       "      <td>0.537409</td>\n",
       "      <td>4000</td>\n",
       "      <td>0.00</td>\n",
       "    </tr>\n",
       "    <tr>\n",
       "      <th>699</th>\n",
       "      <td>B17</td>\n",
       "      <td>B20</td>\n",
       "      <td>4.888780e+05</td>\n",
       "      <td>4110</td>\n",
       "      <td>100.0</td>\n",
       "      <td>2020-01-11T21:59:30.000000Z</td>\n",
       "      <td>2020-01-11T22:02:50.000000Z</td>\n",
       "      <td>1.10</td>\n",
       "      <td>0.582780</td>\n",
       "      <td>4110</td>\n",
       "      <td>1.10</td>\n",
       "    </tr>\n",
       "    <tr>\n",
       "      <th>700</th>\n",
       "      <td>B18</td>\n",
       "      <td>B19</td>\n",
       "      <td>1.398585e+06</td>\n",
       "      <td>4364</td>\n",
       "      <td>100.0</td>\n",
       "      <td>2020-01-11T21:59:30.000000Z</td>\n",
       "      <td>2020-01-11T22:02:50.000000Z</td>\n",
       "      <td>3.64</td>\n",
       "      <td>0.462959</td>\n",
       "      <td>4364</td>\n",
       "      <td>3.64</td>\n",
       "    </tr>\n",
       "    <tr>\n",
       "      <th>701</th>\n",
       "      <td>B18</td>\n",
       "      <td>B20</td>\n",
       "      <td>8.567674e+05</td>\n",
       "      <td>1112</td>\n",
       "      <td>100.0</td>\n",
       "      <td>2020-01-11T21:59:30.000000Z</td>\n",
       "      <td>2020-01-11T22:02:50.000000Z</td>\n",
       "      <td>-28.88</td>\n",
       "      <td>0.363904</td>\n",
       "      <td>1112</td>\n",
       "      <td>-28.88</td>\n",
       "    </tr>\n",
       "    <tr>\n",
       "      <th>702</th>\n",
       "      <td>B19</td>\n",
       "      <td>B20</td>\n",
       "      <td>9.245666e+05</td>\n",
       "      <td>7467</td>\n",
       "      <td>100.0</td>\n",
       "      <td>2020-01-11T21:59:30.000000Z</td>\n",
       "      <td>2020-01-11T22:02:50.000000Z</td>\n",
       "      <td>34.67</td>\n",
       "      <td>0.449724</td>\n",
       "      <td>7467</td>\n",
       "      <td>34.67</td>\n",
       "    </tr>\n",
       "  </tbody>\n",
       "</table>\n",
       "<p>6060563 rows × 11 columns</p>\n",
       "</div>"
      ],
      "text/plain": [
       "    g1_index g2_index  cross_correlation_max  cross_correlation_index  \\\n",
       "0        A12      A01           1.899994e+07                     4188   \n",
       "1        A12      A02           1.999511e+07                     4218   \n",
       "2        A12      A03           1.985674e+07                     4210   \n",
       "3        A12      A04           2.082508e+07                     4242   \n",
       "4        A12      A05           1.964658e+07                     4265   \n",
       "..       ...      ...                    ...                      ...   \n",
       "698      B17      B19           5.784573e+05                     4000   \n",
       "699      B17      B20           4.888780e+05                     4110   \n",
       "700      B18      B19           1.398585e+06                     4364   \n",
       "701      B18      B20           8.567674e+05                     1112   \n",
       "702      B19      B20           9.245666e+05                     7467   \n",
       "\n",
       "     sample_rate             window_starttime               window_endtime  \\\n",
       "0          100.0  2020-01-11T08:20:40.000000Z  2020-01-11T08:24:00.000000Z   \n",
       "1          100.0  2020-01-11T08:20:40.000000Z  2020-01-11T08:24:00.000000Z   \n",
       "2          100.0  2020-01-11T08:20:40.000000Z  2020-01-11T08:24:00.000000Z   \n",
       "3          100.0  2020-01-11T08:20:40.000000Z  2020-01-11T08:24:00.000000Z   \n",
       "4          100.0  2020-01-11T08:20:40.000000Z  2020-01-11T08:24:00.000000Z   \n",
       "..           ...                          ...                          ...   \n",
       "698        100.0  2020-01-11T21:59:30.000000Z  2020-01-11T22:02:50.000000Z   \n",
       "699        100.0  2020-01-11T21:59:30.000000Z  2020-01-11T22:02:50.000000Z   \n",
       "700        100.0  2020-01-11T21:59:30.000000Z  2020-01-11T22:02:50.000000Z   \n",
       "701        100.0  2020-01-11T21:59:30.000000Z  2020-01-11T22:02:50.000000Z   \n",
       "702        100.0  2020-01-11T21:59:30.000000Z  2020-01-11T22:02:50.000000Z   \n",
       "\n",
       "     lagtime_seconds  cc_normed_max  cc_normed_idx  normed_lagtime  \n",
       "0               1.88       0.776441           4188            1.88  \n",
       "1               2.18       0.770579           4218            2.18  \n",
       "2               2.10       0.788995           4210            2.10  \n",
       "3               2.42       0.769320           4242            2.42  \n",
       "4               2.65       0.774268           4265            2.65  \n",
       "..               ...            ...            ...             ...  \n",
       "698             0.00       0.537409           4000            0.00  \n",
       "699             1.10       0.582780           4110            1.10  \n",
       "700             3.64       0.462959           4364            3.64  \n",
       "701           -28.88       0.363904           1112          -28.88  \n",
       "702            34.67       0.449724           7467           34.67  \n",
       "\n",
       "[6060563 rows x 11 columns]"
      ]
     },
     "execution_count": 28,
     "metadata": {},
     "output_type": "execute_result"
    }
   ],
   "source": [
    "df"
   ]
  },
  {
   "cell_type": "code",
   "execution_count": 29,
   "id": "c09d8480-1c6f-48f7-9c48-817c8ace90e1",
   "metadata": {},
   "outputs": [
    {
     "name": "stdout",
     "output_type": "stream",
     "text": [
      "wtf is going on\n"
     ]
    }
   ],
   "source": [
    "print('wtf is going on')"
   ]
  },
  {
   "cell_type": "code",
   "execution_count": null,
   "id": "96240ff9-92a7-4645-9b44-d777a7cb2ea5",
   "metadata": {},
   "outputs": [],
   "source": []
  },
  {
   "cell_type": "code",
   "execution_count": null,
   "id": "45217811-3bc2-40c3-85a4-5938e4f595e8",
   "metadata": {},
   "outputs": [],
   "source": [
    "cc_df.lagtime_seconds[400]"
   ]
  },
  {
   "cell_type": "code",
   "execution_count": null,
   "id": "7c253f21-e9b5-4a97-8cd0-7dbef7971c03",
   "metadata": {},
   "outputs": [],
   "source": [
    "plt.plot(cc_df.cc_estimator_normed[400])"
   ]
  },
  {
   "cell_type": "code",
   "execution_count": null,
   "id": "43886501-b7b5-43ba-88ed-d276a7392159",
   "metadata": {},
   "outputs": [],
   "source": [
    "plt.plot(cc_df.cc_estimator[400])"
   ]
  },
  {
   "cell_type": "code",
   "execution_count": null,
   "id": "6b546c31-1db9-4d5a-a8e0-a4628727d0e8",
   "metadata": {},
   "outputs": [],
   "source": [
    "(np.argmax(cc_df.cc_estimator[400])-shift)/100"
   ]
  },
  {
   "cell_type": "code",
   "execution_count": null,
   "id": "aedca3e2-e748-4394-a5a1-2eedbfad8afb",
   "metadata": {},
   "outputs": [],
   "source": [
    "(np.argmax(cc_df.cc_estimator_normed[400])-shift)/100"
   ]
  },
  {
   "cell_type": "code",
   "execution_count": null,
   "id": "a4e0d399-d215-4b35-a995-57f28a7d0d77",
   "metadata": {},
   "outputs": [],
   "source": [
    "cc_df.g1_index.unique()"
   ]
  },
  {
   "cell_type": "code",
   "execution_count": null,
   "id": "1a305447-3f6f-465b-9f07-4b4e26e98b59",
   "metadata": {},
   "outputs": [],
   "source": [
    "cc_df"
   ]
  },
  {
   "cell_type": "code",
   "execution_count": null,
   "id": "ba4618cf-a60a-4bf3-9a03-fffc2cf5732d",
   "metadata": {},
   "outputs": [],
   "source": [
    "\n",
    "# # shift = 100*1\n",
    "# shift = 100*40\n",
    "# # window_length = 5\n",
    "# window_length = 200\n",
    "\n",
    "# cc_df = pd.DataFrame()\n",
    "\n",
    "# for window in stream.slide(window_length=window_length, step=10):\n",
    "#     for pair in gphone_pairs:\n",
    "#         g1, g2 = pair\n",
    "#         # g1 = gphone_idx[g1]\n",
    "#         # g2 = gphone_idx[g2]\n",
    "#         cc = cross_correlation.correlate(a=window[gphone_idx[g1]]\n",
    "#                                         ,b=window[gphone_idx[g2]]\n",
    "#                                         # ,shift=100*1\n",
    "#                                         ,shift=shift\n",
    "#                                         ,demean=True\n",
    "#                                         ,normalize=False\n",
    "#                                         )\n",
    "#         cc_norm = cross_correlation.correlate(a=window[gphone_idx[g1]]\n",
    "#                                         ,b=window[gphone_idx[g2]]\n",
    "#                                         # ,shift=100*1\n",
    "#                                         ,shift=shift\n",
    "#                                         ,demean=True\n",
    "#                                         ,normalize=True\n",
    "#                                         )\n",
    "        \n",
    "#         window_df = pd.DataFrame(\n",
    "#             {\n",
    "#                 'g1_index':(g1,) # first hydrophone index used for cross correlation\n",
    "#                 , 'g2_index':(g2,) # second hydrophone index used for cross correlation\n",
    "#                 ,'cross_correlation_max':[cc.max(),]\n",
    "#                 ,'cross_correlation_index':[np.argmax(cc),]\n",
    "#                 ,'sample_rate':[window[0].stats.sampling_rate,]\n",
    "#                 ,'window_starttime':[window[0].stats.starttime,]\n",
    "#                 ,'window_endtime':[window[0].stats.endtime]\n",
    "#                 ,'lagtime_seconds':((np.argmax(cc)-shift)/100.,)\n",
    "#                 ,'cc_estimator':(cc,)\n",
    "#                 ,'cc_estimator_normed':(cc_norm,)\n",
    "#                 ,'cc_normed_max':(cc_norm.max(),)\n",
    "#                 ,'cc_normed_idx':(np.argmax(cc_norm),)\n",
    "#                 ,'normed_lagtime':((np.argmax(cc_norm)-shift)/100.,)\n",
    "#             }\n",
    "#         )\n",
    "#         cc_df = pd.concat([cc_df, window_df])\n",
    "# cc_df.reset_index(inplace=True)\n",
    "# cc_df.head()        "
   ]
  },
  {
   "cell_type": "code",
   "execution_count": null,
   "id": "46c6a429-1227-4e25-bc8c-8fc01a57b4fc",
   "metadata": {},
   "outputs": [],
   "source": [
    "cc_df[(cc_df.g1_index=='A01') & (cc_df.g2_index=='B01')].lagtime_seconds"
   ]
  },
  {
   "cell_type": "code",
   "execution_count": null,
   "id": "1d97adc3-4c5c-4e45-b0db-e744a0af2067",
   "metadata": {},
   "outputs": [],
   "source": [
    "cc_df[(cc_df.g1_index=='A01') & (cc_df.g2_index=='B01') & (cc_df.cc_normed_max>=0.8)].lagtime_seconds"
   ]
  },
  {
   "cell_type": "code",
   "execution_count": null,
   "id": "172be993-3212-4dba-8943-0e14a42f4040",
   "metadata": {},
   "outputs": [],
   "source": [
    "ax = cc_df[(cc_df.g1_index=='A01') & (cc_df.g2_index=='B01') & (cc_df.cross_correlation_max>=0.1e8)].cross_correlation_max.hist(bins=100)\n",
    "# ax.set_yscale('log')"
   ]
  },
  {
   "cell_type": "code",
   "execution_count": null,
   "id": "209e812c-2a2a-4f5f-a93f-f5c9eadc3bf2",
   "metadata": {},
   "outputs": [],
   "source": [
    "ax = cc_df[(cc_df.g1_index=='A01') & (cc_df.g2_index=='B01') & (cc_df.cross_correlation_max>=0.05e8) & (cc_df.cc_normed_max>=0.8)].lagtime_seconds.hist(bins=100)\n",
    "# ax.set_yscale('log')"
   ]
  },
  {
   "cell_type": "code",
   "execution_count": null,
   "id": "7d2bc8f1-cc8b-4e09-b7ec-a88876132b3a",
   "metadata": {},
   "outputs": [],
   "source": [
    "colors = dict(zip(geophones, ['black', 'red', 'dodgerblue', 'darkorange', 'green', 'cyan']))"
   ]
  },
  {
   "cell_type": "code",
   "execution_count": null,
   "id": "5d1ea5c7-073a-4fc7-93c6-32921fb9f3ef",
   "metadata": {},
   "outputs": [],
   "source": [
    "fig, ax = plt.subplots(2, 1, figsize=(15, 10), sharex=True)\n",
    "\n",
    "timesteps = 341\n",
    "\n",
    "x, y = stream.traces[1].times(), stream.traces[1].data\n",
    "# ax[0].plot(x, y, color='black', label='A01')\n",
    "ax[0].plot(x, y, color=colors[geophones[0]], label='A01')\n",
    "\n",
    "x, y = stream[gphone_idx['B01']].times(), stream[gphone_idx['B01']].data\n",
    "# ax[0].plot(x, y, color='red', label='B01')\n",
    "ax[0].plot(x, y, color=colors[geophones[1]], label='B01')\n",
    "\n",
    "for g in geophones[2:]:\n",
    "    data = stream.traces[gphone_idx[g]]\n",
    "    # ax[0].plot(data.times(), data.data, label=g)\n",
    "    ax[0].plot(data.times(), data.data, label=g, color=colors[g])\n",
    "\n",
    "    \n",
    "data = cc_df[(cc_df.g1_index=='A01') & (cc_df.g2_index=='B01')].copy()\n",
    "x, y = np.linspace(0, 3600, timesteps), data['lagtime_seconds'].values\n",
    "ax[1].plot(x, y, label='A01*B01', color=colors['B01'])\n",
    "\n",
    "data = cc_df[(cc_df.g1_index=='A01') & (cc_df.g2_index=='B19')].copy()\n",
    "x, y = np.linspace(0, 3600, timesteps), data['lagtime_seconds'].values\n",
    "ax[1].plot(x, y, label='A01*B19', color=colors['B19'])\n",
    "\n",
    "data = cc_df[(cc_df.g1_index=='A01') & (cc_df.g2_index=='B20')].copy()\n",
    "x, y = np.linspace(0, 3600, timesteps), data['lagtime_seconds'].values\n",
    "ax[1].plot(x, y, label='A01*B20', color=colors['B20'])\n",
    "\n",
    "data = cc_df[(cc_df.g1_index=='A01') & (cc_df.g2_index=='A18')].copy()\n",
    "x, y = np.linspace(0, 3600, timesteps), data['lagtime_seconds'].values\n",
    "ax[1].plot(x, y, label='A01*A18', color=colors['A18'])\n",
    "\n",
    "data = cc_df[(cc_df.g1_index=='A01') & (cc_df.g2_index=='A19')].copy()\n",
    "x, y = np.linspace(0, 3600, timesteps), data['lagtime_seconds'].values\n",
    "ax[1].plot(x, y, label='A01*A19', color=colors['A19'])\n",
    "\n",
    "\n",
    "\n",
    "# ax[1].set_xlim(2200, 3200)\n",
    "# ax[1].set_xlim(2300, 2600)\n",
    "# ax[1].set_xlim(1200, 3200)\n",
    "# ax[1].set_xlim(2700, 2850)\n",
    "# ax[0].set_ylim(0, 1e3)\n",
    "ax[0].legend(fontsize=15)\n",
    "ax[1].legend(fontsize=15)\n",
    "# ax[1].set_ylim(-20, 20)\n",
    "# ax[0].set_xlim(300, 800)\n",
    "# ax[0].set_ylim(0, 2000)\n",
    "\n",
    "# ax[1].set_xlim(3000, 3500)\n",
    "ax[1].set_xlabel('starttime: '+str(stream.traces[0].stats.starttime), fontsize=20)\n",
    "\n",
    "fig.tight_layout()"
   ]
  },
  {
   "cell_type": "code",
   "execution_count": null,
   "id": "e7ad15a4-e1aa-4819-9963-4740e6179cdf",
   "metadata": {},
   "outputs": [],
   "source": []
  },
  {
   "cell_type": "code",
   "execution_count": null,
   "id": "5305e550-ae2d-4314-8bb4-4b29f8be9327",
   "metadata": {},
   "outputs": [],
   "source": [
    "# 3600/720"
   ]
  },
  {
   "cell_type": "code",
   "execution_count": null,
   "id": "a5da6024-60a2-4ac5-afec-5086c6791ca3",
   "metadata": {},
   "outputs": [],
   "source": [
    "for n, tr in enumerate(stream):\n",
    "    print(n, tr.stats.station)"
   ]
  },
  {
   "cell_type": "code",
   "execution_count": null,
   "id": "7cd08f65-4385-4b11-946c-b048b98d458a",
   "metadata": {},
   "outputs": [],
   "source": []
  },
  {
   "cell_type": "code",
   "execution_count": null,
   "id": "6720aa87-df18-48d0-ad03-13ce2e3c1863",
   "metadata": {},
   "outputs": [],
   "source": [
    "# stream.decimate(factor=10, no_filter=True)"
   ]
  },
  {
   "cell_type": "code",
   "execution_count": null,
   "id": "88fd22de-0ebd-4532-ab9f-59b8ae8052ce",
   "metadata": {},
   "outputs": [],
   "source": [
    "# stream.decimate(factor=10, no_filter=True)"
   ]
  },
  {
   "cell_type": "code",
   "execution_count": null,
   "id": "68059221-bab5-40bb-9fee-69148f760e35",
   "metadata": {},
   "outputs": [],
   "source": [
    "# stream.decimate(factor=10, no_filter=True)"
   ]
  },
  {
   "cell_type": "code",
   "execution_count": null,
   "id": "fdf13a8e-2d8a-44b3-b7b6-a9ccffaa253b",
   "metadata": {},
   "outputs": [],
   "source": [
    "# # windows = stream.slide(window_length=10, step=10)\n",
    "# windows = stream.slide(window_length=1, step=1)\n",
    "\n",
    "# for w in windows:\n",
    "#     print([tr.data[0] for tr in w])\n",
    "#     break"
   ]
  },
  {
   "cell_type": "code",
   "execution_count": null,
   "id": "3911fd0d-2682-4997-8e1d-206437743d50",
   "metadata": {},
   "outputs": [],
   "source": [
    "# use decimate instead of max\n",
    "# windows = stream.slide(window_length=10, step=10)\n",
    "# # windows = stream.slide(window_length=1, step=1)\n",
    "# windows = stream.slide(window_length=0.1, step=0.1)\n",
    "\n",
    "# maxamp_df = pd.DataFrame()\n",
    "\n",
    "# for w in windows:\n",
    "#     stations = [tr.stats.station for tr in w]\n",
    "#     amps = np.array([tr.data[0] for tr in w])\n",
    "#     row = dict(zip(stations, amps))\n",
    "#     wdf = pd.DataFrame(row, index=(pd.to_datetime(str(w[0].stats.starttime)),))\n",
    "#     maxamp_df = pd.concat([maxamp_df, wdf])"
   ]
  },
  {
   "cell_type": "code",
   "execution_count": null,
   "id": "89f17c64-0902-4d1a-9bd4-9d47ea574194",
   "metadata": {},
   "outputs": [],
   "source": [
    "# windows = stream.slide(window_length=10, step=10)\n",
    "# # windows = stream.slide(window_length=60, step=60)\n",
    "\n",
    "# maxamp_df = pd.DataFrame()\n",
    "\n",
    "# for window in windows:\n",
    "#     stations = [tr.stats.station for tr in window]\n",
    "#     ampmax = window.max()\n",
    "#     row = dict(zip(stations, ampmax))\n",
    "#     wdf = pd.DataFrame(row, index=[pd.to_datetime(str(window[0].stats.starttime))])\n",
    "#     maxamp_df = pd.concat([maxamp_df, wdf])"
   ]
  },
  {
   "cell_type": "code",
   "execution_count": null,
   "id": "e3aa220f-bb74-4451-aa4d-efaad92b88f3",
   "metadata": {},
   "outputs": [],
   "source": [
    "# plt.hist(maxamp_df.apply(np.log10).values.flatten(), bins=np.linspace(-1, 5, 601//4))\n",
    "# ''"
   ]
  },
  {
   "cell_type": "code",
   "execution_count": null,
   "id": "aed18cb1-3bb3-40e6-afa4-97d355688df2",
   "metadata": {},
   "outputs": [],
   "source": [
    "# plt.hist(maxamp_df.values.flatten(), bins=np.linspace(0, 1000, 1000))\n",
    "# plt.yscale('log')"
   ]
  },
  {
   "cell_type": "code",
   "execution_count": null,
   "id": "25e2af03-6c2e-483d-aff5-2ecf418f4353",
   "metadata": {},
   "outputs": [],
   "source": [
    "# eventdir = 'event1_day011/'\n",
    "# eventdir = 'event2_day011/'\n",
    "\n",
    "# if event == 1:\n",
    "#     eventdir = 'event1_day011/'\n",
    "# elif event == 2:\n",
    "#     eventdir = 'event2_day011/'\n",
    "# elif event == 3:\n",
    "#     eventdir = 'event2_day011_10hz/'\n",
    "# else:\n",
    "    # raise ValueError('wtf is an event anyways')"
   ]
  },
  {
   "cell_type": "code",
   "execution_count": null,
   "id": "327ef3cb-0bf0-4940-ad96-ee384e8eaaeb",
   "metadata": {},
   "outputs": [],
   "source": [
    "# lons = networkdf[networkdf.component == 'GHZ'].set_index('station').longitude\n",
    "# lats = networkdf[networkdf.component == 'GHZ'].set_index('station').latitude\n",
    "\n",
    "# def makefig(row):\n",
    "#     row = row[1]\n",
    "#     fig, ax = plt.subplots(figsize=(10, 10))\n",
    "#     time = str(row.name)\n",
    "#     row.name = 'maxamp'\n",
    "#     stations = row.index\n",
    "    \n",
    "#     df = pd.DataFrame([row, lons, lats]).transpose()\n",
    "#     df['maxamp'] = df.maxamp.apply(np.log10)\n",
    "#     df.plot.scatter(ax=ax, x='longitude', y='latitude', s=np.exp(df.maxamp)*50\n",
    "#                     , c='maxamp', cmap='YlGnBu', edgecolor='black'\n",
    "#                     # , vmin=3.5, vmax=5, alpha=0.75)\n",
    "#                     , vmin=2, vmax=4, alpha=0.75)\n",
    "    \n",
    "#     fig.text(s=time, x=0.15, y=0.15, fontsize=15)\n",
    "#     fig.savefig('/media/sda/data/borehole/maps/{}-ba1b.png'.format(eventdir+time), dpi=150, bbox_inches='tight')\n",
    "#     plt.close(fig)\n"
   ]
  },
  {
   "cell_type": "code",
   "execution_count": null,
   "id": "b574a882-a689-4183-b857-9e170a2fef7c",
   "metadata": {},
   "outputs": [],
   "source": [
    "# rows = [row for row in maxamp_df.iterrows()]\n",
    "\n",
    "# from multiprocessing import Pool\n",
    "\n",
    "# pool = Pool(15)\n",
    "# pool.map(makefig, rows)\n",
    "# pool.close()"
   ]
  },
  {
   "cell_type": "code",
   "execution_count": null,
   "id": "72646a81-789e-4f41-90ef-74d34e9c97b5",
   "metadata": {},
   "outputs": [],
   "source": [
    "# fig, ax = plt.subplots(figsize=(10, 10))\n",
    "\n",
    "# row = maxamp_df.iloc[31]\n",
    "# time = str(row.name)\n",
    "# row.name = 'maxamp'\n",
    "# stations = row.index\n",
    "\n",
    "# borehole_locs = networkdf[(networkdf.component=='GDH') & (networkdf.local_depth==35)]\n",
    "\n",
    "# A00 = borehole_locs[borehole_locs.station=='A00']\n",
    "# B00 = borehole_locs[borehole_locs.station=='B00']\n",
    "\n",
    "# ax.plot(A00.longitude, A00.latitude, marker='.', color='black')\n",
    "# ax.text(s='A00', x=A00.longitude+0.00002, y=A00.latitude, fontsize=12, zorder=0)\n",
    "\n",
    "# ax.plot(B00.longitude, B00.latitude, marker='.', color='black')\n",
    "# ax.text(s='B00', x=B00.longitude+0.00002, y=B00.latitude, fontsize=12, zorder=0)\n",
    "\n",
    "# lons = networkdf[networkdf.component == 'GHZ'].set_index('station').longitude\n",
    "# lats = networkdf[networkdf.component == 'GHZ'].set_index('station').latitude\n",
    "\n",
    "# ax.plot()\n",
    "\n",
    "# df = pd.DataFrame([row, lons, lats]).transpose()\n",
    "# df['maxamp'] = df.maxamp.apply(np.log10)\n",
    "# df.plot.scatter(ax=ax, x='longitude', y='latitude', s=np.exp(df.maxamp)*50, c='maxamp', cmap='YlGnBu', edgecolor='None', vmin=3.5, vmax=5, alpha=0.75)\n",
    "\n",
    "# fig.text(s=time, x=0.15, y=0.15, fontsize=15)\n",
    "\n",
    "# # fig.tight_layout()\n"
   ]
  }
 ],
 "metadata": {
  "kernelspec": {
   "display_name": "Python [conda env:borehole] *",
   "language": "python",
   "name": "conda-env-borehole-py"
  },
  "language_info": {
   "codemirror_mode": {
    "name": "ipython",
    "version": 3
   },
   "file_extension": ".py",
   "mimetype": "text/x-python",
   "name": "python",
   "nbconvert_exporter": "python",
   "pygments_lexer": "ipython3",
   "version": "3.8.12"
  }
 },
 "nbformat": 4,
 "nbformat_minor": 5
}
