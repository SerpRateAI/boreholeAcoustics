{
 "cells": [
  {
   "cell_type": "code",
   "execution_count": 13,
   "id": "924a5313-0a54-45c4-b812-7b1c73a29fd6",
   "metadata": {},
   "outputs": [],
   "source": [
    "%matplotlib inline\n",
    "import cv2\n",
    "import glob\n",
    "import os\n",
    "\n",
    "# image_folder = 'images'\n",
    "video_name = 'video.avi'\n",
    "\n",
    "# images = [img for img in os.listdir(image_folder) if img.endswith(\".png\")]\n",
    "# frame = cv2.imread(os.path.join(image_folder, images[0]))\n",
    "maps = sorted(glob.glob('/media/sda/data/borehole/maps/*.png'))\n",
    "frame = cv2.imread(maps[0])\n",
    "height, width, layers = frame.shape\n",
    "\n",
    "video = cv2.VideoWriter(video_name, 0, 1, (width,height))\n",
    "\n",
    "# for image in images:\n",
    "for image in maps:\n",
    "    video.write(cv2.imread(image))\n",
    "\n",
    "cv2.destroyAllWindows()\n",
    "video.release()"
   ]
  },
  {
   "cell_type": "code",
   "execution_count": 14,
   "id": "5011e816-65c3-46bb-847f-5c1dcbc6acea",
   "metadata": {},
   "outputs": [
    {
     "name": "stdout",
     "output_type": "stream",
     "text": [
      "where will we drink beer?\n"
     ]
    }
   ],
   "source": [
    "print('where will we drink beer?')"
   ]
  },
  {
   "cell_type": "code",
   "execution_count": 17,
   "id": "0f923ed3-d39c-4916-b7b0-e094aadcb879",
   "metadata": {},
   "outputs": [
    {
     "data": {
      "text/plain": [
       "3"
      ]
     },
     "execution_count": 17,
     "metadata": {},
     "output_type": "execute_result"
    }
   ],
   "source": []
  },
  {
   "cell_type": "code",
   "execution_count": 9,
   "id": "97ab0e83-611e-4870-a7aa-4c98d894f21e",
   "metadata": {},
   "outputs": [
    {
     "data": {
      "text/plain": [
       "'/media/sda/data/borehole/maps/2020-01-11 05:04:40+00:00-ba1b.png'"
      ]
     },
     "execution_count": 9,
     "metadata": {},
     "output_type": "execute_result"
    }
   ],
   "source": [
    "maps[0]"
   ]
  },
  {
   "cell_type": "code",
   "execution_count": 7,
   "id": "769abfd1-90d8-44a4-a67a-b0cb2f732200",
   "metadata": {},
   "outputs": [
    {
     "data": {
      "text/plain": [
       "'/media/sda/data/borehole/maps/2020-01-11 05:04:40+00:00-ba1b.png'"
      ]
     },
     "execution_count": 7,
     "metadata": {},
     "output_type": "execute_result"
    }
   ],
   "source": [
    "image_folder = '/media/sda/data/borehole/maps/'\n",
    "video_name = 'video.avi'\n",
    "\n",
    "images = [img for img in os.listdir(image_folder) if img.endswith(\".png\")]\n",
    "os.path.join(image_folder, images[0])"
   ]
  },
  {
   "cell_type": "code",
   "execution_count": 12,
   "id": "fea87add-734c-4332-a9f0-00b1388cfe5f",
   "metadata": {},
   "outputs": [
    {
     "data": {
      "text/plain": [
       "['/media/sda/data/borehole/maps/2020-01-11 01:47:50+00:00-ba1b.png',\n",
       " '/media/sda/data/borehole/maps/2020-01-11 04:29:40+00:00-ba1b.png',\n",
       " '/media/sda/data/borehole/maps/2020-01-11 05:04:40+00:00-ba1b.png',\n",
       " '/media/sda/data/borehole/maps/2020-01-11 05:59:30+00:00-ba1b.png',\n",
       " '/media/sda/data/borehole/maps/2020-01-11 09:43:40+00:00-ba1b.png',\n",
       " '/media/sda/data/borehole/maps/2020-01-11 10:39:10+00:00-ba1b.png',\n",
       " '/media/sda/data/borehole/maps/2020-01-11 14:35:20+00:00-ba1b.png',\n",
       " '/media/sda/data/borehole/maps/2020-01-11 17:03:50+00:00-ba1b.png',\n",
       " '/media/sda/data/borehole/maps/2020-01-11 17:05:20+00:00-ba1b.png',\n",
       " '/media/sda/data/borehole/maps/2020-01-11 22:00:50+00:00-ba1b.png']"
      ]
     },
     "execution_count": 12,
     "metadata": {},
     "output_type": "execute_result"
    }
   ],
   "source": [
    "sorted(maps[0:10])"
   ]
  }
 ],
 "metadata": {
  "kernelspec": {
   "display_name": "Python [conda env:borehole] *",
   "language": "python",
   "name": "conda-env-borehole-py"
  },
  "language_info": {
   "codemirror_mode": {
    "name": "ipython",
    "version": 3
   },
   "file_extension": ".py",
   "mimetype": "text/x-python",
   "name": "python",
   "nbconvert_exporter": "python",
   "pygments_lexer": "ipython3",
   "version": "3.8.12"
  }
 },
 "nbformat": 4,
 "nbformat_minor": 5
}
