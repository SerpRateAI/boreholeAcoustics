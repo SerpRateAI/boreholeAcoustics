{
 "cells": [
  {
   "cell_type": "code",
   "execution_count": 1,
   "id": "6d4c2b0c-679b-4792-8fba-28493244b51c",
   "metadata": {},
   "outputs": [],
   "source": [
    "# !conda install obspy"
   ]
  },
  {
   "cell_type": "code",
   "execution_count": 2,
   "id": "c1b0234b-3f62-4d96-a0d6-5032f50d0148",
   "metadata": {},
   "outputs": [],
   "source": [
    "# !which jupyter"
   ]
  },
  {
   "cell_type": "code",
   "execution_count": 3,
   "id": "7f367d6c-3766-4c38-b945-7f47c24d09ff",
   "metadata": {},
   "outputs": [],
   "source": [
    "# import sys\n",
    "# sys.path"
   ]
  },
  {
   "cell_type": "code",
   "execution_count": 4,
   "id": "6d92387a-8ed8-4b60-9cf7-3364145ecf5f",
   "metadata": {},
   "outputs": [],
   "source": [
    "%matplotlib inline\n",
    "from obspy import read_inventory\n"
   ]
  },
  {
   "cell_type": "code",
   "execution_count": 5,
   "id": "7e668875-0a21-45da-a566-ba191c7ce12c",
   "metadata": {},
   "outputs": [],
   "source": [
    "inventory = read_inventory('/media/sda/data/borehole/7F.OmanDP.PIC.2020127', format=\"STATIONXML\")"
   ]
  },
  {
   "cell_type": "code",
   "execution_count": 6,
   "id": "c64c1075-0341-41c0-919d-174e54dccc19",
   "metadata": {},
   "outputs": [
    {
     "data": {
      "text/plain": [
       "Inventory created at 2020-03-31T16:12:43.301067Z\n",
       "\tCreated by: ObsPy 1.1.1\n",
       "\t\t    https://www.obspy.org\n",
       "\tSending institution: None\n",
       "\tContains:\n",
       "\t\tNetworks (1):\n",
       "\t\t\t7F\n",
       "\t\tStations (41):\n",
       "\t\t\t7F.A00 (A00)\n",
       "\t\t\t7F.A01 (A01)\n",
       "\t\t\t7F.A02 (A02)\n",
       "\t\t\t7F.A03 (A03)\n",
       "\t\t\t7F.A04 (A04)\n",
       "\t\t\t7F.A05 (A05)\n",
       "\t\t\t7F.A06 (A06)\n",
       "\t\t\t7F.A07 (A07)\n",
       "\t\t\t7F.A08 (A08)\n",
       "\t\t\t7F.A09 (A09)\n",
       "\t\t\t7F.A10 (A10)\n",
       "\t\t\t7F.A11 (A11)\n",
       "\t\t\t7F.A12 (A12)\n",
       "\t\t\t7F.A13 (A13)\n",
       "\t\t\t7F.A14 (A14)\n",
       "\t\t\t7F.A15 (A15)\n",
       "\t\t\t7F.A16 (A16)\n",
       "\t\t\t7F.A17 (A17)\n",
       "\t\t\t7F.A18 (A18)\n",
       "\t\t\t7F.A19 (A19)\n",
       "\t\t\t7F.B00 (B00)\n",
       "\t\t\t7F.B01 (B01)\n",
       "\t\t\t7F.B02 (B02)\n",
       "\t\t\t7F.B03 (B03)\n",
       "\t\t\t7F.B04 (B04)\n",
       "\t\t\t7F.B05 (B05)\n",
       "\t\t\t7F.B06 (B06)\n",
       "\t\t\t7F.B07 (B07)\n",
       "\t\t\t7F.B08 (B08)\n",
       "\t\t\t7F.B09 (B09)\n",
       "\t\t\t7F.B10 (B10)\n",
       "\t\t\t7F.B11 (B11)\n",
       "\t\t\t7F.B12 (B12)\n",
       "\t\t\t7F.B13 (B13)\n",
       "\t\t\t7F.B14 (B14)\n",
       "\t\t\t7F.B15 (B15)\n",
       "\t\t\t7F.B16 (B16)\n",
       "\t\t\t7F.B17 (B17)\n",
       "\t\t\t7F.B18 (B18)\n",
       "\t\t\t7F.B19 (B19)\n",
       "\t\t\t7F.B20 (B20)\n",
       "\t\tChannels (129):\n",
       "\t\t\t7F.A00.01.GDH, 7F.A00.02.GDH, 7F.A00.03.GDH, 7F.A00.04.GDH, \n",
       "\t\t\t7F.A00.05.GDH, 7F.A00.06.GDH, 7F.A01..GHZ, 7F.A01..GH1, 7F.A01..GH2\n",
       "\t\t\t7F.A02..GHZ, 7F.A02..GH1, 7F.A02..GH2, 7F.A03..GHZ, 7F.A03..GH1, \n",
       "\t\t\t7F.A03..GH2, 7F.A04..GHZ, 7F.A04..GH1, 7F.A04..GH2, 7F.A05..GHZ, \n",
       "\t\t\t7F.A05..GH1, 7F.A05..GH2, 7F.A06..GHZ, 7F.A06..GH1, 7F.A06..GH2, \n",
       "\t\t\t7F.A07..GHZ, 7F.A07..GH1, 7F.A07..GH2, 7F.A08..GHZ, 7F.A08..GH1, \n",
       "\t\t\t7F.A08..GH2, 7F.A09..GHZ, 7F.A09..GH1, 7F.A09..GH2, 7F.A10..GHZ, \n",
       "\t\t\t7F.A10..GH1, 7F.A10..GH2, 7F.A11..GHZ, 7F.A11..GH1, 7F.A11..GH2, \n",
       "\t\t\t7F.A12..GHZ, 7F.A12..GH1, 7F.A12..GH2, 7F.A13..GHZ, 7F.A13..GH1, \n",
       "\t\t\t7F.A13..GH2, 7F.A14..GHZ, 7F.A14..GH1, 7F.A14..GH2, 7F.A15..GHZ, \n",
       "\t\t\t7F.A15..GH1, 7F.A15..GH2, 7F.A16..GHZ, 7F.A16..GH1, 7F.A16..GH2, \n",
       "\t\t\t7F.A17..GHZ, 7F.A17..GH1, 7F.A17..GH2, 7F.A18..GHZ, 7F.A18..GH1, \n",
       "\t\t\t7F.A18..GH2, 7F.A19..GHZ, 7F.A19..GH1, 7F.A19..GH2, 7F.B00.01.GDH, \n",
       "\t\t\t7F.B00.02.GDH, 7F.B00.03.GDH, 7F.B00.04.GDH, 7F.B00.05.GDH, \n",
       "\t\t\t7F.B00.06.GDH, 7F.B01..GHZ, 7F.B01..GH1, 7F.B01..GH2, 7F.B02..GHZ, \n",
       "\t\t\t7F.B02..GH1, 7F.B02..GH2, 7F.B03..GHZ, 7F.B03..GH1, 7F.B03..GH2, \n",
       "\t\t\t7F.B04..GHZ, 7F.B04..GH1, 7F.B04..GH2, 7F.B05..GHZ, 7F.B05..GH1, \n",
       "\t\t\t7F.B05..GH2, 7F.B06..GHZ, 7F.B06..GH1, 7F.B06..GH2, 7F.B07..GHZ, \n",
       "\t\t\t7F.B07..GH1, 7F.B07..GH2, 7F.B08..GHZ, 7F.B08..GH1, 7F.B08..GH2, \n",
       "\t\t\t7F.B09..GHZ, 7F.B09..GH1, 7F.B09..GH2, 7F.B10..GHZ, 7F.B10..GH1, \n",
       "\t\t\t7F.B10..GH2, 7F.B11..GHZ, 7F.B11..GH1, 7F.B11..GH2, 7F.B12..GHZ, \n",
       "\t\t\t7F.B12..GH1, 7F.B12..GH2, 7F.B13..GHZ, 7F.B13..GH1, 7F.B13..GH2, \n",
       "\t\t\t7F.B14..GHZ, 7F.B14..GH1, 7F.B14..GH2, 7F.B15..GHZ, 7F.B15..GH1, \n",
       "\t\t\t7F.B15..GH2, 7F.B16..GHZ, 7F.B16..GH1, 7F.B16..GH2, 7F.B17..GHZ, \n",
       "\t\t\t7F.B17..GH1, 7F.B17..GH2, 7F.B18..GHZ, 7F.B18..GH1, 7F.B18..GH2, \n",
       "\t\t\t7F.B19..GHZ, 7F.B19..GH1, 7F.B19..GH2, 7F.B20..GHZ, 7F.B20..GH1, \n",
       "\t\t\t7F.B20..GH2"
      ]
     },
     "execution_count": 6,
     "metadata": {},
     "output_type": "execute_result"
    }
   ],
   "source": [
    "inventory"
   ]
  },
  {
   "cell_type": "code",
   "execution_count": 7,
   "id": "6ad32e22-f532-4e31-89a9-350230ad4525",
   "metadata": {},
   "outputs": [],
   "source": [
    "channel_codes = inventory.networks[0].get_contents()['channels']\n",
    "stations = [c.split('.')[1] for c in channel_codes]\n",
    "channels = [c.split('.')[3] for c in channel_codes]"
   ]
  },
  {
   "cell_type": "code",
   "execution_count": 8,
   "id": "2e76c87e-4592-4ed3-8c12-48f3d0fd7c5e",
   "metadata": {},
   "outputs": [],
   "source": [
    "url = 'https://service.iris.edu/fdsnws/dataselect/1/queryauth?net=7F&sta={station}&cha={channel}&starttime=2019-01-01&endtime=2021-01-01&format=miniseed&nodata=404'\n",
    "\n",
    "with open('urls', 'w') as f:\n",
    "    f.writelines([url.format(station=s, channel=c)+'\\n' for s, c in zip(stations, channels)])\n",
    "    f.close()\n",
    "\n",
    "# for s, c in zip(stations, channels):\n",
    "#     print(url.format(station=s, channel=c))\n",
    "    \n",
    "urls = [url.format(station=s, channel=c) for s, c in zip(stations, channels)]"
   ]
  },
  {
   "cell_type": "code",
   "execution_count": 9,
   "id": "d0ea87e9-d585-4abb-94c3-119f581316cb",
   "metadata": {},
   "outputs": [],
   "source": [
    "station = 'A00'\n",
    "channel = 'GDH'\n",
    "url = 'https://service.iris.edu/fdsnws/dataselect/1/queryauth?net=7F&sta={station}&cha={channel}&starttime=2019-01-01&endtime=2021-01-01&format=miniseed&nodata=404'"
   ]
  },
  {
   "cell_type": "code",
   "execution_count": 10,
   "id": "c6b965c4-f9c2-4d29-a95a-319db3534a32",
   "metadata": {},
   "outputs": [
    {
     "data": {
      "text/plain": [
       "{'latitude': 0.0,\n",
       " 'longitude': 0.0,\n",
       " 'elevation': 0.0,\n",
       " 'local_depth': 0.0,\n",
       " 'azimuth': 90.0,\n",
       " 'dip': 0.0}"
      ]
     },
     "execution_count": 10,
     "metadata": {},
     "output_type": "execute_result"
    }
   ],
   "source": [
    "inventory.get_channel_metadata(seed_id='7F.B16..GH2')"
   ]
  },
  {
   "cell_type": "code",
   "execution_count": 11,
   "id": "4b91ba9a-4f4d-4f15-9136-45b08b7ab3b5",
   "metadata": {},
   "outputs": [
    {
     "data": {
      "text/plain": [
       "Inventory created at 2020-03-31T16:12:43.301067Z\n",
       "\tCreated by: ObsPy 1.1.1\n",
       "\t\t    https://www.obspy.org\n",
       "\tSending institution: None\n",
       "\tContains:\n",
       "\t\tNetworks (1):\n",
       "\t\t\t7F\n",
       "\t\tStations (41):\n",
       "\t\t\t7F.A00 (A00)\n",
       "\t\t\t7F.A01 (A01)\n",
       "\t\t\t7F.A02 (A02)\n",
       "\t\t\t7F.A03 (A03)\n",
       "\t\t\t7F.A04 (A04)\n",
       "\t\t\t7F.A05 (A05)\n",
       "\t\t\t7F.A06 (A06)\n",
       "\t\t\t7F.A07 (A07)\n",
       "\t\t\t7F.A08 (A08)\n",
       "\t\t\t7F.A09 (A09)\n",
       "\t\t\t7F.A10 (A10)\n",
       "\t\t\t7F.A11 (A11)\n",
       "\t\t\t7F.A12 (A12)\n",
       "\t\t\t7F.A13 (A13)\n",
       "\t\t\t7F.A14 (A14)\n",
       "\t\t\t7F.A15 (A15)\n",
       "\t\t\t7F.A16 (A16)\n",
       "\t\t\t7F.A17 (A17)\n",
       "\t\t\t7F.A18 (A18)\n",
       "\t\t\t7F.A19 (A19)\n",
       "\t\t\t7F.B00 (B00)\n",
       "\t\t\t7F.B01 (B01)\n",
       "\t\t\t7F.B02 (B02)\n",
       "\t\t\t7F.B03 (B03)\n",
       "\t\t\t7F.B04 (B04)\n",
       "\t\t\t7F.B05 (B05)\n",
       "\t\t\t7F.B06 (B06)\n",
       "\t\t\t7F.B07 (B07)\n",
       "\t\t\t7F.B08 (B08)\n",
       "\t\t\t7F.B09 (B09)\n",
       "\t\t\t7F.B10 (B10)\n",
       "\t\t\t7F.B11 (B11)\n",
       "\t\t\t7F.B12 (B12)\n",
       "\t\t\t7F.B13 (B13)\n",
       "\t\t\t7F.B14 (B14)\n",
       "\t\t\t7F.B15 (B15)\n",
       "\t\t\t7F.B16 (B16)\n",
       "\t\t\t7F.B17 (B17)\n",
       "\t\t\t7F.B18 (B18)\n",
       "\t\t\t7F.B19 (B19)\n",
       "\t\t\t7F.B20 (B20)\n",
       "\t\tChannels (129):\n",
       "\t\t\t7F.A00.01.GDH, 7F.A00.02.GDH, 7F.A00.03.GDH, 7F.A00.04.GDH, \n",
       "\t\t\t7F.A00.05.GDH, 7F.A00.06.GDH, 7F.A01..GHZ, 7F.A01..GH1, 7F.A01..GH2\n",
       "\t\t\t7F.A02..GHZ, 7F.A02..GH1, 7F.A02..GH2, 7F.A03..GHZ, 7F.A03..GH1, \n",
       "\t\t\t7F.A03..GH2, 7F.A04..GHZ, 7F.A04..GH1, 7F.A04..GH2, 7F.A05..GHZ, \n",
       "\t\t\t7F.A05..GH1, 7F.A05..GH2, 7F.A06..GHZ, 7F.A06..GH1, 7F.A06..GH2, \n",
       "\t\t\t7F.A07..GHZ, 7F.A07..GH1, 7F.A07..GH2, 7F.A08..GHZ, 7F.A08..GH1, \n",
       "\t\t\t7F.A08..GH2, 7F.A09..GHZ, 7F.A09..GH1, 7F.A09..GH2, 7F.A10..GHZ, \n",
       "\t\t\t7F.A10..GH1, 7F.A10..GH2, 7F.A11..GHZ, 7F.A11..GH1, 7F.A11..GH2, \n",
       "\t\t\t7F.A12..GHZ, 7F.A12..GH1, 7F.A12..GH2, 7F.A13..GHZ, 7F.A13..GH1, \n",
       "\t\t\t7F.A13..GH2, 7F.A14..GHZ, 7F.A14..GH1, 7F.A14..GH2, 7F.A15..GHZ, \n",
       "\t\t\t7F.A15..GH1, 7F.A15..GH2, 7F.A16..GHZ, 7F.A16..GH1, 7F.A16..GH2, \n",
       "\t\t\t7F.A17..GHZ, 7F.A17..GH1, 7F.A17..GH2, 7F.A18..GHZ, 7F.A18..GH1, \n",
       "\t\t\t7F.A18..GH2, 7F.A19..GHZ, 7F.A19..GH1, 7F.A19..GH2, 7F.B00.01.GDH, \n",
       "\t\t\t7F.B00.02.GDH, 7F.B00.03.GDH, 7F.B00.04.GDH, 7F.B00.05.GDH, \n",
       "\t\t\t7F.B00.06.GDH, 7F.B01..GHZ, 7F.B01..GH1, 7F.B01..GH2, 7F.B02..GHZ, \n",
       "\t\t\t7F.B02..GH1, 7F.B02..GH2, 7F.B03..GHZ, 7F.B03..GH1, 7F.B03..GH2, \n",
       "\t\t\t7F.B04..GHZ, 7F.B04..GH1, 7F.B04..GH2, 7F.B05..GHZ, 7F.B05..GH1, \n",
       "\t\t\t7F.B05..GH2, 7F.B06..GHZ, 7F.B06..GH1, 7F.B06..GH2, 7F.B07..GHZ, \n",
       "\t\t\t7F.B07..GH1, 7F.B07..GH2, 7F.B08..GHZ, 7F.B08..GH1, 7F.B08..GH2, \n",
       "\t\t\t7F.B09..GHZ, 7F.B09..GH1, 7F.B09..GH2, 7F.B10..GHZ, 7F.B10..GH1, \n",
       "\t\t\t7F.B10..GH2, 7F.B11..GHZ, 7F.B11..GH1, 7F.B11..GH2, 7F.B12..GHZ, \n",
       "\t\t\t7F.B12..GH1, 7F.B12..GH2, 7F.B13..GHZ, 7F.B13..GH1, 7F.B13..GH2, \n",
       "\t\t\t7F.B14..GHZ, 7F.B14..GH1, 7F.B14..GH2, 7F.B15..GHZ, 7F.B15..GH1, \n",
       "\t\t\t7F.B15..GH2, 7F.B16..GHZ, 7F.B16..GH1, 7F.B16..GH2, 7F.B17..GHZ, \n",
       "\t\t\t7F.B17..GH1, 7F.B17..GH2, 7F.B18..GHZ, 7F.B18..GH1, 7F.B18..GH2, \n",
       "\t\t\t7F.B19..GHZ, 7F.B19..GH1, 7F.B19..GH2, 7F.B20..GHZ, 7F.B20..GH1, \n",
       "\t\t\t7F.B20..GH2"
      ]
     },
     "execution_count": 11,
     "metadata": {},
     "output_type": "execute_result"
    }
   ],
   "source": [
    "inventory"
   ]
  },
  {
   "cell_type": "code",
   "execution_count": 12,
   "id": "d22da5f8-c05f-47da-87e2-49b2c9eaec86",
   "metadata": {},
   "outputs": [],
   "source": [
    "# --user johnm.aiken@gmail.com\n",
    "# --password NdyOU3hGP3n5"
   ]
  },
  {
   "cell_type": "code",
   "execution_count": 13,
   "id": "76dda9d0-c868-4afd-877b-ee69ae53a440",
   "metadata": {},
   "outputs": [
    {
     "name": "stdout",
     "output_type": "stream",
     "text": [
      "data_download.ipynb  req.txt\t  urls\t    wget-log.1\n",
      "getdata.sh\t     tbshoot.txt  wget-log\n"
     ]
    }
   ],
   "source": [
    "!ls"
   ]
  },
  {
   "cell_type": "code",
   "execution_count": 14,
   "id": "bb76e5f3-e726-4963-94d6-4bb3ff020702",
   "metadata": {},
   "outputs": [
    {
     "data": {
      "text/plain": [
       "67.75067750677506"
      ]
     },
     "execution_count": 14,
     "metadata": {},
     "output_type": "execute_result"
    }
   ],
   "source": [
    "((1e12/41)/1e5)/3600"
   ]
  },
  {
   "cell_type": "code",
   "execution_count": 15,
   "id": "5ccf5426-2c7e-4517-9694-7169ec930e9a",
   "metadata": {},
   "outputs": [],
   "source": [
    "import requests\n",
    "import os\n",
    "from urllib.parse import urlparse\n",
    "from requests.auth import HTTPBasicAuth"
   ]
  },
  {
   "cell_type": "code",
   "execution_count": 16,
   "id": "4d4b533a-aead-4d1a-83bd-8790c74424c5",
   "metadata": {},
   "outputs": [
    {
     "data": {
      "text/plain": [
       "'https://service.iris.edu/fdsnws/dataselect/1/queryauth?net=7F&sta=A01&cha=GH1&starttime=2019-01-01&endtime=2021-01-01&format=miniseed&nodata=404'"
      ]
     },
     "execution_count": 16,
     "metadata": {},
     "output_type": "execute_result"
    }
   ],
   "source": [
    "urls[0]"
   ]
  },
  {
   "cell_type": "code",
   "execution_count": 17,
   "id": "90e439a3-4f72-4ad5-a5f1-f5b65a59d471",
   "metadata": {},
   "outputs": [],
   "source": [
    "user = 'johnm.aiken@gmail.com'\n",
    "password = 'NdyOU3hGP3n5'\n",
    "# url = os.path.basename(urlparse(urls[0]).path)\n",
    "url = urls[0]\n",
    "# r = requests.get(url, auth=(user, password))\n",
    "r = requests.get(url, auth=HTTPBasicAuth(user, password))"
   ]
  },
  {
   "cell_type": "code",
   "execution_count": 18,
   "id": "76043aa1-fb39-4029-b924-21fb5a4132d0",
   "metadata": {},
   "outputs": [
    {
     "data": {
      "text/plain": [
       "<Response [401]>"
      ]
     },
     "execution_count": 18,
     "metadata": {},
     "output_type": "execute_result"
    }
   ],
   "source": [
    "r"
   ]
  },
  {
   "cell_type": "code",
   "execution_count": 19,
   "id": "a1a1e2e2-26b5-40f2-b850-2c9f11ac77d5",
   "metadata": {},
   "outputs": [],
   "source": [
    "# url"
   ]
  },
  {
   "cell_type": "code",
   "execution_count": 25,
   "id": "56aca41f-64e6-45aa-ac1e-b257e3b5b5f4",
   "metadata": {},
   "outputs": [
    {
     "name": "stdout",
     "output_type": "stream",
     "text": [
      "--2021-06-25 13:28:41--  https://service.iris.edu/fdsnws/dataselect/1/queryauth?net=7F&sta=A01&cha=GH1&starttime=2019-01-01&endtime=2021-01-01&format=miniseed&nodata=404\n",
      "Resolving service.iris.edu (service.iris.edu)... 128.95.166.47\n",
      "Connecting to service.iris.edu (service.iris.edu)|128.95.166.47|:443... connected.\n",
      "HTTP request sent, awaiting response... 401 \n",
      "Authentication selected: Digest realm=\"IRIS\", qop=\"auth\", nonce=\"1624619858085:9def33d797fc9ccc53b96928de383f34\", opaque=\"5E3330178D6C7C47165ED652905EC28F\"\n",
      "Connecting to service.iris.edu (service.iris.edu)|128.95.166.47|:443... connected.\n",
      "HTTP request sent, awaiting response... 200 \n",
      "Length: unspecified [application/vnd.fdsn.mseed]\n",
      "Saving to: ‘queryauth?net=7F&sta=A01&cha=GH1&starttime=2019-01-01&endtime=2021-01-01&format=miniseed&nodata=404.1’\n",
      "\n",
      "et=7F&sta=A01&cha=G     [             <=>    ] 958,00K   145KB/s               ^C\n"
     ]
    }
   ],
   "source": [
    "!wget --user johnm.aiken@gmail.com --password NdyOU3hGP3n5 'https://service.iris.edu/fdsnws/dataselect/1/queryauth?net=7F&sta=A01&cha=GH1&starttime=2019-01-01&endtime=2021-01-01&format=miniseed&nodata=404'"
   ]
  },
  {
   "cell_type": "code",
   "execution_count": 20,
   "id": "8716381a-6501-4c1e-a818-bb06f86280dd",
   "metadata": {},
   "outputs": [],
   "source": [
    "# from obspy import UTCDateTime"
   ]
  },
  {
   "cell_type": "code",
   "execution_count": 21,
   "id": "20122aee-c50c-4988-b503-8e3828dc1ed2",
   "metadata": {},
   "outputs": [],
   "source": [
    "# from obspy.clients.fdsn import Client"
   ]
  },
  {
   "cell_type": "code",
   "execution_count": 22,
   "id": "beedc05b-2dcf-45af-b3d7-e13b36383bbf",
   "metadata": {},
   "outputs": [],
   "source": [
    "# client = Client(\"IRIS\")"
   ]
  },
  {
   "cell_type": "code",
   "execution_count": 23,
   "id": "1a9f0bfd-342b-4832-83c0-65aa9e467c94",
   "metadata": {},
   "outputs": [],
   "source": [
    "# user = 'johnm.aiken@gmail.com'\n",
    "# password = 'NdyOU3hGP3n5'\n",
    "# client.set_credentials(user=user, password=password)"
   ]
  },
  {
   "cell_type": "code",
   "execution_count": 24,
   "id": "5fe6e4a7-6fa2-42e2-a3de-45804b2378d3",
   "metadata": {},
   "outputs": [],
   "source": [
    "# client.get_waveforms(network='7F', station='A00', location='01', channel='GDH', starttime=UTCDateTime(2019, 8, 1), endtime=UTCDateTime(2019, 8, 2))"
   ]
  }
 ],
 "metadata": {
  "kernelspec": {
   "display_name": "Python [conda env:borehole] *",
   "language": "python",
   "name": "conda-env-borehole-py"
  },
  "language_info": {
   "codemirror_mode": {
    "name": "ipython",
    "version": 3
   },
   "file_extension": ".py",
   "mimetype": "text/x-python",
   "name": "python",
   "nbconvert_exporter": "python",
   "pygments_lexer": "ipython3",
   "version": "3.8.10"
  }
 },
 "nbformat": 4,
 "nbformat_minor": 5
}
