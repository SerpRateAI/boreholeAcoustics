{
 "cells": [
  {
   "cell_type": "markdown",
   "id": "4705bbdc-f24b-4960-b8fd-2b36c591f6c2",
   "metadata": {},
   "source": [
    "# create file for data download\n",
    "\n",
    "This code creates a file called `urls` that can be used to download all of the data from IRIS."
   ]
  },
  {
   "cell_type": "code",
   "execution_count": 1,
   "id": "6d92387a-8ed8-4b60-9cf7-3364145ecf5f",
   "metadata": {},
   "outputs": [],
   "source": [
    "%matplotlib inline\n",
    "from obspy import read_inventory\n",
    "import os"
   ]
  },
  {
   "cell_type": "code",
   "execution_count": 2,
   "id": "7e668875-0a21-45da-a566-ba191c7ce12c",
   "metadata": {},
   "outputs": [],
   "source": [
    "inventory = read_inventory('/media/sda/data/borehole/7F.OmanDP.PIC.2020127', format=\"STATIONXML\")"
   ]
  },
  {
   "cell_type": "code",
   "execution_count": 3,
   "id": "c64c1075-0341-41c0-919d-174e54dccc19",
   "metadata": {},
   "outputs": [
    {
     "data": {
      "text/plain": [
       "Inventory created at 2020-03-31T16:12:43.301067Z\n",
       "\tCreated by: ObsPy 1.1.1\n",
       "\t\t    https://www.obspy.org\n",
       "\tSending institution: None\n",
       "\tContains:\n",
       "\t\tNetworks (1):\n",
       "\t\t\t7F\n",
       "\t\tStations (41):\n",
       "\t\t\t7F.A00 (A00)\n",
       "\t\t\t7F.A01 (A01)\n",
       "\t\t\t7F.A02 (A02)\n",
       "\t\t\t7F.A03 (A03)\n",
       "\t\t\t7F.A04 (A04)\n",
       "\t\t\t7F.A05 (A05)\n",
       "\t\t\t7F.A06 (A06)\n",
       "\t\t\t7F.A07 (A07)\n",
       "\t\t\t7F.A08 (A08)\n",
       "\t\t\t7F.A09 (A09)\n",
       "\t\t\t7F.A10 (A10)\n",
       "\t\t\t7F.A11 (A11)\n",
       "\t\t\t7F.A12 (A12)\n",
       "\t\t\t7F.A13 (A13)\n",
       "\t\t\t7F.A14 (A14)\n",
       "\t\t\t7F.A15 (A15)\n",
       "\t\t\t7F.A16 (A16)\n",
       "\t\t\t7F.A17 (A17)\n",
       "\t\t\t7F.A18 (A18)\n",
       "\t\t\t7F.A19 (A19)\n",
       "\t\t\t7F.B00 (B00)\n",
       "\t\t\t7F.B01 (B01)\n",
       "\t\t\t7F.B02 (B02)\n",
       "\t\t\t7F.B03 (B03)\n",
       "\t\t\t7F.B04 (B04)\n",
       "\t\t\t7F.B05 (B05)\n",
       "\t\t\t7F.B06 (B06)\n",
       "\t\t\t7F.B07 (B07)\n",
       "\t\t\t7F.B08 (B08)\n",
       "\t\t\t7F.B09 (B09)\n",
       "\t\t\t7F.B10 (B10)\n",
       "\t\t\t7F.B11 (B11)\n",
       "\t\t\t7F.B12 (B12)\n",
       "\t\t\t7F.B13 (B13)\n",
       "\t\t\t7F.B14 (B14)\n",
       "\t\t\t7F.B15 (B15)\n",
       "\t\t\t7F.B16 (B16)\n",
       "\t\t\t7F.B17 (B17)\n",
       "\t\t\t7F.B18 (B18)\n",
       "\t\t\t7F.B19 (B19)\n",
       "\t\t\t7F.B20 (B20)\n",
       "\t\tChannels (129):\n",
       "\t\t\t7F.A00.01.GDH, 7F.A00.02.GDH, 7F.A00.03.GDH, 7F.A00.04.GDH, \n",
       "\t\t\t7F.A00.05.GDH, 7F.A00.06.GDH, 7F.A01..GHZ, 7F.A01..GH1, 7F.A01..GH2\n",
       "\t\t\t7F.A02..GHZ, 7F.A02..GH1, 7F.A02..GH2, 7F.A03..GHZ, 7F.A03..GH1, \n",
       "\t\t\t7F.A03..GH2, 7F.A04..GHZ, 7F.A04..GH1, 7F.A04..GH2, 7F.A05..GHZ, \n",
       "\t\t\t7F.A05..GH1, 7F.A05..GH2, 7F.A06..GHZ, 7F.A06..GH1, 7F.A06..GH2, \n",
       "\t\t\t7F.A07..GHZ, 7F.A07..GH1, 7F.A07..GH2, 7F.A08..GHZ, 7F.A08..GH1, \n",
       "\t\t\t7F.A08..GH2, 7F.A09..GHZ, 7F.A09..GH1, 7F.A09..GH2, 7F.A10..GHZ, \n",
       "\t\t\t7F.A10..GH1, 7F.A10..GH2, 7F.A11..GHZ, 7F.A11..GH1, 7F.A11..GH2, \n",
       "\t\t\t7F.A12..GHZ, 7F.A12..GH1, 7F.A12..GH2, 7F.A13..GHZ, 7F.A13..GH1, \n",
       "\t\t\t7F.A13..GH2, 7F.A14..GHZ, 7F.A14..GH1, 7F.A14..GH2, 7F.A15..GHZ, \n",
       "\t\t\t7F.A15..GH1, 7F.A15..GH2, 7F.A16..GHZ, 7F.A16..GH1, 7F.A16..GH2, \n",
       "\t\t\t7F.A17..GHZ, 7F.A17..GH1, 7F.A17..GH2, 7F.A18..GHZ, 7F.A18..GH1, \n",
       "\t\t\t7F.A18..GH2, 7F.A19..GHZ, 7F.A19..GH1, 7F.A19..GH2, 7F.B00.01.GDH, \n",
       "\t\t\t7F.B00.02.GDH, 7F.B00.03.GDH, 7F.B00.04.GDH, 7F.B00.05.GDH, \n",
       "\t\t\t7F.B00.06.GDH, 7F.B01..GHZ, 7F.B01..GH1, 7F.B01..GH2, 7F.B02..GHZ, \n",
       "\t\t\t7F.B02..GH1, 7F.B02..GH2, 7F.B03..GHZ, 7F.B03..GH1, 7F.B03..GH2, \n",
       "\t\t\t7F.B04..GHZ, 7F.B04..GH1, 7F.B04..GH2, 7F.B05..GHZ, 7F.B05..GH1, \n",
       "\t\t\t7F.B05..GH2, 7F.B06..GHZ, 7F.B06..GH1, 7F.B06..GH2, 7F.B07..GHZ, \n",
       "\t\t\t7F.B07..GH1, 7F.B07..GH2, 7F.B08..GHZ, 7F.B08..GH1, 7F.B08..GH2, \n",
       "\t\t\t7F.B09..GHZ, 7F.B09..GH1, 7F.B09..GH2, 7F.B10..GHZ, 7F.B10..GH1, \n",
       "\t\t\t7F.B10..GH2, 7F.B11..GHZ, 7F.B11..GH1, 7F.B11..GH2, 7F.B12..GHZ, \n",
       "\t\t\t7F.B12..GH1, 7F.B12..GH2, 7F.B13..GHZ, 7F.B13..GH1, 7F.B13..GH2, \n",
       "\t\t\t7F.B14..GHZ, 7F.B14..GH1, 7F.B14..GH2, 7F.B15..GHZ, 7F.B15..GH1, \n",
       "\t\t\t7F.B15..GH2, 7F.B16..GHZ, 7F.B16..GH1, 7F.B16..GH2, 7F.B17..GHZ, \n",
       "\t\t\t7F.B17..GH1, 7F.B17..GH2, 7F.B18..GHZ, 7F.B18..GH1, 7F.B18..GH2, \n",
       "\t\t\t7F.B19..GHZ, 7F.B19..GH1, 7F.B19..GH2, 7F.B20..GHZ, 7F.B20..GH1, \n",
       "\t\t\t7F.B20..GH2"
      ]
     },
     "execution_count": 3,
     "metadata": {},
     "output_type": "execute_result"
    }
   ],
   "source": [
    "inventory"
   ]
  },
  {
   "cell_type": "code",
   "execution_count": 4,
   "id": "6ad32e22-f532-4e31-89a9-350230ad4525",
   "metadata": {},
   "outputs": [],
   "source": [
    "channel_codes = inventory.networks[0].get_contents()['channels']\n",
    "stations = [c.split('.')[1] for c in channel_codes]\n",
    "channels = [c.split('.')[3] for c in channel_codes]"
   ]
  },
  {
   "cell_type": "code",
   "execution_count": 5,
   "id": "2e76c87e-4592-4ed3-8c12-48f3d0fd7c5e",
   "metadata": {},
   "outputs": [],
   "source": [
    "url = 'https://service.iris.edu/fdsnws/dataselect/1/queryauth?net=7F&sta={station}&cha={channel}&starttime=2019-01-01&endtime=2021-01-01&format=miniseed&nodata=404'\n",
    "\n",
    "urls_filename = 'urls2'\n",
    "\n",
    "try:\n",
    "    os.remove(urls_filename)\n",
    "except:\n",
    "    pass\n",
    "\n",
    "with open(urls_filename, 'w') as f:\n",
    "    f.writelines([url.format(station=s, channel=c)+'\\n' for s, c in zip(stations, channels)])\n",
    "    f.close()"
   ]
  },
  {
   "cell_type": "code",
   "execution_count": 9,
   "id": "d22da5f8-c05f-47da-87e2-49b2c9eaec86",
   "metadata": {},
   "outputs": [],
   "source": [
    "# --user johnm.aiken@gmail.com\n",
    "# --password NdyOU3hGP3n5"
   ]
  }
 ],
 "metadata": {
  "kernelspec": {
   "display_name": "Python [conda env:borehole] *",
   "language": "python",
   "name": "conda-env-borehole-py"
  },
  "language_info": {
   "codemirror_mode": {
    "name": "ipython",
    "version": 3
   },
   "file_extension": ".py",
   "mimetype": "text/x-python",
   "name": "python",
   "nbconvert_exporter": "python",
   "pygments_lexer": "ipython3",
   "version": "3.8.10"
  }
 },
 "nbformat": 4,
 "nbformat_minor": 5
}
