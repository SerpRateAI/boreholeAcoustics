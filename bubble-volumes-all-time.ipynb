{
 "cells": [
  {
   "cell_type": "code",
   "execution_count": 106,
   "id": "0dc8083f-cbdd-42d5-a403-15f485155105",
   "metadata": {},
   "outputs": [],
   "source": [
    "%matplotlib inline\n",
    "import pandas as pd\n",
    "import numpy as np\n",
    "import matplotlib.pyplot as plt\n",
    "\n",
    "import tempmatch as tm\n",
    "from obspy import read, UTCDateTime as UTC\n",
    "from obspy.signal import filter\n",
    "detectfiles = !ls /media/sda/data/borehole/detections/*.csv\n",
    "df = pd.DataFrame()\n",
    "for f in detectfiles:\n",
    "    try:\n",
    "        df = pd.concat([df, pd.read_csv(f)])\n",
    "    except:\n",
    "        pass\n",
    "    \n",
    "df['time'] = pd.to_datetime(df['time'])\n",
    "df = df.sort_values(by='time')\n",
    "df['ones'] = 1\n",
    "df.set_index('time', inplace=True)\n",
    "\n",
    "def minnaert_radius(freq):\n",
    "    # https://www.ohio.edu/mechanical/thermo/property_tables/gas/idealGas.html\n",
    "    gamma = 1.405 # Cv/Cp ratio of specific heats H2 (dimensionless)\n",
    "    rho = 1000 # (1kg/m^3)\n",
    "    g = 9.81 # acceleration of gravity (m/s^2)\n",
    "    h = 7.5 # assumed depth of bubble cavitation from water level (m)\n",
    "    PA = rho * g * h + 101325 # hydrostatic pressure + atm_pressure (Pa)\n",
    "    return (1/(2 * np.pi * freq)) * np.sqrt((3 * gamma * PA)/(rho))"
   ]
  },
  {
   "cell_type": "code",
   "execution_count": 107,
   "id": "dec179cc-2df9-4aca-a57d-b4e1f76611c8",
   "metadata": {},
   "outputs": [
    {
     "data": {
      "text/plain": [
       "0.045850354563911934"
      ]
     },
     "execution_count": 107,
     "metadata": {},
     "output_type": "execute_result"
    }
   ],
   "source": [
    "minnaert_radius(freq=15*2*np.pi)"
   ]
  },
  {
   "cell_type": "code",
   "execution_count": 113,
   "id": "e7503b86-8025-4cc2-be32-1224e939121d",
   "metadata": {},
   "outputs": [],
   "source": [
    "df['radius'] = minnaert_radius(freq=15*2*np.pi)"
   ]
  },
  {
   "cell_type": "code",
   "execution_count": 114,
   "id": "4d0c1895-4005-4703-a958-29df6d4af4a9",
   "metadata": {},
   "outputs": [],
   "source": [
    "def volume(r):\n",
    "    return (4/3.)*np.pi*r**3\n",
    "df['volume'] = df.radius.apply(volume)"
   ]
  },
  {
   "cell_type": "code",
   "execution_count": 115,
   "id": "41e0a974-56fb-4893-81ec-95a6f509b646",
   "metadata": {},
   "outputs": [
    {
     "data": {
      "text/plain": [
       "Text(0, 0.5, 'Volume ($m^3$)')"
      ]
     },
     "execution_count": 115,
     "metadata": {},
     "output_type": "execute_result"
    },
    {
     "data": {
      "image/png": "[encoded data removed]",
      "text/plain": [
       "<Figure size 864x360 with 1 Axes>"
      ]
     },
     "metadata": {
      "needs_background": "light"
     },
     "output_type": "display_data"
    }
   ],
   "source": [
    "fig, ax = plt.subplots(figsize=(12, 5))\n",
    "\n",
    "df.volume.cumsum().plot(ax=ax)\n",
    "ax.set_ylabel(r'Volume ($m^3$)', fontsize=15)"
   ]
  },
  {
   "cell_type": "code",
   "execution_count": 116,
   "id": "29d34fd6-c4b9-4f3c-8363-ba6b132ce430",
   "metadata": {},
   "outputs": [
    {
     "data": {
      "text/plain": [
       "0.982736934409566"
      ]
     },
     "execution_count": 116,
     "metadata": {},
     "output_type": "execute_result"
    }
   ],
   "source": [
    "df.volume.sum()"
   ]
  },
  {
   "cell_type": "code",
   "execution_count": 112,
   "id": "a1b38f7b-53a3-4371-95b4-642ef0e2bd08",
   "metadata": {},
   "outputs": [
    {
     "data": {
      "text/plain": [
       "220725.0"
      ]
     },
     "execution_count": 112,
     "metadata": {},
     "output_type": "execute_result"
    }
   ],
   "source": [
    "1000*9.81*22.5"
   ]
  },
  {
   "cell_type": "code",
   "execution_count": 62,
   "id": "6a914f33-5297-45ca-85fc-002164138651",
   "metadata": {},
   "outputs": [
    {
     "data": {
      "text/plain": [
       "73575.0"
      ]
     },
     "execution_count": 62,
     "metadata": {},
     "output_type": "execute_result"
    }
   ],
   "source": [
    "1000*9.81*(7.5)"
   ]
  },
  {
   "cell_type": "code",
   "execution_count": 5,
   "id": "9cacb4c8-ac6b-4d0a-9061-fb635e5a7c16",
   "metadata": {},
   "outputs": [
    {
     "data": {
      "text/plain": [
       "1.4849999999999999"
      ]
     },
     "execution_count": 5,
     "metadata": {},
     "output_type": "execute_result"
    }
   ],
   "source": [
    "np.mean([1.3, 1.67])"
   ]
  }
 ],
 "metadata": {
  "kernelspec": {
   "display_name": "Python [conda env:borehole] *",
   "language": "python",
   "name": "conda-env-borehole-py"
  },
  "language_info": {
   "codemirror_mode": {
    "name": "ipython",
    "version": 3
   },
   "file_extension": ".py",
   "mimetype": "text/x-python",
   "name": "python",
   "nbconvert_exporter": "python",
   "pygments_lexer": "ipython3",
   "version": "3.8.12"
  }
 },
 "nbformat": 4,
 "nbformat_minor": 5
}
