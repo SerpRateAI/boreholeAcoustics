{
 "cells": [
  {
   "cell_type": "code",
   "execution_count": 8,
   "id": "d3c71911-8693-425f-9958-676298977749",
   "metadata": {},
   "outputs": [],
   "source": [
    "%matplotlib inline\n",
    "from obspy import read_inventory\n",
    "import pandas as pd\n",
    "import numpy as np\n",
    "\n",
    "import cartopy\n",
    "import cartopy.crs as ccrs\n",
    "from cartopy.mpl.gridliner import LONGITUDE_FORMATTER, LATITUDE_FORMATTER\n",
    "\n",
    "import matplotlib.pyplot as plt\n",
    "import matplotlib.ticker as mticker\n",
    "import cartopy.io.img_tiles as cimgt\n"
   ]
  },
  {
   "cell_type": "code",
   "execution_count": 9,
   "id": "1eb2b377-5c13-46df-a17d-96df60a83e0d",
   "metadata": {},
   "outputs": [],
   "source": [
    "# inventory = read_inventory('/media/sda/data/borehole/7F.OmanDP.PIC.2020127', format=\"STATIONXML\")\n",
    "# inventory = read_inventory('stationData.xml', format=\"STATIONXML\")\n",
    "inventory = read_inventory('fdsn-station_2021-06-29T11_00_50.xml', format=\"STATIONXML\")"
   ]
  },
  {
   "cell_type": "code",
   "execution_count": 10,
   "id": "897183d1-c251-4c9b-91f0-83ce8f2d79f2",
   "metadata": {},
   "outputs": [],
   "source": [
    "# pd.DataFrame([(id, inventory.get_coordinates(seed_id=id)) for id in inventory.networks[0].get_contents()['channels']])\n",
    "channels = inventory.networks[0].get_contents()['channels']\n",
    "networkdf = pd.DataFrame([inventory.get_coordinates(seed_id=id) for id in channels], index=[id for id in channels])"
   ]
  },
  {
   "cell_type": "code",
   "execution_count": 11,
   "id": "0a47d87c-cc06-4226-aea6-2efa1ebdc79c",
   "metadata": {},
   "outputs": [
    {
     "data": {
      "text/html": [
       "<div>\n",
       "<style scoped>\n",
       "    .dataframe tbody tr th:only-of-type {\n",
       "        vertical-align: middle;\n",
       "    }\n",
       "\n",
       "    .dataframe tbody tr th {\n",
       "        vertical-align: top;\n",
       "    }\n",
       "\n",
       "    .dataframe thead th {\n",
       "        text-align: right;\n",
       "    }\n",
       "</style>\n",
       "<table border=\"1\" class=\"dataframe\">\n",
       "  <thead>\n",
       "    <tr style=\"text-align: right;\">\n",
       "      <th></th>\n",
       "      <th>latitude</th>\n",
       "      <th>longitude</th>\n",
       "      <th>elevation</th>\n",
       "      <th>local_depth</th>\n",
       "    </tr>\n",
       "  </thead>\n",
       "  <tbody>\n",
       "    <tr>\n",
       "      <th>7F.A00.01.GDH</th>\n",
       "      <td>22.881217</td>\n",
       "      <td>58.700583</td>\n",
       "      <td>534.0</td>\n",
       "      <td>35.0</td>\n",
       "    </tr>\n",
       "    <tr>\n",
       "      <th>7F.A00.02.GDH</th>\n",
       "      <td>22.881217</td>\n",
       "      <td>58.700583</td>\n",
       "      <td>534.0</td>\n",
       "      <td>105.0</td>\n",
       "    </tr>\n",
       "    <tr>\n",
       "      <th>7F.A00.03.GDH</th>\n",
       "      <td>22.881217</td>\n",
       "      <td>58.700583</td>\n",
       "      <td>534.0</td>\n",
       "      <td>175.0</td>\n",
       "    </tr>\n",
       "    <tr>\n",
       "      <th>7F.A00.04.GDH</th>\n",
       "      <td>22.881217</td>\n",
       "      <td>58.700583</td>\n",
       "      <td>534.0</td>\n",
       "      <td>245.0</td>\n",
       "    </tr>\n",
       "    <tr>\n",
       "      <th>7F.A00.05.GDH</th>\n",
       "      <td>22.881217</td>\n",
       "      <td>58.700583</td>\n",
       "      <td>534.0</td>\n",
       "      <td>315.0</td>\n",
       "    </tr>\n",
       "    <tr>\n",
       "      <th>...</th>\n",
       "      <td>...</td>\n",
       "      <td>...</td>\n",
       "      <td>...</td>\n",
       "      <td>...</td>\n",
       "    </tr>\n",
       "    <tr>\n",
       "      <th>7F.B19..GH2</th>\n",
       "      <td>22.882033</td>\n",
       "      <td>58.699387</td>\n",
       "      <td>536.9</td>\n",
       "      <td>0.0</td>\n",
       "    </tr>\n",
       "    <tr>\n",
       "      <th>7F.B19..GHZ</th>\n",
       "      <td>22.882033</td>\n",
       "      <td>58.699387</td>\n",
       "      <td>536.9</td>\n",
       "      <td>0.0</td>\n",
       "    </tr>\n",
       "    <tr>\n",
       "      <th>7F.B20..GH1</th>\n",
       "      <td>22.882580</td>\n",
       "      <td>58.700788</td>\n",
       "      <td>537.2</td>\n",
       "      <td>0.0</td>\n",
       "    </tr>\n",
       "    <tr>\n",
       "      <th>7F.B20..GH2</th>\n",
       "      <td>22.882580</td>\n",
       "      <td>58.700788</td>\n",
       "      <td>537.2</td>\n",
       "      <td>0.0</td>\n",
       "    </tr>\n",
       "    <tr>\n",
       "      <th>7F.B20..GHZ</th>\n",
       "      <td>22.882580</td>\n",
       "      <td>58.700788</td>\n",
       "      <td>537.2</td>\n",
       "      <td>0.0</td>\n",
       "    </tr>\n",
       "  </tbody>\n",
       "</table>\n",
       "<p>129 rows × 4 columns</p>\n",
       "</div>"
      ],
      "text/plain": [
       "                latitude  longitude  elevation  local_depth\n",
       "7F.A00.01.GDH  22.881217  58.700583      534.0         35.0\n",
       "7F.A00.02.GDH  22.881217  58.700583      534.0        105.0\n",
       "7F.A00.03.GDH  22.881217  58.700583      534.0        175.0\n",
       "7F.A00.04.GDH  22.881217  58.700583      534.0        245.0\n",
       "7F.A00.05.GDH  22.881217  58.700583      534.0        315.0\n",
       "...                  ...        ...        ...          ...\n",
       "7F.B19..GH2    22.882033  58.699387      536.9          0.0\n",
       "7F.B19..GHZ    22.882033  58.699387      536.9          0.0\n",
       "7F.B20..GH1    22.882580  58.700788      537.2          0.0\n",
       "7F.B20..GH2    22.882580  58.700788      537.2          0.0\n",
       "7F.B20..GHZ    22.882580  58.700788      537.2          0.0\n",
       "\n",
       "[129 rows x 4 columns]"
      ]
     },
     "execution_count": 11,
     "metadata": {},
     "output_type": "execute_result"
    }
   ],
   "source": [
    "networkdf"
   ]
  },
  {
   "cell_type": "code",
   "execution_count": 18,
   "id": "40166886-fc35-4eca-9a2f-e6f8e666d011",
   "metadata": {},
   "outputs": [
    {
     "data": {
      "text/plain": [
       "[<matplotlib.lines.Line2D at 0x7feb245cf040>]"
      ]
     },
     "execution_count": 18,
     "metadata": {},
     "output_type": "execute_result"
    },
    {
     "data": {
      "image/png": "[encoded data removed]",
      "text/plain": [
       "<Figure size 432x288 with 1 Axes>"
      ]
     },
     "metadata": {
      "needs_background": "light"
     },
     "output_type": "display_data"
    }
   ],
   "source": [
    "# fig, ax = plt.subplots(1)\n",
    "\n",
    "proj = ccrs.PlateCarree()                       # the projection you want to use, many are supported, \n",
    "                                                # this one is the standard for geographic coordinates\n",
    "    \n",
    "ax = plt.axes(projection=proj)                  # sets the projection\n",
    "\n",
    "ax.coastlines(resolution='110m')                # the level of resolution to render the drawings, \n",
    "                                                # see documentation for more details\n",
    "    \n",
    "gl = ax.gridlines(crs=ccrs.PlateCarree()        \n",
    "                , draw_labels=True              # label coordinates\n",
    "                , linewidth=2                   # line properties can be changed similar to matplotlib\n",
    "                , color='gray'\n",
    "                , alpha=0.5\n",
    "                , linestyle='--')\n",
    "\n",
    "       \n",
    "gl.xlabel_style = {'size': 15}                                     # change label font sizes\n",
    "gl.ylabel_style = {'size': 15}\n",
    "\n",
    "ax.plot(networkdf.longitude, networkdf.latitude                                             # mark a known place to help us geo-locate ourselves\n",
    "        , 'bo'\n",
    "        , markersize=7\n",
    "        , transform=ccrs.Geodetic())\n",
    "\n",
    "# resolution = 1\n",
    "\n",
    "# stamen_terrain = cimgt.StamenTerrain()                       # create a stamen terrain instance\n",
    "# ax.add_image(stamen_terrain, resolution)                     # plot the image\n"
   ]
  },
  {
   "cell_type": "code",
   "execution_count": null,
   "id": "d88604a8-3e06-4150-82b2-5bec546aecbf",
   "metadata": {},
   "outputs": [],
   "source": []
  },
  {
   "cell_type": "code",
   "execution_count": null,
   "id": "afed97a0-b627-4393-808a-36a8430fe8cc",
   "metadata": {},
   "outputs": [],
   "source": []
  },
  {
   "cell_type": "code",
   "execution_count": null,
   "id": "ff499fad-b651-4cb6-9a48-d8628117531f",
   "metadata": {},
   "outputs": [],
   "source": []
  }
 ],
 "metadata": {
  "kernelspec": {
   "display_name": "Python [conda env:borehole] *",
   "language": "python",
   "name": "conda-env-borehole-py"
  },
  "language_info": {
   "codemirror_mode": {
    "name": "ipython",
    "version": 3
   },
   "file_extension": ".py",
   "mimetype": "text/x-python",
   "name": "python",
   "nbconvert_exporter": "python",
   "pygments_lexer": "ipython3",
   "version": "3.8.12"
  }
 },
 "nbformat": 4,
 "nbformat_minor": 5
}
