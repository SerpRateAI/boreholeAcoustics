{
 "cells": [
  {
   "cell_type": "code",
   "execution_count": 1,
   "id": "309bcc3d-1cf3-4235-b121-dfde30cf9518",
   "metadata": {},
   "outputs": [],
   "source": [
    "%matplotlib inline\n",
    "import obspy\n",
    "import matplotlib.pyplot as plt\n",
    "import numpy as np\n",
    "import pandas as pd\n",
    "import matplotlib.dates as mdates\n",
    "\n",
    "\n",
    "from hydrophone_data_processing import load, preprocessing, tempmatch\n",
    "\n",
    "import matplotlib.ticker as ticker\n",
    "\n",
    "class PrecisionDateFormatter(ticker.Formatter):\n",
    "    \"\"\"\n",
    "    Extend the `matplotlib.ticker.Formatter` class to allow for millisecond\n",
    "    precision when formatting a tick (in days since the epoch) with a\n",
    "    `~datetime.datetime.strftime` format string.\n",
    "\n",
    "    \"\"\"\n",
    "\n",
    "    def __init__(self, fmt, precision=3, tz=None):\n",
    "        \"\"\"\n",
    "        Parameters\n",
    "        ----------\n",
    "        fmt : str\n",
    "            `~datetime.datetime.strftime` format string.\n",
    "        \"\"\"\n",
    "        from matplotlib.dates import num2date\n",
    "        if tz is None:\n",
    "            from matplotlib.dates import _get_rc_timezone\n",
    "            tz = _get_rc_timezone()\n",
    "        self.num2date = num2date\n",
    "        self.fmt = fmt\n",
    "        self.tz = tz\n",
    "        self.precision = precision\n",
    "\n",
    "    def __call__(self, x, pos=0):\n",
    "        if x == 0:\n",
    "            raise ValueError(\"DateFormatter found a value of x=0, which is \"\n",
    "                             \"an illegal date; this usually occurs because \"\n",
    "                             \"you have not informed the axis that it is \"\n",
    "                             \"plotting dates, e.g., with ax.xaxis_date()\")\n",
    "\n",
    "        dt = self.num2date(x, self.tz)\n",
    "        ms = dt.strftime(\"%f\")[:self.precision]\n",
    "\n",
    "        return dt.strftime(self.fmt).format(ms=ms)\n",
    "\n",
    "    def set_tzinfo(self, tz):\n",
    "        self.tz = tz"
   ]
  },
  {
   "cell_type": "code",
   "execution_count": 2,
   "id": "04cbbd84-173a-4620-a2d1-918e4561eb6e",
   "metadata": {},
   "outputs": [],
   "source": [
    "detectfiles = '/media/sda/data/borehole/detections/*.csv'\n",
    "det = load.import_detections(detectfiles)\n",
    "det = det[det.similarity>0.95]"
   ]
  },
  {
   "cell_type": "code",
   "execution_count": 3,
   "id": "4ca44512-c7ee-4f53-b1e3-4e5bcea9987b",
   "metadata": {},
   "outputs": [],
   "source": [
    "paths = ['/media/sda/data/robdata/Hydrophones/DAYS/B00/B00.7F.01.GDH.2019.138'\n",
    "        ,'/media/sda/data/robdata/Hydrophones/DAYS/B00/B00.7F.02.GDH.2019.138'\n",
    "        ,'/media/sda/data/robdata/Hydrophones/DAYS/B00/B00.7F.03.GDH.2019.138'\n",
    "        ,'/media/sda/data/robdata/Hydrophones/DAYS/B00/B00.7F.04.GDH.2019.138'\n",
    "        ,'/media/sda/data/robdata/Hydrophones/DAYS/B00/B00.7F.05.GDH.2019.138'\n",
    "        ,'/media/sda/data/robdata/Hydrophones/DAYS/B00/B00.7F.06.GDH.2019.138']"
   ]
  },
  {
   "cell_type": "code",
   "execution_count": 4,
   "id": "bfd70cdd-1837-4b8f-8100-5703012ae6e4",
   "metadata": {},
   "outputs": [],
   "source": [
    "day138 = load.import_corrected_data_for_single_day(paths=paths)"
   ]
  },
  {
   "cell_type": "code",
   "execution_count": 5,
   "id": "c90b955d-fe46-44dd-872c-a76b0d6b8213",
   "metadata": {},
   "outputs": [],
   "source": [
    "starttime = obspy.UTCDateTime('2019-05-18T14:30:00')\n",
    "endtime = obspy.UTCDateTime('2019-05-18T14:40:00')\n",
    "tempraw = day138.copy().trim(starttime=starttime, endtime=endtime)\n",
    "tempraw = tempmatch.digest_data(tempraw)\n",
    "temp = tempmatch.make_template(hole='B')"
   ]
  },
  {
   "cell_type": "code",
   "execution_count": 6,
   "id": "216380ab-2853-4e80-b3b7-f7ef0a4992ca",
   "metadata": {},
   "outputs": [
    {
     "data": {
      "image/png": "[encoded data removed]",
      "text/plain": [
       "<Figure size 1080x360 with 1 Axes>"
      ]
     },
     "metadata": {
      "needs_background": "light"
     },
     "output_type": "display_data"
    }
   ],
   "source": [
    "fig, ax = plt.subplots(figsize=(15, 5))\n",
    "data = det[det.time.between('2019-05-18', '2019-05-19')].copy()\n",
    "\n",
    "x = data.time\n",
    "y = np.ones_like(x)*500\n",
    "ax.plot([x, x], [-y, y], color='limegreen', alpha=0.75)\n",
    "\n",
    "h1 = day138[0].slice(starttime=obspy.UTCDateTime('2019-05-18T11:40:00'))\n",
    "ax.plot(h1.times('matplotlib'), h1.data, color='black')\n",
    "\n",
    "ax.set_ylim(-100, 42)\n",
    "ax.set_ylabel('Amplitude (Pa)', fontsize=15)\n",
    "ax.xaxis.set_major_formatter(mdates.DateFormatter('%H:%M'))\n",
    "ax.tick_params(axis='x', labelsize=15)\n",
    "ax.tick_params(axis='y', labelsize=15)\n",
    "\n",
    "# fig.savefig('figures/bubbles_time_series_day138_AND_bubble_templates_with_reflections.pdf', bbox_inches='tight')"
   ]
  },
  {
   "cell_type": "code",
   "execution_count": 7,
   "id": "8ddf0c8f-5d41-4536-a648-e1016e658e14",
   "metadata": {},
   "outputs": [],
   "source": [
    "paths = load.create_datafiles(hole='b')"
   ]
  },
  {
   "cell_type": "code",
   "execution_count": 8,
   "id": "d926190b-577d-4fb0-8b0f-9efc59ac5d94",
   "metadata": {
    "scrolled": true,
    "tags": []
   },
   "outputs": [
    {
     "name": "stdout",
     "output_type": "stream",
     "text": [
      "nothing to see here\n",
      "nothing to see here\n",
      "nothing to see here\n",
      "nothing to see here\n",
      "nothing to see here\n",
      "nothing to see here\n",
      "nothing to see here\n",
      "nothing to see here\n",
      "nothing to see here\n",
      "nothing to see here\n",
      "nothing to see here\n",
      "nothing to see here\n",
      "nothing to see here\n",
      "nothing to see here\n",
      "nothing to see here\n",
      "nothing to see here\n",
      "nothing to see here\n",
      "nothing to see here\n",
      "nothing to see here\n",
      "nothing to see here\n",
      "nothing to see here\n",
      "nothing to see here\n",
      "nothing to see here\n",
      "nothing to see here\n",
      "nothing to see here\n",
      "nothing to see here\n",
      "nothing to see here\n",
      "nothing to see here\n",
      "nothing to see here\n",
      "nothing to see here\n",
      "nothing to see here\n",
      "nothing to see here\n",
      "nothing to see here\n",
      "nothing to see here\n",
      "nothing to see here\n",
      "nothing to see here\n",
      "nothing to see here\n",
      "nothing to see here\n",
      "nothing to see here\n",
      "nothing to see here\n",
      "nothing to see here\n",
      "nothing to see here\n",
      "nothing to see here\n",
      "nothing to see here\n",
      "nothing to see here\n",
      "nothing to see here\n",
      "nothing to see here\n",
      "nothing to see here\n",
      "nothing to see here\n",
      "nothing to see here\n",
      "nothing to see here\n",
      "nothing to see here\n",
      "nothing to see here\n",
      "nothing to see here\n",
      "nothing to see here\n",
      "nothing to see here\n",
      "nothing to see here\n",
      "nothing to see here\n",
      "nothing to see here\n",
      "nothing to see here\n",
      "nothing to see here\n",
      "nothing to see here\n",
      "nothing to see here\n",
      "nothing to see here\n",
      "nothing to see here\n",
      "nothing to see here\n",
      "nothing to see here\n",
      "nothing to see here\n",
      "nothing to see here\n",
      "nothing to see here\n",
      "nothing to see here\n",
      "nothing to see here\n",
      "nothing to see here\n",
      "nothing to see here\n",
      "nothing to see here\n",
      "nothing to see here\n",
      "nothing to see here\n",
      "nothing to see here\n",
      "nothing to see here\n",
      "nothing to see here\n",
      "nothing to see here\n",
      "nothing to see here\n",
      "nothing to see here\n",
      "nothing to see here\n",
      "nothing to see here\n",
      "nothing to see here\n",
      "nothing to see here\n",
      "nothing to see here\n",
      "nothing to see here\n",
      "nothing to see here\n",
      "nothing to see here\n",
      "nothing to see here\n",
      "nothing to see here\n",
      "nothing to see here\n",
      "nothing to see here\n",
      "nothing to see here\n",
      "nothing to see here\n",
      "nothing to see here\n",
      "nothing to see here\n",
      "nothing to see here\n",
      "nothing to see here\n",
      "nothing to see here\n",
      "nothing to see here\n",
      "nothing to see here\n",
      "nothing to see here\n",
      "nothing to see here\n",
      "nothing to see here\n",
      "nothing to see here\n",
      "nothing to see here\n",
      "nothing to see here\n",
      "nothing to see here\n",
      "nothing to see here\n",
      "nothing to see here\n",
      "nothing to see here\n",
      "nothing to see here\n",
      "nothing to see here\n",
      "nothing to see here\n",
      "nothing to see here\n",
      "nothing to see here\n",
      "nothing to see here\n",
      "nothing to see here\n",
      "nothing to see here\n",
      "nothing to see here\n",
      "nothing to see here\n",
      "nothing to see here\n",
      "nothing to see here\n",
      "nothing to see here\n",
      "nothing to see here\n",
      "nothing to see here\n",
      "nothing to see here\n",
      "nothing to see here\n",
      "nothing to see here\n",
      "nothing to see here\n",
      "nothing to see here\n",
      "nothing to see here\n",
      "nothing to see here\n",
      "nothing to see here\n",
      "nothing to see here\n",
      "nothing to see here\n",
      "nothing to see here\n",
      "nothing to see here\n",
      "nothing to see here\n",
      "nothing to see here\n",
      "nothing to see here\n",
      "nothing to see here\n",
      "nothing to see here\n",
      "nothing to see here\n",
      "nothing to see here\n",
      "nothing to see here\n",
      "nothing to see here\n",
      "nothing to see here\n",
      "nothing to see here\n",
      "nothing to see here\n",
      "nothing to see here\n",
      "nothing to see here\n",
      "nothing to see here\n",
      "nothing to see here\n",
      "nothing to see here\n",
      "nothing to see here\n",
      "nothing to see here\n",
      "nothing to see here\n",
      "nothing to see here\n",
      "nothing to see here\n",
      "nothing to see here\n",
      "nothing to see here\n",
      "nothing to see here\n",
      "nothing to see here\n",
      "nothing to see here\n",
      "nothing to see here\n",
      "nothing to see here\n",
      "nothing to see here\n",
      "nothing to see here\n",
      "nothing to see here\n",
      "nothing to see here\n",
      "nothing to see here\n",
      "nothing to see here\n",
      "nothing to see here\n",
      "nothing to see here\n",
      "nothing to see here\n",
      "nothing to see here\n",
      "nothing to see here\n",
      "nothing to see here\n",
      "nothing to see here\n",
      "nothing to see here\n",
      "nothing to see here\n",
      "nothing to see here\n",
      "nothing to see here\n",
      "nothing to see here\n",
      "nothing to see here\n",
      "nothing to see here\n",
      "nothing to see here\n",
      "nothing to see here\n",
      "nothing to see here\n",
      "nothing to see here\n",
      "nothing to see here\n",
      "nothing to see here\n",
      "nothing to see here\n",
      "nothing to see here\n",
      "nothing to see here\n",
      "nothing to see here\n",
      "nothing to see here\n",
      "nothing to see here\n",
      "nothing to see here\n",
      "nothing to see here\n",
      "nothing to see here\n",
      "nothing to see here\n",
      "nothing to see here\n",
      "nothing to see here\n",
      "nothing to see here\n",
      "nothing to see here\n",
      "nothing to see here\n",
      "nothing to see here\n",
      "nothing to see here\n",
      "nothing to see here\n",
      "nothing to see here\n",
      "nothing to see here\n",
      "nothing to see here\n",
      "nothing to see here\n",
      "nothing to see here\n",
      "nothing to see here\n",
      "nothing to see here\n",
      "nothing to see here\n",
      "nothing to see here\n",
      "nothing to see here\n",
      "nothing to see here\n",
      "nothing to see here\n",
      "nothing to see here\n",
      "nothing to see here\n",
      "nothing to see here\n",
      "nothing to see here\n",
      "nothing to see here\n",
      "nothing to see here\n",
      "nothing to see here\n",
      "nothing to see here\n",
      "nothing to see here\n",
      "nothing to see here\n",
      "nothing to see here\n",
      "nothing to see here\n",
      "nothing to see here\n",
      "nothing to see here\n",
      "nothing to see here\n",
      "nothing to see here\n",
      "nothing to see here\n",
      "nothing to see here\n",
      "nothing to see here\n",
      "nothing to see here\n",
      "nothing to see here\n",
      "nothing to see here\n",
      "nothing to see here\n",
      "nothing to see here\n",
      "nothing to see here\n",
      "nothing to see here\n",
      "nothing to see here\n",
      "nothing to see here\n",
      "nothing to see here\n",
      "nothing to see here\n",
      "nothing to see here\n",
      "nothing to see here\n",
      "nothing to see here\n",
      "nothing to see here\n",
      "nothing to see here\n",
      "nothing to see here\n",
      "nothing to see here\n",
      "nothing to see here\n",
      "nothing to see here\n",
      "nothing to see here\n",
      "nothing to see here\n",
      "nothing to see here\n",
      "nothing to see here\n",
      "nothing to see here\n",
      "nothing to see here\n"
     ]
    }
   ],
   "source": [
    "for p in sorted(paths):\n",
    "    st = load.import_corrected_data_for_single_day(paths=p)\n",
    "    # startdate = str(st[0].stats.starttime).split('T')[0]\n",
    "    # dets = det[det.time.between()]\n",
    "    start = pd.to_datetime(str(st[0].stats.starttime))\n",
    "    end = start + pd.Timedelta(1, unit='D')\n",
    "    dets = det[det.time.between(start, end)]\n",
    "    \n",
    "    if dets.shape[0]==0:\n",
    "        print('nothing to see here')\n",
    "    else:\n",
    "        \n",
    "        detx = dets.time\n",
    "        dety = np.ones_like(detx)*500\n",
    "        \n",
    "        h1 = st[0].copy()\n",
    "        h1x = h1.times('matplotlib')\n",
    "        h1y = h1.data\n",
    "        \n",
    "        fig, ax = plt.subplots(figsize=(15, 5))\n",
    "        ax.plot([detx, detx], [-dety, dety], color='limegreen')\n",
    "        ax.plot(h1x, h1y, color='black')\n",
    "        ax.set_ylim(h1y.min()-5, h1y.max()+5)\n",
    "        fig.savefig('detection_days/{}.pdf'.format(start), bbox_inches='tight')\n",
    "        plt.clf()\n",
    "        plt.close()\n",
    "        \n",
    "    # break"
   ]
  },
  {
   "cell_type": "code",
   "execution_count": 9,
   "id": "8f52c11f-c5a7-41cc-8bdd-460da863c512",
   "metadata": {},
   "outputs": [
    {
     "data": {
      "text/plain": [
       "'2020-02-03 00:00:01.574000+00:00'"
      ]
     },
     "execution_count": 9,
     "metadata": {},
     "output_type": "execute_result"
    }
   ],
   "source": [
    "str(start)"
   ]
  },
  {
   "cell_type": "code",
   "execution_count": 10,
   "id": "14e2649e-84e4-43f1-a188-c15323bf368a",
   "metadata": {},
   "outputs": [
    {
     "name": "stdout",
     "output_type": "stream",
     "text": [
      "it is finished\n"
     ]
    }
   ],
   "source": [
    "print('it is finished')"
   ]
  },
  {
   "cell_type": "code",
   "execution_count": 11,
   "id": "271c3dbd-ce80-4793-bde3-9669bcd2bda1",
   "metadata": {},
   "outputs": [
    {
     "data": {
      "text/plain": [
       "[<matplotlib.lines.Line2D at 0x7f47ab517340>]"
      ]
     },
     "execution_count": 11,
     "metadata": {},
     "output_type": "execute_result"
    },
    {
     "data": {
      "image/png": "[encoded data removed]",
      "text/plain": [
       "<Figure size 432x288 with 1 Axes>"
      ]
     },
     "metadata": {
      "needs_background": "light"
     },
     "output_type": "display_data"
    }
   ],
   "source": [
    "detx = det.time\n",
    "dety = np.ones_like(detx).cumsum()\n",
    "\n",
    "fig, ax = plt.subplots()\n",
    "\n",
    "ax.plot(detx, dety)"
   ]
  },
  {
   "cell_type": "code",
   "execution_count": 12,
   "id": "a9af329a-1775-4888-b9de-c14ddec142ec",
   "metadata": {},
   "outputs": [
    {
     "data": {
      "text/plain": [
       "datetime64[ns, UTC]"
      ]
     },
     "execution_count": 12,
     "metadata": {},
     "output_type": "execute_result"
    }
   ],
   "source": [
    "det.time.dtype"
   ]
  },
  {
   "cell_type": "code",
   "execution_count": 13,
   "id": "69a2b6a1-0f31-4da1-91fc-5ce7b4e57ea7",
   "metadata": {},
   "outputs": [
    {
     "data": {
      "text/html": [
       "<div>\n",
       "<style scoped>\n",
       "    .dataframe tbody tr th:only-of-type {\n",
       "        vertical-align: middle;\n",
       "    }\n",
       "\n",
       "    .dataframe tbody tr th {\n",
       "        vertical-align: top;\n",
       "    }\n",
       "\n",
       "    .dataframe thead th {\n",
       "        text-align: right;\n",
       "    }\n",
       "</style>\n",
       "<table border=\"1\" class=\"dataframe\">\n",
       "  <thead>\n",
       "    <tr style=\"text-align: right;\">\n",
       "      <th></th>\n",
       "      <th>time</th>\n",
       "      <th>similarity</th>\n",
       "      <th>template_id</th>\n",
       "    </tr>\n",
       "  </thead>\n",
       "  <tbody>\n",
       "  </tbody>\n",
       "</table>\n",
       "</div>"
      ],
      "text/plain": [
       "Empty DataFrame\n",
       "Columns: [time, similarity, template_id]\n",
       "Index: []"
      ]
     },
     "execution_count": 13,
     "metadata": {},
     "output_type": "execute_result"
    }
   ],
   "source": [
    "start = pd.to_datetime(str(st[0].stats.starttime))\n",
    "end = start + pd.Timedelta(1, unit='D')\n",
    "det[det.time.between(start, end)]"
   ]
  },
  {
   "cell_type": "code",
   "execution_count": 14,
   "id": "95d2b500-d6fe-47d8-b0d1-750db1f9555f",
   "metadata": {},
   "outputs": [
    {
     "data": {
      "text/plain": [
       "1     2019-05-18 11:47:16.325000+00:00\n",
       "2     2019-05-18 11:47:54.450000+00:00\n",
       "3     2019-05-18 11:49:19.032000+00:00\n",
       "4     2019-05-18 11:49:27.501000+00:00\n",
       "6     2019-05-18 11:49:32.924000+00:00\n",
       "                    ...               \n",
       "150   2019-10-01 12:39:40.077999+00:00\n",
       "182   2019-10-01 12:40:56.165999+00:00\n",
       "190   2019-10-01 12:41:19.478999+00:00\n",
       "198   2019-10-01 12:41:46.954999+00:00\n",
       "204   2019-10-01 12:42:21.594999+00:00\n",
       "Name: time, Length: 1329, dtype: datetime64[ns, UTC]"
      ]
     },
     "execution_count": 14,
     "metadata": {},
     "output_type": "execute_result"
    }
   ],
   "source": [
    "pd.to_datetime(det.time)"
   ]
  },
  {
   "cell_type": "code",
   "execution_count": 15,
   "id": "027283f6-439e-4bf3-a9d9-5228dbc045b3",
   "metadata": {},
   "outputs": [
    {
     "data": {
      "text/plain": [
       "pandas._libs.tslibs.timestamps.Timestamp"
      ]
     },
     "execution_count": 15,
     "metadata": {},
     "output_type": "execute_result"
    }
   ],
   "source": [
    "type(start)"
   ]
  },
  {
   "cell_type": "code",
   "execution_count": 16,
   "id": "a087d0f9-f24a-4304-bbf5-cfae56bb34e4",
   "metadata": {},
   "outputs": [
    {
     "data": {
      "text/plain": [
       "pandas._libs.tslibs.timestamps.Timestamp"
      ]
     },
     "execution_count": 16,
     "metadata": {},
     "output_type": "execute_result"
    }
   ],
   "source": [
    "type(end)"
   ]
  },
  {
   "cell_type": "code",
   "execution_count": 17,
   "id": "f1ac5e43-0422-40bf-93c5-82e5b5618606",
   "metadata": {},
   "outputs": [
    {
     "data": {
      "text/plain": [
       "datetime64[ns, UTC]"
      ]
     },
     "execution_count": 17,
     "metadata": {},
     "output_type": "execute_result"
    }
   ],
   "source": [
    "det.time.dtype"
   ]
  },
  {
   "cell_type": "code",
   "execution_count": 18,
   "id": "3e34472f-19e2-4796-8b5e-c0d9aaf4f9d9",
   "metadata": {},
   "outputs": [
    {
     "ename": "TypeError",
     "evalue": "Cannot localize tz-aware Timestamp, use tz_convert for conversions",
     "output_type": "error",
     "traceback": [
      "\u001b[0;31m---------------------------------------------------------------------------\u001b[0m",
      "\u001b[0;31mTypeError\u001b[0m                                 Traceback (most recent call last)",
      "\u001b[0;32m/tmp/ipykernel_716/1453655159.py\u001b[0m in \u001b[0;36m<module>\u001b[0;34m\u001b[0m\n\u001b[0;32m----> 1\u001b[0;31m \u001b[0mstart\u001b[0m\u001b[0;34m.\u001b[0m\u001b[0mtz_localize\u001b[0m\u001b[0;34m(\u001b[0m\u001b[0;34m'UTC'\u001b[0m\u001b[0;34m)\u001b[0m\u001b[0;34m\u001b[0m\u001b[0;34m\u001b[0m\u001b[0m\n\u001b[0m",
      "\u001b[0;32m~/anaconda3/envs/borehole/lib/python3.8/site-packages/pandas/_libs/tslibs/timestamps.pyx\u001b[0m in \u001b[0;36mpandas._libs.tslibs.timestamps.Timestamp.tz_localize\u001b[0;34m()\u001b[0m\n",
      "\u001b[0;31mTypeError\u001b[0m: Cannot localize tz-aware Timestamp, use tz_convert for conversions"
     ]
    }
   ],
   "source": [
    "start.tz_localize('UTC')"
   ]
  },
  {
   "cell_type": "code",
   "execution_count": null,
   "id": "e244048f-b0e0-47fc-976f-5af4b28de5ab",
   "metadata": {},
   "outputs": [],
   "source": [
    "start = np.datetime64('2019-05-18T00:00:00', 'ns').tz_localize('UTC')\n",
    "end = start + pd.Timedelta(1, unit='D')\n",
    "det[det.time.between(np.datetime64(start, '[ns]'), np.datetime64(end, '[ns]'))]"
   ]
  },
  {
   "cell_type": "code",
   "execution_count": null,
   "id": "a4e37b60-d4dd-4351-8cb3-782aa34a739c",
   "metadata": {},
   "outputs": [],
   "source": [
    "start = pd.to_datetime('2019-05-18T00:00:00')\n",
    "end = start + pd.Timedelta(1, unit='D')\n",
    "det[det.time.between(np.datetime64(start, '[ns]'), np.datetime64(end, '[ns]'))]"
   ]
  },
  {
   "cell_type": "code",
   "execution_count": null,
   "id": "1d0535b9-a2bb-4da1-8a4c-d83fef6115a9",
   "metadata": {},
   "outputs": [],
   "source": [
    "pd.to_datetime(pd.to_datetime(startdate)-pd.Timedelta(1, unit='D'))"
   ]
  }
 ],
 "metadata": {
  "kernelspec": {
   "display_name": "Python [conda env:borehole] *",
   "language": "python",
   "name": "conda-env-borehole-py"
  },
  "language_info": {
   "codemirror_mode": {
    "name": "ipython",
    "version": 3
   },
   "file_extension": ".py",
   "mimetype": "text/x-python",
   "name": "python",
   "nbconvert_exporter": "python",
   "pygments_lexer": "ipython3",
   "version": "3.8.12"
  }
 },
 "nbformat": 4,
 "nbformat_minor": 5
}
