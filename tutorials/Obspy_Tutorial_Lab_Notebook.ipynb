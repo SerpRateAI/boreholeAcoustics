{
 "cells": [
  {
   "cell_type": "markdown",
   "metadata": {},
   "source": [
    "# [Obspy](https://docs.obspy.org/): a Python Toolbox for seismology\n",
    "\n",
    "## Interactive Lab\n",
    "\n",
    "### Instructor: Sydney Dybing (sdybing@uoregon.edu)\n",
    "\n",
    "#### Dependencies needed: Obspy, Numpy, Matplotlib"
   ]
  },
  {
   "cell_type": "markdown",
   "metadata": {},
   "source": [
    "This is the lab notebook associated with my Obspy introduction lecture. As a reminder, here are a few more Obspy resources if there are additional functions you want to use, but I didn't cover: the official [Obspy Tutorial](https://docs.obspy.org/tutorial/index.html), and the [Seismo-Live Juypter Notebooks for Seismology](https://krischer.github.io/seismo_live_build/tree/index.html)."
   ]
  },
  {
   "cell_type": "markdown",
   "metadata": {},
   "source": [
    "## Download some earthquake data\n",
    "\n",
    "Let's practice using the IRIS client to download data from an earthquake.\n",
    "\n",
    "First: which tools do you need to import to be able to download data? If you need a reminder, check the \"Downloading data from online repositories\" section of the lecture notebook. If you missed it in the lecture, the full notebook has been posted to the #unit1-obspy channel on Slack. Don't forget to also set your client to IRIS."
   ]
  },
  {
   "cell_type": "code",
   "execution_count": null,
   "metadata": {},
   "outputs": [],
   "source": []
  },
  {
   "cell_type": "markdown",
   "metadata": {},
   "source": [
    "Now you'll want to choose the time for the data you want to download, and make it into a UTCDateTime object. You can use the same time from the lecture if you want, but it would be more interesting if you chose your own earthquake! \n",
    "\n",
    "Go to the [USGS Earthquake Browser](https://earthquake.usgs.gov/earthquakes/map/). You can just use one of the earthquakes that shows up on the default map if you want, or you can go to the right side of the page and click the gear, which allows you to change some of your earthquake search settings. If there's a particular earthquake from years ago that you want to use, you can click \"Search Earthquake Catalog\" for more advanced setting changes.\n",
    "\n",
    "Once you pick your earthquake, click its icon on the map, and then on the earthquake's header, which will show up in the bottom left corner of your screen. This will open the earthquake information page, where one of the boxes will be the \"Origin\" information. If you click this, you will be able to get the exact UTC date and time at which the earthquake occurred!\n",
    "\n",
    "If you are having trouble finding any of these things to click, I included pictures in this [Imgur album](https://imgur.com/a/e5p53lY). Hopefully that helps you out!\n",
    "\n",
    "If you got that far, your next job is to turn that UTC date and time into an actual UTCDateTIme object."
   ]
  },
  {
   "cell_type": "code",
   "execution_count": null,
   "metadata": {},
   "outputs": [],
   "source": []
  },
  {
   "cell_type": "markdown",
   "metadata": {},
   "source": [
    "Now set your start time and end time for the segment of data you want to download."
   ]
  },
  {
   "cell_type": "code",
   "execution_count": null,
   "metadata": {},
   "outputs": [],
   "source": []
  },
  {
   "cell_type": "markdown",
   "metadata": {},
   "source": [
    "Great! You now have your two bookend times for the data you want to download. Where do we want to get it from? Remember, you need to know a network, station, location (if there is one - sometimes locations are just blank. If this happens, you can just set loc to be a wildcard), and channel or channels.\n",
    "\n",
    "You can check out all of the available networks at IRIS MetaData Aggregator [here](http://ds.iris.edu/mda/). If you click on a network, you'll get a list of stations - and then if you click on a station, you get a list of locations and channels. \n",
    "\n",
    "If you're understandably overwhelmed by the sheer number of networks available, you can just start with [IU](http://ds.iris.edu/mda/IU/), which is the Global Seismic Network. There are stations all over the world, so you can just pick whichever is closest to the earthquake you chose, since the IU network page includes a link to a [map](http://ds.iris.edu/gmap/#network=IU&starttime=1988-01-01T00:00:00&endtime=2599-12-31T23:59:59&planet=earth) of all of the stations!\n",
    "\n",
    "Again, if you're having trouble figuring out what you're looking at on the IRIS MDA, check out this [Imgur album](https://imgur.com/a/YBxrAvT) with some screenshots!"
   ]
  },
  {
   "cell_type": "code",
   "execution_count": null,
   "metadata": {},
   "outputs": [],
   "source": []
  },
  {
   "cell_type": "markdown",
   "metadata": {},
   "source": [
    "Now use get_waveforms to download the data (make sure you attach the instrument response!), check out the metadata, and make a simple plot with the stream method we used many times in the lecture. \n",
    "\n",
    "If you get an error \"FDSNNoDataException: No data available for request.\n",
    "Detailed response of server:\", you either typed something wrong, the earthquake was so recent that data isn't available yet, or the instrument wasn't working. You can try to pick a different location or station, or a different earthquake. Experiment!"
   ]
  },
  {
   "cell_type": "code",
   "execution_count": null,
   "metadata": {},
   "outputs": [],
   "source": []
  },
  {
   "cell_type": "markdown",
   "metadata": {},
   "source": [
    "## Remove the instrument response\n",
    "\n",
    "Use the stream method remove_response to convert your earthquake data from digital counts to velocity, acceleration, or displacement (your choice!). Visit this section of the lecture notebook if you don't remember how, and remember to copy your original data stream first if you want to keep it and be able to plot them side by side to compare them!"
   ]
  },
  {
   "cell_type": "code",
   "execution_count": null,
   "metadata": {},
   "outputs": [],
   "source": []
  },
  {
   "cell_type": "markdown",
   "metadata": {},
   "source": [
    "## Write your downloaded data to a file\n",
    "\n",
    "Save your data to a file! You can choose to use miniSEED format like we did in lecture, or pick something else. You can choose to save each channel if you downloaded more than one to its own file if you want."
   ]
  },
  {
   "cell_type": "code",
   "execution_count": null,
   "metadata": {},
   "outputs": [],
   "source": []
  },
  {
   "cell_type": "markdown",
   "metadata": {},
   "source": [
    "Now read it back in as a stream to make sure it worked, check the metadata, and make a plot. Don't forget, you need to import read from Obspy first because we haven't used it yet!"
   ]
  },
  {
   "cell_type": "code",
   "execution_count": null,
   "metadata": {},
   "outputs": [],
   "source": []
  },
  {
   "cell_type": "markdown",
   "metadata": {},
   "source": [
    "## Try out some Stream and Trace Methods"
   ]
  },
  {
   "cell_type": "markdown",
   "metadata": {},
   "source": [
    "We worked with a few different public methods for stream and trace objects in the lecture. Try some of them out, changing options if you can! In lecture we filtered our data (try a different kind!), trimmed it, and changed the sampling rate (try a different method!), so you can go back to your notebook or the full one provided in Slack for a reminder of how to do these things if needed. \n",
    "\n",
    "In addition to practicing implementing these methods, pick another one from the lists in the documentation either for [traces](https://docs.obspy.org/packages/autogen/obspy.core.trace.Trace.html#obspy.core.trace.Trace) or [streams](https://docs.obspy.org/packages/autogen/obspy.core.stream.Stream.html) and see if you can get it working. \n",
    "\n",
    "Don't forget to copy your data stream before you implement any of these methods!\n",
    "\n",
    "### Filtering"
   ]
  },
  {
   "cell_type": "code",
   "execution_count": null,
   "metadata": {
    "scrolled": false
   },
   "outputs": [],
   "source": []
  },
  {
   "cell_type": "markdown",
   "metadata": {},
   "source": [
    "### Trimming data"
   ]
  },
  {
   "cell_type": "code",
   "execution_count": null,
   "metadata": {},
   "outputs": [],
   "source": []
  },
  {
   "cell_type": "markdown",
   "metadata": {},
   "source": [
    "### Changing sampling rates"
   ]
  },
  {
   "cell_type": "code",
   "execution_count": null,
   "metadata": {},
   "outputs": [],
   "source": []
  },
  {
   "cell_type": "markdown",
   "metadata": {},
   "source": [
    "## Practice plotting in Matplotlib\n",
    "\n",
    "The last thing I'd like you to practice implementing in this lab is to make some nicer plots of your seismic data using Matplotlib. As I mentioned in lecture, you can spend hours messing with plots to make them better, so this can be a very freeform section! Don't forget you'll need to import matplotlib.pyplot, as well as matplotlib.mdates if you want to put UTC times on your x-axis.\n",
    "\n",
    "Like we did in lecture, start by separating out the times and data into their Numpy arrays so you can plot them. Then use the lecture notebook (or full notebook on Slack) to plot the data and add whatever features you want. You can check out the [Matplotlib website](https://matplotlib.org/) if you want to make it more complicated than we did in lecture!"
   ]
  },
  {
   "cell_type": "code",
   "execution_count": null,
   "metadata": {},
   "outputs": [],
   "source": []
  },
  {
   "cell_type": "markdown",
   "metadata": {},
   "source": [
    "Thank you all for attending this session today, and I hope it was useful for you!"
   ]
  }
 ],
 "metadata": {
  "kernelspec": {
   "display_name": "Python 3",
   "language": "python",
   "name": "python3"
  },
  "language_info": {
   "codemirror_mode": {
    "name": "ipython",
    "version": 3
   },
   "file_extension": ".py",
   "mimetype": "text/x-python",
   "name": "python",
   "nbconvert_exporter": "python",
   "pygments_lexer": "ipython3",
   "version": "3.6.10"
  }
 },
 "nbformat": 4,
 "nbformat_minor": 2
}
