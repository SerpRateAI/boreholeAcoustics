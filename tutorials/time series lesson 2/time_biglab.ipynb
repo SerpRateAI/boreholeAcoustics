{
 "cells": [
  {
   "cell_type": "markdown",
   "metadata": {},
   "source": [
    "# Time Series Analysis and Fourier Methods\n",
    "\n",
    "\n",
    "## ROSES Tutorial Outline\n",
    "\n",
    "1. Some initial intuition on the FFT\n",
    "2. Computing the PSD (or amplitude spectrum)\n",
    "3. Good Practices to dealing with Fourier transforms\n",
    "## Expected for you to do\n",
    "4. Noise Spectra\n",
    "5. Cross-Correlation\n",
    "6. Deconvolution\n",
    "7. Spectral Ratios\n",
    "\n",
    "### Instructor: Germán A. Prieto (gaprietogo@unal.edu.co)"
   ]
  },
  {
   "cell_type": "markdown",
   "metadata": {},
   "source": [
    "We spent some time reviewing some of the basics of the Fourier Transform and how that applies to finite length and discretely sampled data using the DFT.\n",
    "\n",
    "Let's start with some basic intuition and learning how most algorithms of the FFT store the data once the FFT is computed. As we have seen in previous lectures, Obspy and probably other seismology packages will be able to do some of this stuff with a single command (compute the PSD, do cross-correlations, etc.), but in many cases, if you want to work with large amounts of data or do something different, you will probably have to implement the codes yourself. \n",
    "\n",
    "And it is fun to do it yourself anyways. Just don't reinvent the wheel (the FFT has been around for at least 60 years) so don't need to write the FFT yourself. \n"
   ]
  },
  {
   "cell_type": "markdown",
   "metadata": {},
   "source": [
    "#### Import basic packages that we will use. "
   ]
  },
  {
   "cell_type": "code",
   "execution_count": 4,
   "metadata": {},
   "outputs": [],
   "source": [
    "import numpy as np\n",
    "import scipy\n",
    "import scipy.signal as signal\n",
    "import matplotlib.pyplot as plt\n",
    "import obspy\n",
    "from obspy.clients.fdsn import Client"
   ]
  },
  {
   "cell_type": "markdown",
   "metadata": {},
   "source": [
    "## Basic example of the FFT\n",
    "\n",
    "As you might recall, the FT of a real signal, is symmetric $\\hat{f}(\\nu)=\\hat{f}(-\\nu)$.\n",
    "\n",
    "Let's get two real-valued random sequences, with 10 and 11 points, zero-mean and $\\sigma=0.5$."
   ]
  },
  {
   "cell_type": "code",
   "execution_count": 2,
   "metadata": {},
   "outputs": [
    {
     "name": "stdout",
     "output_type": "stream",
     "text": [
      "[[ 0.4358265 ]\n",
      " [ 0.15917783]\n",
      " [ 0.40839107]\n",
      " [ 0.559568  ]\n",
      " [ 0.5329567 ]\n",
      " [-0.42254204]\n",
      " [-0.76088651]\n",
      " [ 0.1476025 ]\n",
      " [-0.43865156]\n",
      " [-0.09704144]]\n",
      "\n",
      "[[ 0.34287533]\n",
      " [-0.06665487]\n",
      " [ 0.07668794]\n",
      " [ 0.41350465]\n",
      " [ 0.00888212]\n",
      " [ 0.27280307]\n",
      " [ 0.01824188]\n",
      " [ 0.4719906 ]\n",
      " [ 0.54557189]\n",
      " [ 0.07165114]\n",
      " [ 0.09849388]]\n"
     ]
    }
   ],
   "source": [
    "nx = 10\n",
    "ny = 11\n",
    "x = np.random.normal(0.0,0.5,(nx,1))\n",
    "y = np.random.normal(0.0,0.5,(ny,1))\n",
    "print(x)\n",
    "print('')\n",
    "print(y)"
   ]
  },
  {
   "cell_type": "markdown",
   "metadata": {},
   "source": [
    "#### Compute the FFT of each sequence.\n",
    "\n",
    "Notice the symmetry of the transformed data. Also, how the first point ($\\nu=0$ Hz) is real, while the rest is complex.\n",
    "\n",
    "Notice also the difference between the FFT of an even sequence ($x$) and an odd sequence ($y$). "
   ]
  },
  {
   "cell_type": "code",
   "execution_count": 1,
   "metadata": {},
   "outputs": [
    {
     "name": "stdout",
     "output_type": "stream",
     "text": [
      "Ellipsis\n",
      "\n",
      "Ellipsis\n"
     ]
    }
   ],
   "source": [
    "fx = ...\n",
    "fy = ...\n",
    "print(fx)\n",
    "print('')\n",
    "print(fy)"
   ]
  },
  {
   "cell_type": "markdown",
   "metadata": {},
   "source": [
    "Scipy, and in general the FFTW algorithm, have a version of the FFT for a real sequence, \n",
    "that returns the transform only with the unique number of Fourier coefficients needed to describe the signal. \n",
    "\n",
    "For $nx$ even, the number of frequency points is $nf=(nx/2)+1$, that is $nx=10$, $nf=6$\n",
    "\n",
    "For $ny$ odd,  the number of frequency points is $nf=(nx+1)/2$, that is $ny=11$, $nf=6$\n"
   ]
  },
  {
   "cell_type": "markdown",
   "metadata": {},
   "source": [
    "If you are dealing with a complex time series, or if you want to do correlations, coherence, deconvolution, you need to keep the entire fourier transform. I recommend to use the `scipy.fft.fft` and just keep in mind $nf$ if you want to plot the PSD. "
   ]
  },
  {
   "cell_type": "code",
   "execution_count": 4,
   "metadata": {},
   "outputs": [
    {
     "name": "stdout",
     "output_type": "stream",
     "text": [
      "[[ 0.52440107+0.j        ]\n",
      " [ 0.86515832-2.10849176j]\n",
      " [-0.58558023+0.73110709j]\n",
      " [ 1.36532735-0.73417061j]\n",
      " [ 0.35659086+1.02368298j]\n",
      " [-0.16912864+0.j        ]]\n",
      "[[ 2.25404764+0.j        ]\n",
      " [-0.29936878+0.49370335j]\n",
      " [-0.48485965-0.21155815j]\n",
      " [ 0.80837062+0.10274504j]\n",
      " [ 0.76725134+0.56322732j]\n",
      " [-0.03260304-0.52416778j]]\n"
     ]
    }
   ],
   "source": [
    "# The rfft version\n",
    "fx = ...\n",
    "fy = ...\n",
    "print(fx)\n",
    "print(fy)"
   ]
  },
  {
   "cell_type": "markdown",
   "metadata": {},
   "source": [
    "#### What frequency is represented for the FFT\n",
    "\n",
    "We did not discuss this in the lecture part, but `scipy` (as well as `numpy`) have functions to help you with that.\n",
    "\n",
    "The Nyquist frequency in our example with $dt=1.0 s$, is $f_{nyq}=0.5=1/dt$. \n",
    "\n",
    "Note that the frequency array is slightly different, even though $nf$ is the same for both. "
   ]
  },
  {
   "cell_type": "code",
   "execution_count": 5,
   "metadata": {},
   "outputs": [
    {
     "name": "stdout",
     "output_type": "stream",
     "text": [
      "[ 0.   0.1  0.2  0.3  0.4 -0.5 -0.4 -0.3 -0.2 -0.1]\n",
      "[ 0.          0.09090909  0.18181818  0.27272727  0.36363636  0.45454545\n",
      " -0.45454545 -0.36363636 -0.27272727 -0.18181818 -0.09090909]\n"
     ]
    }
   ],
   "source": [
    "# Define corresponding frequency vector\n",
    "freqx = ...\n",
    "freqy = ...\n",
    "print(freqx)\n",
    "print(freqy)"
   ]
  },
  {
   "cell_type": "code",
   "execution_count": 6,
   "metadata": {},
   "outputs": [
    {
     "name": "stdout",
     "output_type": "stream",
     "text": [
      "[0.    0.001 0.002]\n"
     ]
    }
   ],
   "source": [
    "# Freq vector for a long time series\n",
    "freq_long = scipy.fft.fftfreq(100*nx)\n",
    "print(freq_long[0:3])"
   ]
  },
  {
   "cell_type": "markdown",
   "metadata": {},
   "source": [
    "#### Key things to remember\n",
    "\n",
    "The FFT algorithm (as implemented) displays first the positive frequencies, and then the negative frequencies.\n",
    "\n",
    "Scipy puts the Nyquist frequency as a negative frequency (don't know why???).\n",
    "\n",
    "If the number of points of the time series $nx$ is greater, the frequency sampling $df$ is smaller. **Be careful, smaller frequency sampling, does not mean higher resolution** for example when applying zero-padding.   "
   ]
  },
  {
   "cell_type": "markdown",
   "metadata": {},
   "source": [
    "## Example 1. A synthetic example\n",
    "\n",
    "The toy signal has a fundamental frequency (that WE NEED to determine), inmersed in a background colored-spectra.\n",
    "The toy signal really has 10 *realizations*, in the code below one of the *realizations* is randomly selected.\n",
    "\n",
    "**To avoid complications in explaining the codes, I normalize the spectrum in a quick way (could be better). One should always do it**\n",
    "\n",
    "$$ var(x) = \\int_{-1/2}^{1/2} S(f) df = \\sum_{n=0}^{nfft} S(f) * df$$\n",
    "\n",
    "You should have access to the data ``test1.dat`` thru Slack."
   ]
  },
  {
   "cell_type": "code",
   "execution_count": 22,
   "metadata": {},
   "outputs": [
    {
     "data": {
      "image/png": "[encoded data removed]",
      "text/plain": [
       "<Figure size 432x288 with 1 Axes>"
      ]
     },
     "metadata": {
      "needs_background": "light"
     },
     "output_type": "display_data"
    }
   ],
   "source": [
    "# Load data. \n",
    "x       = np.loadtxt('test1.dat')\n",
    "npts    = np.size(x,0)\n",
    "ntr     = np.size(x,1)\n",
    "dt      = 1.0  # 1 sps\n",
    "t       = np.arange(0,npts)*dt\n",
    "\n",
    "# randomly select one trace\n",
    "itr     = np.random.randint(0,ntr)\n",
    "x2      = x[:,itr]\n",
    "xvar    = np.var(x2)\n",
    "\n",
    "# Plot time series\n",
    "fig = plt.figure()\n",
    "ax  = fig.add_subplot(111)\n",
    "ax.plot(t,x2)\n",
    "ax.set_title('Selected Trace '+str(itr));\n",
    "ax.set_xlabel('Time (s)')\n",
    "ax.set_ylabel('Amplitude (A.U.)');"
   ]
  },
  {
   "cell_type": "markdown",
   "metadata": {},
   "source": [
    "**Calculate Periodogram (with box car taper)**\n",
    "\n",
    "You should never really do this, but just so you know, this is how one would do it. "
   ]
  },
  {
   "cell_type": "code",
   "execution_count": 21,
   "metadata": {},
   "outputs": [
    {
     "ename": "SyntaxError",
     "evalue": "invalid syntax (<ipython-input-21-1a9c05f90050>, line 4)",
     "output_type": "error",
     "traceback": [
      "\u001b[0;36m  File \u001b[0;32m\"<ipython-input-21-1a9c05f90050>\"\u001b[0;36m, line \u001b[0;32m4\u001b[0m\n\u001b[0;31m    ...nf\u001b[0m\n\u001b[0m        ^\u001b[0m\n\u001b[0;31mSyntaxError\u001b[0m\u001b[0;31m:\u001b[0m invalid syntax\n"
     ]
    }
   ],
   "source": [
    "#---------------------------------------\n",
    "# Check if data is even or odd, define nf\n",
    "#---------------------------------------\n",
    "...nf\n",
    "\n",
    "#---------------------------------------\n",
    "# Get frequency vector\n",
    "#---------------------------------------\n",
    "...freq\n",
    "\n",
    "#---------------------------------------\n",
    "# calculate Periodogram (***** bad idea, never do *****)\n",
    "#---------------------------------------\n",
    "...Sp\n",
    "\n",
    "fig = plt.figure()\n",
    "ax = fig.add_subplot(111)\n",
    "ax.semilogy(freq,Sp)\n",
    "ax.set_title('Trace = '+str(itr))\n",
    "ax.set_xlabel('Frequency (Hz)')\n",
    "ax.set_ylabel('$A^2/$Hz');"
   ]
  },
  {
   "cell_type": "markdown",
   "metadata": {},
   "source": [
    "**Calculate tapered periodogram (with a hanning taper, or other)**\n",
    "\n",
    "In this case I will use a Hanning taper, but you could easily apply other tapers, including\n",
    "the prolate tapers (used in the multitaper algorithm). \n",
    "for example ``dpss,v = signal.windows.dpss(nwin, tbp, Kmax=kspec, return_ratios=True)``"
   ]
  },
  {
   "cell_type": "code",
   "execution_count": 20,
   "metadata": {},
   "outputs": [
    {
     "ename": "NameError",
     "evalue": "name 'df' is not defined",
     "output_type": "error",
     "traceback": [
      "\u001b[0;31m---------------------------------------------------------------------------\u001b[0m",
      "\u001b[0;31mNameError\u001b[0m                                 Traceback (most recent call last)",
      "\u001b[0;32m<ipython-input-20-96d5f3ab2241>\u001b[0m in \u001b[0;36m<module>\u001b[0;34m\u001b[0m\n\u001b[1;32m     10\u001b[0m \u001b[0mSh\u001b[0m   \u001b[0;34m=\u001b[0m \u001b[0mscipy\u001b[0m\u001b[0;34m.\u001b[0m\u001b[0mfft\u001b[0m\u001b[0;34m.\u001b[0m\u001b[0mfft\u001b[0m\u001b[0;34m(\u001b[0m\u001b[0mxhan\u001b[0m\u001b[0;34m,\u001b[0m\u001b[0mnpts\u001b[0m\u001b[0;34m)\u001b[0m\u001b[0;34m\u001b[0m\u001b[0;34m\u001b[0m\u001b[0m\n\u001b[1;32m     11\u001b[0m \u001b[0mSh\u001b[0m   \u001b[0;34m=\u001b[0m \u001b[0mabs\u001b[0m\u001b[0;34m(\u001b[0m\u001b[0mSh\u001b[0m\u001b[0;34m)\u001b[0m\u001b[0;34m**\u001b[0m\u001b[0;36m2\u001b[0m\u001b[0;34m\u001b[0m\u001b[0;34m\u001b[0m\u001b[0m\n\u001b[0;32m---> 12\u001b[0;31m \u001b[0mSsc\u001b[0m  \u001b[0;34m=\u001b[0m \u001b[0mxvar\u001b[0m\u001b[0;34m/\u001b[0m\u001b[0;34m(\u001b[0m\u001b[0mnp\u001b[0m\u001b[0;34m.\u001b[0m\u001b[0msum\u001b[0m\u001b[0;34m(\u001b[0m\u001b[0mSh\u001b[0m\u001b[0;34m)\u001b[0m\u001b[0;34m*\u001b[0m\u001b[0mdf\u001b[0m\u001b[0;34m)\u001b[0m\u001b[0;34m\u001b[0m\u001b[0;34m\u001b[0m\u001b[0m\n\u001b[0m\u001b[1;32m     13\u001b[0m \u001b[0mSh\u001b[0m   \u001b[0;34m=\u001b[0m \u001b[0mSh\u001b[0m\u001b[0;34m*\u001b[0m\u001b[0mSsc\u001b[0m\u001b[0;34m\u001b[0m\u001b[0;34m\u001b[0m\u001b[0m\n\u001b[1;32m     14\u001b[0m \u001b[0mSh\u001b[0m   \u001b[0;34m=\u001b[0m \u001b[0;36m2\u001b[0m\u001b[0;34m*\u001b[0m\u001b[0mSh\u001b[0m\u001b[0;34m[\u001b[0m\u001b[0;36m0\u001b[0m\u001b[0;34m:\u001b[0m\u001b[0mnf\u001b[0m\u001b[0;34m]\u001b[0m\u001b[0;34m\u001b[0m\u001b[0;34m\u001b[0m\u001b[0m\n",
      "\u001b[0;31mNameError\u001b[0m: name 'df' is not defined"
     ]
    }
   ],
   "source": [
    "#---------------------------------------\n",
    "# Calculate hanning, and taper series\n",
    "#---------------------------------------\n",
    "hann = np.hanning(npts)\n",
    "xhan = x2*hann\n",
    "\n",
    "#---------------------------------------\n",
    "# PSD and normalize\n",
    "#---------------------------------------\n",
    "Sh   = scipy.fft.fft(xhan,npts)\n",
    "Sh   = abs(Sh)**2\n",
    "Ssc  = xvar/(np.sum(Sh)*df)\n",
    "Sh   = Sh*Ssc\n",
    "Sh   = 2*Sh[0:nf]\n",
    "\n",
    "fig = plt.figure()\n",
    "ax = fig.add_subplot(111)\n",
    "ax.semilogy(freq,Sp)\n",
    "ax.semilogy(freq,Sh)\n",
    "ax.set_title('Trace = '+str(itr));\n",
    "ax.set_xlabel('Frequency (Hz)')\n",
    "ax.set_ylabel('$A^2/$Hz');"
   ]
  },
  {
   "cell_type": "markdown",
   "metadata": {},
   "source": [
    "## Notes\n",
    "\n",
    "Here it is clear why _spectral leakage_ is a real problem. You need to avoid using the raw periodogram. \n",
    "\n",
    "**Good Practice**\n",
    "- Detrend the signal (or at least demean the signal).\n",
    "- Always use a taper.\n",
    "- Zero padding is a good idea. But pad after tapering, not before. \n",
    "- Always (done roughly here) normalize your power spectrum, to get the right units. The integral of the PSD is equal to the variance of the time series.  \n",
    "- Amplitude spectrum = $\\sqrt{S(f)*T}$, where $T$ is the length of the time series in seconds. \n",
    "- Spectra units \n",
    "    - PSD - $units^2/Hz$\n",
    "    - Amplitude spectrum $units/Hz=units.s$. \n"
   ]
  },
  {
   "cell_type": "markdown",
   "metadata": {},
   "source": [
    "## Example 3. Seismology example - Normal modes for Sumatra Earthquake\n",
    "\n",
    "The Sumatran earthquake of December 2004, excited many of the normal modes of the Earth. The modes of our planet are of the order of $m$Hz, with examples \n",
    "- $_0S_0$, having a frequency 0.81 $m$Hz, period of about 20 min.\n",
    "- $_0S_4$, having a frequency 0.62 $m$Hz, period of about 26 min.\n",
    "- $_0S_3$, having a frequency 0.47 $m$Hz, period of about 37 min.\n",
    "\n",
    "You should have access to the data ``sumatra.mseed`` thru Slack, but if not, just remove comments to download the data. "
   ]
  },
  {
   "cell_type": "code",
   "execution_count": 10,
   "metadata": {},
   "outputs": [
    {
     "name": "stdout",
     "output_type": "stream",
     "text": [
      "1 Trace(s) in Stream:\n",
      "IU.ANMO.00.LHZ | 2004-12-26T00:00:00.485600Z - 2004-12-29T23:59:59.485600Z | 1.0 Hz, 345600 samples\n"
     ]
    },
    {
     "data": {
      "image/png": "[encoded data removed]",
      "text/plain": [
       "<Figure size 800x250 with 1 Axes>"
      ]
     },
     "metadata": {
      "needs_background": "light"
     },
     "output_type": "display_data"
    }
   ],
   "source": [
    "# SDownload data from IRIS (only if you need to)\n",
    "#client = Client(\"IRIS\")\n",
    "#t1 = obspy.UTCDateTime(\"2004-12-26\")\n",
    "#starttime = t1\n",
    "#endtime = t1 + 4*24*60*60  # 4 days of data\n",
    "#net = \"IU\"\n",
    "#sta = \"ANMO\"\n",
    "#loc = \"00\"\n",
    "#chan = \"LHZ\"\n",
    "#st = client.get_waveforms(net, sta, loc, chan, starttime, endtime, attach_response = True)\n",
    "#st.remove_response(output = 'DISP')\n",
    "#st = st.write(\"sumatra.mseed\", format=\"MSEED\")  \n",
    "\n",
    "st = obspy.read('sumatra.mseed')\n",
    "\n",
    "print(st)\n",
    "st.plot()\n"
   ]
  },
  {
   "cell_type": "markdown",
   "metadata": {},
   "source": [
    "## Note\n",
    "\n",
    "We will try to do all our calculations ourselves, not with the default from Obspy. Pull out the data and info needed.\n",
    "\n",
    "**Here we will pad with zeros to double the length of the signal**. This does not improve the resolution of the FFT, but avoids the cycling issue of the FFT. This is especially important for correlations, deconvolution, etc. "
   ]
  },
  {
   "cell_type": "code",
   "execution_count": 11,
   "metadata": {},
   "outputs": [
    {
     "name": "stdout",
     "output_type": "stream",
     "text": [
      "345600 691200 345601\n"
     ]
    }
   ],
   "source": [
    "#-------------------------------------------\n",
    "# Get the data, npts, and padd ing length\n",
    "#-------------------------------------------\n",
    "\n",
    "tr    = st[0]\n",
    "data  = tr.data\n",
    "dt    = tr.stats.delta\n",
    "npts  = tr.stats.npts\n",
    "npts2 = 2*npts\n",
    "nf    = int(npts2/2 + 1)\n"
   ]
  },
  {
   "cell_type": "code",
   "execution_count": 6,
   "metadata": {},
   "outputs": [
    {
     "ename": "SyntaxError",
     "evalue": "invalid syntax (<ipython-input-6-e99c4359aa77>, line 9)",
     "output_type": "error",
     "traceback": [
      "\u001b[0;36m  File \u001b[0;32m\"<ipython-input-6-e99c4359aa77>\"\u001b[0;36m, line \u001b[0;32m9\u001b[0m\n\u001b[0;31m    ...Px3\u001b[0m\n\u001b[0m         ^\u001b[0m\n\u001b[0;31mSyntaxError\u001b[0m\u001b[0;31m:\u001b[0m invalid syntax\n"
     ]
    }
   ],
   "source": [
    "x3    = signal.detrend(data,type='constant')\n",
    "xvar3 = np.var(x3)\n",
    "Tall  = dt*npts2   # the length of the series\n",
    "\n",
    "#---------------------------------------------------------------\n",
    "# Calculate hanning PSD, pad to twice the length\n",
    "#---------------------------------------------------------------\n",
    "hann= np.hanning(npts)\n",
    "...Px3\n",
    "\n",
    "#---------------------------------------\n",
    "# Get amplitude spectrum\n",
    "#---------------------------------------\n",
    "...Ax3 \n",
    "\n",
    "#---------------------------------------\n",
    "# Frequency vector\n",
    "#---------------------------------------\n",
    "freq3 = scipy.fft.fftfreq(npts2,dt)\n",
    "freq3 = freq3[0:nf]\n",
    "\n",
    "fig = plt.figure()\n",
    "ax = fig.add_subplot(211)\n",
    "ax.plot(freq3*1000,Ax3)\n",
    "ax.set_xlim(0.2 , 1)\n",
    "ax.set_xlabel('Frequency (mHz)')\n",
    "ax.set_ylabel('Amplitude (m/Hz)')\n",
    "..."
   ]
  },
  {
   "cell_type": "markdown",
   "metadata": {},
   "source": [
    "# $\\color{red}{\\text{Homework Lab starts here}}$"
   ]
  }
 ],
 "metadata": {
  "kernelspec": {
   "display_name": "Python 3",
   "language": "python",
   "name": "python3"
  },
  "language_info": {
   "codemirror_mode": {
    "name": "ipython",
    "version": 3
   },
   "file_extension": ".py",
   "mimetype": "text/x-python",
   "name": "python",
   "nbconvert_exporter": "python",
   "pygments_lexer": "ipython3",
   "version": "3.7.6"
  }
 },
 "nbformat": 4,
 "nbformat_minor": 4
}
