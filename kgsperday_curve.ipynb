{
 "cells": [
  {
   "cell_type": "code",
   "execution_count": 1,
   "id": "5828cfcc-195b-4ace-acc8-17fb8aca499c",
   "metadata": {},
   "outputs": [],
   "source": [
    "%matplotlib inline\n",
    "import pandas as pd\n",
    "import matplotlib.pyplot as plt\n",
    "import numpy as np\n",
    "\n",
    "from hydrophone_data_processing import load"
   ]
  },
  {
   "cell_type": "code",
   "execution_count": 6,
   "id": "d566bd16-8923-4f9a-88bb-21a964196195",
   "metadata": {},
   "outputs": [
    {
     "data": {
      "text/plain": [
       "<AxesSubplot:>"
      ]
     },
     "execution_count": 6,
     "metadata": {},
     "output_type": "execute_result"
    },
    {
     "data": {
      "image/png": "[encoded data removed]",
      "text/plain": [
       "<Figure size 1080x360 with 1 Axes>"
      ]
     },
     "metadata": {
      "needs_background": "light"
     },
     "output_type": "display_data"
    }
   ],
   "source": [
    "# import bubbles\n",
    "bubbles = load.import_bubble_detections('/media/sda/data/borehole/detections/*.csv')\n",
    "bubbles.reset_index(inplace=True)\n",
    "bubbles.ones.cumsum().plot(figsize=(15, 5))\n",
    "# bubbles[bubbles.similarity>0.6].ones.cumsum().plot(figsize=(15, 5))"
   ]
  },
  {
   "cell_type": "code",
   "execution_count": 8,
   "id": "33e4f846-9cdf-4012-94c8-4f4b3caff6e4",
   "metadata": {},
   "outputs": [],
   "source": [
    "bubbles = bubbles[bubbles.time<'2020-01-05']"
   ]
  },
  {
   "cell_type": "code",
   "execution_count": 10,
   "id": "eddd7099-00a3-4c37-bcbf-247bc0cc9161",
   "metadata": {},
   "outputs": [],
   "source": [
    "def minnaert_radius(freq, depth):\n",
    "    # https://www.engineeringtoolbox.com/specific-heat-capacity-gases-d_159.html\n",
    "    gamma = 1.405 # taken from website above for 300K\n",
    "    rho = 997 # kg/m^3\n",
    "    PA = (rho * 9.8 * depth) + 100000 # kg/(m*s^2)\n",
    "    # PA/rho => PA(kg*m^-1*s^-2) / rho(kg * m^-3) =? PA(...) * rho(kg^-1 * m^3) => m^2 * s^-2\n",
    "    return (2 * np.pi * freq)**(-1) * ((3 * gamma * PA)/(rho))**(1/2)"
   ]
  },
  {
   "cell_type": "code",
   "execution_count": 25,
   "id": "4e627c35-febe-47b6-821f-d55bc6150e63",
   "metadata": {
    "scrolled": true,
    "tags": []
   },
   "outputs": [
    {
     "name": "stderr",
     "output_type": "stream",
     "text": [
      "/tmp/ipykernel_23773/2831204333.py:1: SettingWithCopyWarning: \n",
      "A value is trying to be set on a copy of a slice from a DataFrame.\n",
      "Try using .loc[row_indexer,col_indexer] = value instead\n",
      "\n",
      "See the caveats in the documentation: https://pandas.pydata.org/pandas-docs/stable/user_guide/indexing.html#returning-a-view-versus-a-copy\n",
      "  bubbles['min_radius'] = minnaert_radius(freq=250, depth=15)\n",
      "/tmp/ipykernel_23773/2831204333.py:2: SettingWithCopyWarning: \n",
      "A value is trying to be set on a copy of a slice from a DataFrame.\n",
      "Try using .loc[row_indexer,col_indexer] = value instead\n",
      "\n",
      "See the caveats in the documentation: https://pandas.pydata.org/pandas-docs/stable/user_guide/indexing.html#returning-a-view-versus-a-copy\n",
      "  bubbles['max_radius'] = minnaert_radius(freq=200, depth=15)\n",
      "/tmp/ipykernel_23773/2831204333.py:3: SettingWithCopyWarning: \n",
      "A value is trying to be set on a copy of a slice from a DataFrame.\n",
      "Try using .loc[row_indexer,col_indexer] = value instead\n",
      "\n",
      "See the caveats in the documentation: https://pandas.pydata.org/pandas-docs/stable/user_guide/indexing.html#returning-a-view-versus-a-copy\n",
      "  bubbles['mean_radius'] = np.mean([minnaert_radius(freq=200, depth=15), minnaert_radius(freq=250, depth=15)])\n",
      "/tmp/ipykernel_23773/2831204333.py:6: SettingWithCopyWarning: \n",
      "A value is trying to be set on a copy of a slice from a DataFrame.\n",
      "Try using .loc[row_indexer,col_indexer] = value instead\n",
      "\n",
      "See the caveats in the documentation: https://pandas.pydata.org/pandas-docs/stable/user_guide/indexing.html#returning-a-view-versus-a-copy\n",
      "  bubbles['volume_min'] = bubbles.min_radius.apply(volume)\n",
      "/tmp/ipykernel_23773/2831204333.py:7: SettingWithCopyWarning: \n",
      "A value is trying to be set on a copy of a slice from a DataFrame.\n",
      "Try using .loc[row_indexer,col_indexer] = value instead\n",
      "\n",
      "See the caveats in the documentation: https://pandas.pydata.org/pandas-docs/stable/user_guide/indexing.html#returning-a-view-versus-a-copy\n",
      "  bubbles['volume_max'] = bubbles.max_radius.apply(volume)\n",
      "/tmp/ipykernel_23773/2831204333.py:8: SettingWithCopyWarning: \n",
      "A value is trying to be set on a copy of a slice from a DataFrame.\n",
      "Try using .loc[row_indexer,col_indexer] = value instead\n",
      "\n",
      "See the caveats in the documentation: https://pandas.pydata.org/pandas-docs/stable/user_guide/indexing.html#returning-a-view-versus-a-copy\n",
      "  bubbles['volume_mean'] = bubbles.mean_radius.apply(volume)\n",
      "/tmp/ipykernel_23773/2831204333.py:25: SettingWithCopyWarning: \n",
      "A value is trying to be set on a copy of a slice from a DataFrame.\n",
      "Try using .loc[row_indexer,col_indexer] = value instead\n",
      "\n",
      "See the caveats in the documentation: https://pandas.pydata.org/pandas-docs/stable/user_guide/indexing.html#returning-a-view-versus-a-copy\n",
      "  bubbles['mass_min'] = bubbles.volume_min.apply(lambda v: get_mass(pressure=(997 * 9.8 * 15) + 100000, volume=v))\n",
      "/tmp/ipykernel_23773/2831204333.py:26: SettingWithCopyWarning: \n",
      "A value is trying to be set on a copy of a slice from a DataFrame.\n",
      "Try using .loc[row_indexer,col_indexer] = value instead\n",
      "\n",
      "See the caveats in the documentation: https://pandas.pydata.org/pandas-docs/stable/user_guide/indexing.html#returning-a-view-versus-a-copy\n",
      "  bubbles['mass_max'] = bubbles.volume_max.apply(lambda v: get_mass(pressure=(997 * 9.8 * 15) + 100000, volume=v))\n",
      "/tmp/ipykernel_23773/2831204333.py:27: SettingWithCopyWarning: \n",
      "A value is trying to be set on a copy of a slice from a DataFrame.\n",
      "Try using .loc[row_indexer,col_indexer] = value instead\n",
      "\n",
      "See the caveats in the documentation: https://pandas.pydata.org/pandas-docs/stable/user_guide/indexing.html#returning-a-view-versus-a-copy\n",
      "  bubbles['mass_mean'] = bubbles.volume_mean.apply(lambda v: get_mass(pressure=(997 * 9.8 * 15) + 100000, volume=v))\n"
     ]
    }
   ],
   "source": [
    "bubbles['min_radius'] = minnaert_radius(freq=250, depth=15)\n",
    "bubbles['max_radius'] = minnaert_radius(freq=200, depth=15)\n",
    "bubbles['mean_radius'] = np.mean([minnaert_radius(freq=200, depth=15), minnaert_radius(freq=250, depth=15)])\n",
    "\n",
    "volume = lambda r: (4/3)*np.pi*r**3\n",
    "bubbles['volume_min'] = bubbles.min_radius.apply(volume)\n",
    "bubbles['volume_max'] = bubbles.max_radius.apply(volume)\n",
    "bubbles['volume_mean'] = bubbles.mean_radius.apply(volume)\n",
    "\n",
    "def ideal_gas_n(pressure, volume):\n",
    "    P = pressure\n",
    "    V = volume\n",
    "    R = 8.31446261815324 # J K^−1 mol^−1\n",
    "    T = 34.75 + 273.15 # K\n",
    "    n = (P * V)/(R * T)\n",
    "    return n\n",
    "\n",
    "\n",
    "def get_mass(pressure, volume):\n",
    "    n = ideal_gas_n(pressure, volume)\n",
    "    avogadros_n = 6.0221409e23\n",
    "    h2_mass = 1.6735575e-27\n",
    "    return n * avogadros_n * h2_mass\n",
    "\n",
    "bubbles['mass_min'] = bubbles.volume_min.apply(lambda v: get_mass(pressure=(997 * 9.8 * 15) + 100000, volume=v))\n",
    "bubbles['mass_max'] = bubbles.volume_max.apply(lambda v: get_mass(pressure=(997 * 9.8 * 15) + 100000, volume=v))\n",
    "bubbles['mass_mean'] = bubbles.volume_mean.apply(lambda v: get_mass(pressure=(997 * 9.8 * 15) + 100000, volume=v))"
   ]
  },
  {
   "cell_type": "code",
   "execution_count": 24,
   "id": "fd820f2e-3067-46c2-bd2c-d56e2807b38f",
   "metadata": {},
   "outputs": [
    {
     "data": {
      "text/plain": [
       "3.5325280213872181e-06"
      ]
     },
     "execution_count": 24,
     "metadata": {},
     "output_type": "execute_result"
    }
   ],
   "source": [
    "# ideal_gas_n(pressure=(997*9.81*15)+100000\n",
    "#             , volume=bubbles.volume_min[0]) * 6.022e23 * 1.6735575e-27"
   ]
  },
  {
   "cell_type": "code",
   "execution_count": 27,
   "id": "31709ef4-c3f8-4f36-a29a-14ec047147b6",
   "metadata": {},
   "outputs": [],
   "source": [
    "bubbles.set_index('time', inplace=True)"
   ]
  },
  {
   "cell_type": "code",
   "execution_count": 34,
   "id": "4f5ce464-e0a0-42dc-b6e9-0cbf1cbb50cd",
   "metadata": {},
   "outputs": [
    {
     "data": {
      "text/plain": [
       "<AxesSubplot:xlabel='time'>"
      ]
     },
     "execution_count": 34,
     "metadata": {},
     "output_type": "execute_result"
    },
    {
     "data": {
      "image/png": "[encoded data removed]",
      "text/plain": [
       "<Figure size 432x288 with 1 Axes>"
      ]
     },
     "metadata": {
      "needs_background": "light"
     },
     "output_type": "display_data"
    }
   ],
   "source": [
    "bubbles.resample('D').mean().mass_min.plot()"
   ]
  },
  {
   "cell_type": "code",
   "execution_count": 40,
   "id": "626b62bf-c847-40a6-b542-cf313740a1ea",
   "metadata": {},
   "outputs": [
    {
     "data": {
      "text/html": [
       "<div>\n",
       "<style scoped>\n",
       "    .dataframe tbody tr th:only-of-type {\n",
       "        vertical-align: middle;\n",
       "    }\n",
       "\n",
       "    .dataframe tbody tr th {\n",
       "        vertical-align: top;\n",
       "    }\n",
       "\n",
       "    .dataframe thead th {\n",
       "        text-align: right;\n",
       "    }\n",
       "</style>\n",
       "<table border=\"1\" class=\"dataframe\">\n",
       "  <thead>\n",
       "    <tr style=\"text-align: right;\">\n",
       "      <th></th>\n",
       "      <th>similarity</th>\n",
       "      <th>template_id</th>\n",
       "      <th>ones</th>\n",
       "      <th>min_radius</th>\n",
       "      <th>max_radius</th>\n",
       "      <th>mean_radius</th>\n",
       "      <th>volume_min</th>\n",
       "      <th>volume_max</th>\n",
       "      <th>volume_mean</th>\n",
       "      <th>mass_min</th>\n",
       "      <th>mass_max</th>\n",
       "      <th>mass_mean</th>\n",
       "    </tr>\n",
       "    <tr>\n",
       "      <th>time</th>\n",
       "      <th></th>\n",
       "      <th></th>\n",
       "      <th></th>\n",
       "      <th></th>\n",
       "      <th></th>\n",
       "      <th></th>\n",
       "      <th></th>\n",
       "      <th></th>\n",
       "      <th></th>\n",
       "      <th></th>\n",
       "      <th></th>\n",
       "      <th></th>\n",
       "    </tr>\n",
       "  </thead>\n",
       "  <tbody>\n",
       "    <tr>\n",
       "      <th>2019-05-02 08:34:05.219999+00:00</th>\n",
       "      <td>0.879116</td>\n",
       "      <td>0</td>\n",
       "      <td>1</td>\n",
       "      <td>0.020554</td>\n",
       "      <td>0.025692</td>\n",
       "      <td>0.023123</td>\n",
       "      <td>0.000036</td>\n",
       "      <td>0.000071</td>\n",
       "      <td>0.000052</td>\n",
       "      <td>0.000004</td>\n",
       "      <td>0.000007</td>\n",
       "      <td>0.000005</td>\n",
       "    </tr>\n",
       "    <tr>\n",
       "      <th>2019-05-02 08:34:56.173999+00:00</th>\n",
       "      <td>0.850827</td>\n",
       "      <td>0</td>\n",
       "      <td>1</td>\n",
       "      <td>0.020554</td>\n",
       "      <td>0.025692</td>\n",
       "      <td>0.023123</td>\n",
       "      <td>0.000036</td>\n",
       "      <td>0.000071</td>\n",
       "      <td>0.000052</td>\n",
       "      <td>0.000004</td>\n",
       "      <td>0.000007</td>\n",
       "      <td>0.000005</td>\n",
       "    </tr>\n",
       "    <tr>\n",
       "      <th>2019-05-02 10:27:54.056999+00:00</th>\n",
       "      <td>0.860519</td>\n",
       "      <td>0</td>\n",
       "      <td>1</td>\n",
       "      <td>0.020554</td>\n",
       "      <td>0.025692</td>\n",
       "      <td>0.023123</td>\n",
       "      <td>0.000036</td>\n",
       "      <td>0.000071</td>\n",
       "      <td>0.000052</td>\n",
       "      <td>0.000004</td>\n",
       "      <td>0.000007</td>\n",
       "      <td>0.000005</td>\n",
       "    </tr>\n",
       "    <tr>\n",
       "      <th>2019-05-02 12:08:43.894999+00:00</th>\n",
       "      <td>0.906010</td>\n",
       "      <td>0</td>\n",
       "      <td>1</td>\n",
       "      <td>0.020554</td>\n",
       "      <td>0.025692</td>\n",
       "      <td>0.023123</td>\n",
       "      <td>0.000036</td>\n",
       "      <td>0.000071</td>\n",
       "      <td>0.000052</td>\n",
       "      <td>0.000004</td>\n",
       "      <td>0.000007</td>\n",
       "      <td>0.000005</td>\n",
       "    </tr>\n",
       "    <tr>\n",
       "      <th>2019-05-02 12:09:15.602999+00:00</th>\n",
       "      <td>0.814478</td>\n",
       "      <td>0</td>\n",
       "      <td>1</td>\n",
       "      <td>0.020554</td>\n",
       "      <td>0.025692</td>\n",
       "      <td>0.023123</td>\n",
       "      <td>0.000036</td>\n",
       "      <td>0.000071</td>\n",
       "      <td>0.000052</td>\n",
       "      <td>0.000004</td>\n",
       "      <td>0.000007</td>\n",
       "      <td>0.000005</td>\n",
       "    </tr>\n",
       "    <tr>\n",
       "      <th>...</th>\n",
       "      <td>...</td>\n",
       "      <td>...</td>\n",
       "      <td>...</td>\n",
       "      <td>...</td>\n",
       "      <td>...</td>\n",
       "      <td>...</td>\n",
       "      <td>...</td>\n",
       "      <td>...</td>\n",
       "      <td>...</td>\n",
       "      <td>...</td>\n",
       "      <td>...</td>\n",
       "      <td>...</td>\n",
       "    </tr>\n",
       "    <tr>\n",
       "      <th>2020-01-03 18:29:23.570000+00:00</th>\n",
       "      <td>0.822584</td>\n",
       "      <td>0</td>\n",
       "      <td>1</td>\n",
       "      <td>0.020554</td>\n",
       "      <td>0.025692</td>\n",
       "      <td>0.023123</td>\n",
       "      <td>0.000036</td>\n",
       "      <td>0.000071</td>\n",
       "      <td>0.000052</td>\n",
       "      <td>0.000004</td>\n",
       "      <td>0.000007</td>\n",
       "      <td>0.000005</td>\n",
       "    </tr>\n",
       "    <tr>\n",
       "      <th>2020-01-03 22:32:33.584000+00:00</th>\n",
       "      <td>0.835991</td>\n",
       "      <td>0</td>\n",
       "      <td>1</td>\n",
       "      <td>0.020554</td>\n",
       "      <td>0.025692</td>\n",
       "      <td>0.023123</td>\n",
       "      <td>0.000036</td>\n",
       "      <td>0.000071</td>\n",
       "      <td>0.000052</td>\n",
       "      <td>0.000004</td>\n",
       "      <td>0.000007</td>\n",
       "      <td>0.000005</td>\n",
       "    </tr>\n",
       "    <tr>\n",
       "      <th>2020-01-04 01:17:46.247000+00:00</th>\n",
       "      <td>0.835233</td>\n",
       "      <td>0</td>\n",
       "      <td>1</td>\n",
       "      <td>0.020554</td>\n",
       "      <td>0.025692</td>\n",
       "      <td>0.023123</td>\n",
       "      <td>0.000036</td>\n",
       "      <td>0.000071</td>\n",
       "      <td>0.000052</td>\n",
       "      <td>0.000004</td>\n",
       "      <td>0.000007</td>\n",
       "      <td>0.000005</td>\n",
       "    </tr>\n",
       "    <tr>\n",
       "      <th>2020-01-04 07:15:49.200000+00:00</th>\n",
       "      <td>0.801911</td>\n",
       "      <td>0</td>\n",
       "      <td>1</td>\n",
       "      <td>0.020554</td>\n",
       "      <td>0.025692</td>\n",
       "      <td>0.023123</td>\n",
       "      <td>0.000036</td>\n",
       "      <td>0.000071</td>\n",
       "      <td>0.000052</td>\n",
       "      <td>0.000004</td>\n",
       "      <td>0.000007</td>\n",
       "      <td>0.000005</td>\n",
       "    </tr>\n",
       "    <tr>\n",
       "      <th>2020-01-04 21:13:40.225000+00:00</th>\n",
       "      <td>0.809913</td>\n",
       "      <td>0</td>\n",
       "      <td>1</td>\n",
       "      <td>0.020554</td>\n",
       "      <td>0.025692</td>\n",
       "      <td>0.023123</td>\n",
       "      <td>0.000036</td>\n",
       "      <td>0.000071</td>\n",
       "      <td>0.000052</td>\n",
       "      <td>0.000004</td>\n",
       "      <td>0.000007</td>\n",
       "      <td>0.000005</td>\n",
       "    </tr>\n",
       "  </tbody>\n",
       "</table>\n",
       "<p>2387 rows × 12 columns</p>\n",
       "</div>"
      ],
      "text/plain": [
       "                                  similarity  template_id  ones  min_radius  \\\n",
       "time                                                                          \n",
       "2019-05-02 08:34:05.219999+00:00    0.879116            0     1    0.020554   \n",
       "2019-05-02 08:34:56.173999+00:00    0.850827            0     1    0.020554   \n",
       "2019-05-02 10:27:54.056999+00:00    0.860519            0     1    0.020554   \n",
       "2019-05-02 12:08:43.894999+00:00    0.906010            0     1    0.020554   \n",
       "2019-05-02 12:09:15.602999+00:00    0.814478            0     1    0.020554   \n",
       "...                                      ...          ...   ...         ...   \n",
       "2020-01-03 18:29:23.570000+00:00    0.822584            0     1    0.020554   \n",
       "2020-01-03 22:32:33.584000+00:00    0.835991            0     1    0.020554   \n",
       "2020-01-04 01:17:46.247000+00:00    0.835233            0     1    0.020554   \n",
       "2020-01-04 07:15:49.200000+00:00    0.801911            0     1    0.020554   \n",
       "2020-01-04 21:13:40.225000+00:00    0.809913            0     1    0.020554   \n",
       "\n",
       "                                  max_radius  mean_radius  volume_min  \\\n",
       "time                                                                    \n",
       "2019-05-02 08:34:05.219999+00:00    0.025692     0.023123    0.000036   \n",
       "2019-05-02 08:34:56.173999+00:00    0.025692     0.023123    0.000036   \n",
       "2019-05-02 10:27:54.056999+00:00    0.025692     0.023123    0.000036   \n",
       "2019-05-02 12:08:43.894999+00:00    0.025692     0.023123    0.000036   \n",
       "2019-05-02 12:09:15.602999+00:00    0.025692     0.023123    0.000036   \n",
       "...                                      ...          ...         ...   \n",
       "2020-01-03 18:29:23.570000+00:00    0.025692     0.023123    0.000036   \n",
       "2020-01-03 22:32:33.584000+00:00    0.025692     0.023123    0.000036   \n",
       "2020-01-04 01:17:46.247000+00:00    0.025692     0.023123    0.000036   \n",
       "2020-01-04 07:15:49.200000+00:00    0.025692     0.023123    0.000036   \n",
       "2020-01-04 21:13:40.225000+00:00    0.025692     0.023123    0.000036   \n",
       "\n",
       "                                  volume_max  volume_mean  mass_min  mass_max  \\\n",
       "time                                                                            \n",
       "2019-05-02 08:34:05.219999+00:00    0.000071     0.000052  0.000004  0.000007   \n",
       "2019-05-02 08:34:56.173999+00:00    0.000071     0.000052  0.000004  0.000007   \n",
       "2019-05-02 10:27:54.056999+00:00    0.000071     0.000052  0.000004  0.000007   \n",
       "2019-05-02 12:08:43.894999+00:00    0.000071     0.000052  0.000004  0.000007   \n",
       "2019-05-02 12:09:15.602999+00:00    0.000071     0.000052  0.000004  0.000007   \n",
       "...                                      ...          ...       ...       ...   \n",
       "2020-01-03 18:29:23.570000+00:00    0.000071     0.000052  0.000004  0.000007   \n",
       "2020-01-03 22:32:33.584000+00:00    0.000071     0.000052  0.000004  0.000007   \n",
       "2020-01-04 01:17:46.247000+00:00    0.000071     0.000052  0.000004  0.000007   \n",
       "2020-01-04 07:15:49.200000+00:00    0.000071     0.000052  0.000004  0.000007   \n",
       "2020-01-04 21:13:40.225000+00:00    0.000071     0.000052  0.000004  0.000007   \n",
       "\n",
       "                                  mass_mean  \n",
       "time                                         \n",
       "2019-05-02 08:34:05.219999+00:00   0.000005  \n",
       "2019-05-02 08:34:56.173999+00:00   0.000005  \n",
       "2019-05-02 10:27:54.056999+00:00   0.000005  \n",
       "2019-05-02 12:08:43.894999+00:00   0.000005  \n",
       "2019-05-02 12:09:15.602999+00:00   0.000005  \n",
       "...                                     ...  \n",
       "2020-01-03 18:29:23.570000+00:00   0.000005  \n",
       "2020-01-03 22:32:33.584000+00:00   0.000005  \n",
       "2020-01-04 01:17:46.247000+00:00   0.000005  \n",
       "2020-01-04 07:15:49.200000+00:00   0.000005  \n",
       "2020-01-04 21:13:40.225000+00:00   0.000005  \n",
       "\n",
       "[2387 rows x 12 columns]"
      ]
     },
     "execution_count": 40,
     "metadata": {},
     "output_type": "execute_result"
    }
   ],
   "source": [
    "bubbles"
   ]
  },
  {
   "cell_type": "code",
   "execution_count": 69,
   "id": "d8c1808a-68de-4f5d-ad8b-2f1ef411f617",
   "metadata": {},
   "outputs": [
    {
     "data": {
      "image/png": "[encoded data removed]",
      "text/plain": [
       "<Figure size 1080x216 with 1 Axes>"
      ]
     },
     "metadata": {
      "needs_background": "light"
     },
     "output_type": "display_data"
    }
   ],
   "source": [
    "fig, ax = plt.subplots(figsize=(15, 3))\n",
    "max_mass = bubbles.reset_index().groupby(pd.Grouper(key='time', freq='D')).sum().mass_max\n",
    "max_mass = max_mass/86400 # convert to kg/s\n",
    "x = max_mass.index\n",
    "y = max_mass.values\n",
    "\n",
    "ax.plot(x, y, color='red', linewidth=2)\n",
    "ax.set_ylabel('Mass flux (kg/s)', fontsize=15)\n",
    "ax.set_xticks(x[::14])\n",
    "ax.set_xticklabels([str(d).split(' ')[0] for d in x[::14]], rotation=90)\n",
    "fig.savefig('figures/fig2bottom.pdf', bbox_inches='tight')"
   ]
  },
  {
   "cell_type": "code",
   "execution_count": 53,
   "id": "d2d97056-009b-49fc-b20d-acff44182028",
   "metadata": {},
   "outputs": [
    {
     "data": {
      "text/plain": [
       "time\n",
       "2019-05-02 00:00:00+00:00    4.788505e-10\n",
       "2019-05-03 00:00:00+00:00    0.000000e+00\n",
       "2019-05-04 00:00:00+00:00    0.000000e+00\n",
       "2019-05-05 00:00:00+00:00    3.990421e-10\n",
       "2019-05-06 00:00:00+00:00    5.586590e-10\n",
       "                                 ...     \n",
       "2019-12-31 00:00:00+00:00    3.990421e-10\n",
       "2020-01-01 00:00:00+00:00    3.192337e-10\n",
       "2020-01-02 00:00:00+00:00    3.192337e-10\n",
       "2020-01-03 00:00:00+00:00    3.192337e-10\n",
       "2020-01-04 00:00:00+00:00    2.394253e-10\n",
       "Freq: D, Name: mass_max, Length: 248, dtype: float64"
      ]
     },
     "execution_count": 53,
     "metadata": {},
     "output_type": "execute_result"
    }
   ],
   "source": [
    "max_mass/86400"
   ]
  },
  {
   "cell_type": "code",
   "execution_count": 52,
   "id": "23c7793a-e935-48ca-a1ca-39cb19a30a63",
   "metadata": {},
   "outputs": [
    {
     "data": {
      "text/plain": [
       "86400"
      ]
     },
     "execution_count": 52,
     "metadata": {},
     "output_type": "execute_result"
    }
   ],
   "source": [
    "60*60*24"
   ]
  }
 ],
 "metadata": {
  "kernelspec": {
   "display_name": "Python [conda env:borehole] *",
   "language": "python",
   "name": "conda-env-borehole-py"
  },
  "language_info": {
   "codemirror_mode": {
    "name": "ipython",
    "version": 3
   },
   "file_extension": ".py",
   "mimetype": "text/x-python",
   "name": "python",
   "nbconvert_exporter": "python",
   "pygments_lexer": "ipython3",
   "version": "3.8.12"
  }
 },
 "nbformat": 4,
 "nbformat_minor": 5
}
