{
 "cells": [
  {
   "cell_type": "code",
   "execution_count": 1,
   "id": "fcf6594f-5ac1-4e2d-8669-2ed850b280c4",
   "metadata": {},
   "outputs": [],
   "source": [
    "%matplotlib inline\n",
    "from data_processing import load"
   ]
  }
 ],
 "metadata": {
  "kernelspec": {
   "display_name": "Python [conda env:borehole] *",
   "language": "python",
   "name": "conda-env-borehole-py"
  },
  "language_info": {
   "codemirror_mode": {
    "name": "ipython",
    "version": 3
   },
   "file_extension": ".py",
   "mimetype": "text/x-python",
   "name": "python",
   "nbconvert_exporter": "python",
   "pygments_lexer": "ipython3",
   "version": "3.8.12"
  }
 },
 "nbformat": 4,
 "nbformat_minor": 5
}
